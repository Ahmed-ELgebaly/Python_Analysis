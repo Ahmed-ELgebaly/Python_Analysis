{
 "cells": [
  {
   "cell_type": "code",
   "execution_count": 1,
   "id": "6dc31019",
   "metadata": {
    "_cell_guid": "b1076dfc-b9ad-4769-8c92-a6c4dae69d19",
    "_uuid": "8f2839f25d086af736a60e9eeb907d3b93b6e0e5",
    "execution": {
     "iopub.execute_input": "2022-07-13T13:38:47.399941Z",
     "iopub.status.busy": "2022-07-13T13:38:47.398945Z",
     "iopub.status.idle": "2022-07-13T13:38:47.421577Z",
     "shell.execute_reply": "2022-07-13T13:38:47.420184Z"
    },
    "papermill": {
     "duration": 0.038137,
     "end_time": "2022-07-13T13:38:47.425085",
     "exception": false,
     "start_time": "2022-07-13T13:38:47.386948",
     "status": "completed"
    },
    "tags": []
   },
   "outputs": [
    {
     "name": "stdout",
     "output_type": "stream",
     "text": [
      "/kaggle/input/human-resources-data-set/HRDataset_v14.csv\n"
     ]
    }
   ],
   "source": [
    "# This Python 3 environment comes with many helpful analytics libraries installed\n",
    "# It is defined by the kaggle/python Docker image: https://github.com/kaggle/docker-python\n",
    "# For example, here's several helpful packages to load\n",
    "\n",
    "import numpy as np # linear algebra\n",
    "import pandas as pd # data processing, CSV file I/O (e.g. pd.read_csv)\n",
    "\n",
    "# Input data files are available in the read-only \"../input/\" directory\n",
    "# For example, running this (by clicking run or pressing Shift+Enter) will list all files under the input directory\n",
    "\n",
    "import os\n",
    "for dirname, _, filenames in os.walk('/kaggle/input'):\n",
    "    for filename in filenames:\n",
    "        print(os.path.join(dirname, filename))\n",
    "\n",
    "# You can write up to 20GB to the current directory (/kaggle/working/) that gets preserved as output when you create a version using \"Save & Run All\" \n",
    "# You can also write temporary files to /kaggle/temp/, but they won't be saved outside of the current session"
   ]
  },
  {
   "cell_type": "markdown",
   "id": "475fde9c",
   "metadata": {
    "papermill": {
     "duration": 0.009606,
     "end_time": "2022-07-13T13:38:47.445238",
     "exception": false,
     "start_time": "2022-07-13T13:38:47.435632",
     "status": "completed"
    },
    "tags": []
   },
   "source": [
    "# import packages\n"
   ]
  },
  {
   "cell_type": "code",
   "execution_count": 2,
   "id": "85c886d2",
   "metadata": {
    "execution": {
     "iopub.execute_input": "2022-07-13T13:38:47.465456Z",
     "iopub.status.busy": "2022-07-13T13:38:47.464845Z",
     "iopub.status.idle": "2022-07-13T13:38:50.790906Z",
     "shell.execute_reply": "2022-07-13T13:38:50.789500Z"
    },
    "papermill": {
     "duration": 3.339324,
     "end_time": "2022-07-13T13:38:50.793707",
     "exception": false,
     "start_time": "2022-07-13T13:38:47.454383",
     "status": "completed"
    },
    "tags": []
   },
   "outputs": [],
   "source": [
    "import numpy as np\n",
    "import pandas as pd\n",
    "import seaborn as sns\n",
    "import matplotlib.pyplot as plt \n",
    "import scipy.stats\n",
    "from math import sqrt\n",
    "import statsmodels.api as sm\n",
    "import os\n",
    "import math\n",
    "from datetime import datetime\n",
    "from datetime import timedelta\n",
    "import plotly.express as px\n"
   ]
  },
  {
   "cell_type": "code",
   "execution_count": 3,
   "id": "acea1d41",
   "metadata": {
    "execution": {
     "iopub.execute_input": "2022-07-13T13:38:50.815071Z",
     "iopub.status.busy": "2022-07-13T13:38:50.813904Z",
     "iopub.status.idle": "2022-07-13T13:38:50.833662Z",
     "shell.execute_reply": "2022-07-13T13:38:50.832555Z"
    },
    "papermill": {
     "duration": 0.033077,
     "end_time": "2022-07-13T13:38:50.836482",
     "exception": false,
     "start_time": "2022-07-13T13:38:50.803405",
     "status": "completed"
    },
    "tags": []
   },
   "outputs": [],
   "source": [
    "df=pd.read_csv('../input/human-resources-data-set/HRDataset_v14.csv')"
   ]
  },
  {
   "cell_type": "markdown",
   "id": "79e64d8c",
   "metadata": {
    "papermill": {
     "duration": 0.008807,
     "end_time": "2022-07-13T13:38:50.854513",
     "exception": false,
     "start_time": "2022-07-13T13:38:50.845706",
     "status": "completed"
    },
    "tags": []
   },
   "source": [
    "# explore the data"
   ]
  },
  {
   "cell_type": "code",
   "execution_count": 4,
   "id": "57620d04",
   "metadata": {
    "execution": {
     "iopub.execute_input": "2022-07-13T13:38:50.874478Z",
     "iopub.status.busy": "2022-07-13T13:38:50.874066Z",
     "iopub.status.idle": "2022-07-13T13:38:50.910062Z",
     "shell.execute_reply": "2022-07-13T13:38:50.908773Z"
    },
    "papermill": {
     "duration": 0.048899,
     "end_time": "2022-07-13T13:38:50.912496",
     "exception": false,
     "start_time": "2022-07-13T13:38:50.863597",
     "status": "completed"
    },
    "tags": []
   },
   "outputs": [
    {
     "data": {
      "text/html": [
       "<div>\n",
       "<style scoped>\n",
       "    .dataframe tbody tr th:only-of-type {\n",
       "        vertical-align: middle;\n",
       "    }\n",
       "\n",
       "    .dataframe tbody tr th {\n",
       "        vertical-align: top;\n",
       "    }\n",
       "\n",
       "    .dataframe thead th {\n",
       "        text-align: right;\n",
       "    }\n",
       "</style>\n",
       "<table border=\"1\" class=\"dataframe\">\n",
       "  <thead>\n",
       "    <tr style=\"text-align: right;\">\n",
       "      <th></th>\n",
       "      <th>Employee_Name</th>\n",
       "      <th>EmpID</th>\n",
       "      <th>MarriedID</th>\n",
       "      <th>MaritalStatusID</th>\n",
       "      <th>GenderID</th>\n",
       "      <th>EmpStatusID</th>\n",
       "      <th>DeptID</th>\n",
       "      <th>PerfScoreID</th>\n",
       "      <th>FromDiversityJobFairID</th>\n",
       "      <th>Salary</th>\n",
       "      <th>...</th>\n",
       "      <th>ManagerName</th>\n",
       "      <th>ManagerID</th>\n",
       "      <th>RecruitmentSource</th>\n",
       "      <th>PerformanceScore</th>\n",
       "      <th>EngagementSurvey</th>\n",
       "      <th>EmpSatisfaction</th>\n",
       "      <th>SpecialProjectsCount</th>\n",
       "      <th>LastPerformanceReview_Date</th>\n",
       "      <th>DaysLateLast30</th>\n",
       "      <th>Absences</th>\n",
       "    </tr>\n",
       "  </thead>\n",
       "  <tbody>\n",
       "    <tr>\n",
       "      <th>0</th>\n",
       "      <td>Adinolfi, Wilson  K</td>\n",
       "      <td>10026</td>\n",
       "      <td>0</td>\n",
       "      <td>0</td>\n",
       "      <td>1</td>\n",
       "      <td>1</td>\n",
       "      <td>5</td>\n",
       "      <td>4</td>\n",
       "      <td>0</td>\n",
       "      <td>62506</td>\n",
       "      <td>...</td>\n",
       "      <td>Michael Albert</td>\n",
       "      <td>22.0</td>\n",
       "      <td>LinkedIn</td>\n",
       "      <td>Exceeds</td>\n",
       "      <td>4.60</td>\n",
       "      <td>5</td>\n",
       "      <td>0</td>\n",
       "      <td>1/17/2019</td>\n",
       "      <td>0</td>\n",
       "      <td>1</td>\n",
       "    </tr>\n",
       "    <tr>\n",
       "      <th>1</th>\n",
       "      <td>Ait Sidi, Karthikeyan</td>\n",
       "      <td>10084</td>\n",
       "      <td>1</td>\n",
       "      <td>1</td>\n",
       "      <td>1</td>\n",
       "      <td>5</td>\n",
       "      <td>3</td>\n",
       "      <td>3</td>\n",
       "      <td>0</td>\n",
       "      <td>104437</td>\n",
       "      <td>...</td>\n",
       "      <td>Simon Roup</td>\n",
       "      <td>4.0</td>\n",
       "      <td>Indeed</td>\n",
       "      <td>Fully Meets</td>\n",
       "      <td>4.96</td>\n",
       "      <td>3</td>\n",
       "      <td>6</td>\n",
       "      <td>2/24/2016</td>\n",
       "      <td>0</td>\n",
       "      <td>17</td>\n",
       "    </tr>\n",
       "    <tr>\n",
       "      <th>2</th>\n",
       "      <td>Akinkuolie, Sarah</td>\n",
       "      <td>10196</td>\n",
       "      <td>1</td>\n",
       "      <td>1</td>\n",
       "      <td>0</td>\n",
       "      <td>5</td>\n",
       "      <td>5</td>\n",
       "      <td>3</td>\n",
       "      <td>0</td>\n",
       "      <td>64955</td>\n",
       "      <td>...</td>\n",
       "      <td>Kissy Sullivan</td>\n",
       "      <td>20.0</td>\n",
       "      <td>LinkedIn</td>\n",
       "      <td>Fully Meets</td>\n",
       "      <td>3.02</td>\n",
       "      <td>3</td>\n",
       "      <td>0</td>\n",
       "      <td>5/15/2012</td>\n",
       "      <td>0</td>\n",
       "      <td>3</td>\n",
       "    </tr>\n",
       "    <tr>\n",
       "      <th>3</th>\n",
       "      <td>Alagbe,Trina</td>\n",
       "      <td>10088</td>\n",
       "      <td>1</td>\n",
       "      <td>1</td>\n",
       "      <td>0</td>\n",
       "      <td>1</td>\n",
       "      <td>5</td>\n",
       "      <td>3</td>\n",
       "      <td>0</td>\n",
       "      <td>64991</td>\n",
       "      <td>...</td>\n",
       "      <td>Elijiah Gray</td>\n",
       "      <td>16.0</td>\n",
       "      <td>Indeed</td>\n",
       "      <td>Fully Meets</td>\n",
       "      <td>4.84</td>\n",
       "      <td>5</td>\n",
       "      <td>0</td>\n",
       "      <td>1/3/2019</td>\n",
       "      <td>0</td>\n",
       "      <td>15</td>\n",
       "    </tr>\n",
       "    <tr>\n",
       "      <th>4</th>\n",
       "      <td>Anderson, Carol</td>\n",
       "      <td>10069</td>\n",
       "      <td>0</td>\n",
       "      <td>2</td>\n",
       "      <td>0</td>\n",
       "      <td>5</td>\n",
       "      <td>5</td>\n",
       "      <td>3</td>\n",
       "      <td>0</td>\n",
       "      <td>50825</td>\n",
       "      <td>...</td>\n",
       "      <td>Webster Butler</td>\n",
       "      <td>39.0</td>\n",
       "      <td>Google Search</td>\n",
       "      <td>Fully Meets</td>\n",
       "      <td>5.00</td>\n",
       "      <td>4</td>\n",
       "      <td>0</td>\n",
       "      <td>2/1/2016</td>\n",
       "      <td>0</td>\n",
       "      <td>2</td>\n",
       "    </tr>\n",
       "  </tbody>\n",
       "</table>\n",
       "<p>5 rows × 36 columns</p>\n",
       "</div>"
      ],
      "text/plain": [
       "              Employee_Name  EmpID  MarriedID  MaritalStatusID  GenderID  \\\n",
       "0       Adinolfi, Wilson  K  10026          0                0         1   \n",
       "1  Ait Sidi, Karthikeyan     10084          1                1         1   \n",
       "2         Akinkuolie, Sarah  10196          1                1         0   \n",
       "3              Alagbe,Trina  10088          1                1         0   \n",
       "4          Anderson, Carol   10069          0                2         0   \n",
       "\n",
       "   EmpStatusID  DeptID  PerfScoreID  FromDiversityJobFairID  Salary  ...  \\\n",
       "0            1       5            4                       0   62506  ...   \n",
       "1            5       3            3                       0  104437  ...   \n",
       "2            5       5            3                       0   64955  ...   \n",
       "3            1       5            3                       0   64991  ...   \n",
       "4            5       5            3                       0   50825  ...   \n",
       "\n",
       "      ManagerName  ManagerID RecruitmentSource PerformanceScore  \\\n",
       "0  Michael Albert       22.0          LinkedIn          Exceeds   \n",
       "1      Simon Roup        4.0            Indeed      Fully Meets   \n",
       "2  Kissy Sullivan       20.0          LinkedIn      Fully Meets   \n",
       "3    Elijiah Gray       16.0            Indeed      Fully Meets   \n",
       "4  Webster Butler       39.0     Google Search      Fully Meets   \n",
       "\n",
       "   EngagementSurvey EmpSatisfaction SpecialProjectsCount  \\\n",
       "0              4.60               5                    0   \n",
       "1              4.96               3                    6   \n",
       "2              3.02               3                    0   \n",
       "3              4.84               5                    0   \n",
       "4              5.00               4                    0   \n",
       "\n",
       "  LastPerformanceReview_Date DaysLateLast30 Absences  \n",
       "0                  1/17/2019              0        1  \n",
       "1                  2/24/2016              0       17  \n",
       "2                  5/15/2012              0        3  \n",
       "3                   1/3/2019              0       15  \n",
       "4                   2/1/2016              0        2  \n",
       "\n",
       "[5 rows x 36 columns]"
      ]
     },
     "execution_count": 4,
     "metadata": {},
     "output_type": "execute_result"
    }
   ],
   "source": [
    "df.head()\n"
   ]
  },
  {
   "cell_type": "code",
   "execution_count": 5,
   "id": "06b2f660",
   "metadata": {
    "execution": {
     "iopub.execute_input": "2022-07-13T13:38:50.934414Z",
     "iopub.status.busy": "2022-07-13T13:38:50.933287Z",
     "iopub.status.idle": "2022-07-13T13:38:50.940803Z",
     "shell.execute_reply": "2022-07-13T13:38:50.939746Z"
    },
    "papermill": {
     "duration": 0.020762,
     "end_time": "2022-07-13T13:38:50.943059",
     "exception": false,
     "start_time": "2022-07-13T13:38:50.922297",
     "status": "completed"
    },
    "tags": []
   },
   "outputs": [
    {
     "data": {
      "text/plain": [
       "Index(['Employee_Name', 'EmpID', 'MarriedID', 'MaritalStatusID', 'GenderID',\n",
       "       'EmpStatusID', 'DeptID', 'PerfScoreID', 'FromDiversityJobFairID',\n",
       "       'Salary', 'Termd', 'PositionID', 'Position', 'State', 'Zip', 'DOB',\n",
       "       'Sex', 'MaritalDesc', 'CitizenDesc', 'HispanicLatino', 'RaceDesc',\n",
       "       'DateofHire', 'DateofTermination', 'TermReason', 'EmploymentStatus',\n",
       "       'Department', 'ManagerName', 'ManagerID', 'RecruitmentSource',\n",
       "       'PerformanceScore', 'EngagementSurvey', 'EmpSatisfaction',\n",
       "       'SpecialProjectsCount', 'LastPerformanceReview_Date', 'DaysLateLast30',\n",
       "       'Absences'],\n",
       "      dtype='object')"
      ]
     },
     "execution_count": 5,
     "metadata": {},
     "output_type": "execute_result"
    }
   ],
   "source": [
    "df.columns\n"
   ]
  },
  {
   "cell_type": "code",
   "execution_count": 6,
   "id": "38b261bf",
   "metadata": {
    "execution": {
     "iopub.execute_input": "2022-07-13T13:38:50.965177Z",
     "iopub.status.busy": "2022-07-13T13:38:50.963969Z",
     "iopub.status.idle": "2022-07-13T13:38:51.253921Z",
     "shell.execute_reply": "2022-07-13T13:38:51.252713Z"
    },
    "papermill": {
     "duration": 0.303508,
     "end_time": "2022-07-13T13:38:51.256391",
     "exception": false,
     "start_time": "2022-07-13T13:38:50.952883",
     "status": "completed"
    },
    "tags": []
   },
   "outputs": [
    {
     "data": {
      "text/plain": [
       "<seaborn.axisgrid.FacetGrid at 0x7f9b9f85cc10>"
      ]
     },
     "execution_count": 6,
     "metadata": {},
     "output_type": "execute_result"
    },
    {
     "data": {
      "image/png": "[encoded data removed]",
      "text/plain": [
       "<Figure size 360x360 with 1 Axes>"
      ]
     },
     "metadata": {
      "needs_background": "light"
     },
     "output_type": "display_data"
    }
   ],
   "source": [
    "sns.catplot(x='Sex',kind='count',data=df)"
   ]
  },
  {
   "cell_type": "markdown",
   "id": "84f17bf7",
   "metadata": {
    "papermill": {
     "duration": 0.009852,
     "end_time": "2022-07-13T13:38:51.276531",
     "exception": false,
     "start_time": "2022-07-13T13:38:51.266679",
     "status": "completed"
    },
    "tags": []
   },
   "source": [
    "**most of emp is female**"
   ]
  },
  {
   "cell_type": "markdown",
   "id": "56cfd9a7",
   "metadata": {
    "papermill": {
     "duration": 0.010384,
     "end_time": "2022-07-13T13:38:51.296963",
     "exception": false,
     "start_time": "2022-07-13T13:38:51.286579",
     "status": "completed"
    },
    "tags": []
   },
   "source": [
    "**let's see which department is the bigger In terms of Employees**"
   ]
  },
  {
   "cell_type": "code",
   "execution_count": 7,
   "id": "0154d39f",
   "metadata": {
    "execution": {
     "iopub.execute_input": "2022-07-13T13:38:51.319379Z",
     "iopub.status.busy": "2022-07-13T13:38:51.318720Z",
     "iopub.status.idle": "2022-07-13T13:38:51.729135Z",
     "shell.execute_reply": "2022-07-13T13:38:51.728199Z"
    },
    "papermill": {
     "duration": 0.424364,
     "end_time": "2022-07-13T13:38:51.731420",
     "exception": false,
     "start_time": "2022-07-13T13:38:51.307056",
     "status": "completed"
    },
    "tags": []
   },
   "outputs": [
    {
     "data": {
      "text/plain": [
       "(array([0, 1, 2, 3, 4, 5]),\n",
       " [Text(0, 0, 'Production       '),\n",
       "  Text(1, 0, 'IT/IS'),\n",
       "  Text(2, 0, 'Software Engineering'),\n",
       "  Text(3, 0, 'Admin Offices'),\n",
       "  Text(4, 0, 'Sales'),\n",
       "  Text(5, 0, 'Executive Office')])"
      ]
     },
     "execution_count": 7,
     "metadata": {},
     "output_type": "execute_result"
    },
    {
     "data": {
      "image/png": "[encoded data removed]",
      "text/plain": [
       "<Figure size 360x360 with 1 Axes>"
      ]
     },
     "metadata": {
      "needs_background": "light"
     },
     "output_type": "display_data"
    }
   ],
   "source": [
    "sns.catplot(x= 'Department',kind='count',data=df)\n",
    "plt.xticks(rotation=45)\n"
   ]
  },
  {
   "cell_type": "markdown",
   "id": "775d5231",
   "metadata": {
    "papermill": {
     "duration": 0.010216,
     "end_time": "2022-07-13T13:38:51.752258",
     "exception": false,
     "start_time": "2022-07-13T13:38:51.742042",
     "status": "completed"
    },
    "tags": []
   },
   "source": [
    "**production is the bigger**\n"
   ]
  },
  {
   "cell_type": "markdown",
   "id": "3a584e88",
   "metadata": {
    "papermill": {
     "duration": 0.011266,
     "end_time": "2022-07-13T13:38:51.774704",
     "exception": false,
     "start_time": "2022-07-13T13:38:51.763438",
     "status": "completed"
    },
    "tags": []
   },
   "source": [
    "**now we want to know what is the most PerformanceScore of employees**"
   ]
  },
  {
   "cell_type": "code",
   "execution_count": 8,
   "id": "6a2d91c5",
   "metadata": {
    "execution": {
     "iopub.execute_input": "2022-07-13T13:38:51.798889Z",
     "iopub.status.busy": "2022-07-13T13:38:51.798239Z",
     "iopub.status.idle": "2022-07-13T13:38:52.034910Z",
     "shell.execute_reply": "2022-07-13T13:38:52.033683Z"
    },
    "papermill": {
     "duration": 0.251553,
     "end_time": "2022-07-13T13:38:52.037323",
     "exception": false,
     "start_time": "2022-07-13T13:38:51.785770",
     "status": "completed"
    },
    "tags": []
   },
   "outputs": [
    {
     "data": {
      "text/plain": [
       "(array([0, 1, 2, 3]),\n",
       " [Text(0, 0, 'Exceeds'),\n",
       "  Text(1, 0, 'Fully Meets'),\n",
       "  Text(2, 0, 'Needs Improvement'),\n",
       "  Text(3, 0, 'PIP')])"
      ]
     },
     "execution_count": 8,
     "metadata": {},
     "output_type": "execute_result"
    },
    {
     "data": {
      "image/png": "[encoded data removed]",
      "text/plain": [
       "<Figure size 360x360 with 1 Axes>"
      ]
     },
     "metadata": {
      "needs_background": "light"
     },
     "output_type": "display_data"
    }
   ],
   "source": [
    "color_palette = sns.color_palette(\"plasma\")\n",
    "sns.set_palette(color_palette)\n",
    "sns.catplot(x = \"PerformanceScore\",kind='count', data = df)\n",
    "plt.xticks(rotation=45)\n",
    "\n"
   ]
  },
  {
   "cell_type": "markdown",
   "id": "5618fb6b",
   "metadata": {
    "papermill": {
     "duration": 0.010973,
     "end_time": "2022-07-13T13:38:52.059609",
     "exception": false,
     "start_time": "2022-07-13T13:38:52.048636",
     "status": "completed"
    },
    "tags": []
   },
   "source": [
    "**let's see What is the overall diversity profile of the organization**\n"
   ]
  },
  {
   "cell_type": "code",
   "execution_count": 9,
   "id": "6e18a49b",
   "metadata": {
    "execution": {
     "iopub.execute_input": "2022-07-13T13:38:52.083963Z",
     "iopub.status.busy": "2022-07-13T13:38:52.082823Z",
     "iopub.status.idle": "2022-07-13T13:38:52.297901Z",
     "shell.execute_reply": "2022-07-13T13:38:52.296633Z"
    },
    "papermill": {
     "duration": 0.230009,
     "end_time": "2022-07-13T13:38:52.300602",
     "exception": false,
     "start_time": "2022-07-13T13:38:52.070593",
     "status": "completed"
    },
    "tags": []
   },
   "outputs": [
    {
     "data": {
      "text/plain": [
       "(array([0, 1, 2, 3, 4, 5]),\n",
       " [Text(0, 0, 'White'),\n",
       "  Text(1, 0, 'Black or African American'),\n",
       "  Text(2, 0, 'Two or more races'),\n",
       "  Text(3, 0, 'Asian'),\n",
       "  Text(4, 0, 'American Indian or Alaska Native'),\n",
       "  Text(5, 0, 'Hispanic')])"
      ]
     },
     "execution_count": 9,
     "metadata": {},
     "output_type": "execute_result"
    },
    {
     "data": {
      "image/png": "[encoded data removed]",
      "text/plain": [
       "<Figure size 360x360 with 1 Axes>"
      ]
     },
     "metadata": {
      "needs_background": "light"
     },
     "output_type": "display_data"
    }
   ],
   "source": [
    "sns.catplot(x= 'RaceDesc',kind='count',data=df)\n",
    "plt.xticks(rotation=45)\n"
   ]
  },
  {
   "cell_type": "markdown",
   "id": "622e38ea",
   "metadata": {
    "papermill": {
     "duration": 0.011746,
     "end_time": "2022-07-13T13:38:52.324136",
     "exception": false,
     "start_time": "2022-07-13T13:38:52.312390",
     "status": "completed"
    },
    "tags": []
   },
   "source": [
    "# **now let's make deeper analysis** "
   ]
  },
  {
   "cell_type": "markdown",
   "id": "8926db6e",
   "metadata": {
    "papermill": {
     "duration": 0.012139,
     "end_time": "2022-07-13T13:38:52.347788",
     "exception": false,
     "start_time": "2022-07-13T13:38:52.335649",
     "status": "completed"
    },
    "tags": []
   },
   "source": [
    " **want to know PerformanceScore In terms of each Department**"
   ]
  },
  {
   "cell_type": "code",
   "execution_count": 10,
   "id": "281e8aa4",
   "metadata": {
    "execution": {
     "iopub.execute_input": "2022-07-13T13:38:52.375019Z",
     "iopub.status.busy": "2022-07-13T13:38:52.374123Z",
     "iopub.status.idle": "2022-07-13T13:38:53.510364Z",
     "shell.execute_reply": "2022-07-13T13:38:53.508985Z"
    },
    "papermill": {
     "duration": 1.152408,
     "end_time": "2022-07-13T13:38:53.513046",
     "exception": false,
     "start_time": "2022-07-13T13:38:52.360638",
     "status": "completed"
    },
    "tags": []
   },
   "outputs": [
    {
     "data": {
      "text/html": [
       "        <script type=\"text/javascript\">\n",
       "        window.PlotlyConfig = {MathJaxConfig: 'local'};\n",
       "        if (window.MathJax && window.MathJax.Hub && window.MathJax.Hub.Config) {window.MathJax.Hub.Config({SVG: {font: \"STIX-Web\"}});}\n",
       "        if (typeof require !== 'undefined') {\n",
       "        require.undef(\"plotly\");\n",
       "        requirejs.config({\n",
       "            paths: {\n",
       "                'plotly': ['https://cdn.plot.ly/plotly-2.12.1.min']\n",
       "            }\n",
       "        });\n",
       "        require(['plotly'], function(Plotly) {\n",
       "            window._Plotly = Plotly;\n",
       "        });\n",
       "        }\n",
       "        </script>\n",
       "        "
      ]
     },
     "metadata": {},
     "output_type": "display_data"
    },
    {
     "data": {
      "text/html": [
       "<div>                            <div id=\"209cd73b-6407-419e-b2f3-e9bfa35673ee\" class=\"plotly-graph-div\" style=\"height:525px; width:100%;\"></div>            <script type=\"text/javascript\">                require([\"plotly\"], function(Plotly) {                    window.PLOTLYENV=window.PLOTLYENV || {};                                    if (document.getElementById(\"209cd73b-6407-419e-b2f3-e9bfa35673ee\")) {                    Plotly.newPlot(                        \"209cd73b-6407-419e-b2f3-e9bfa35673ee\",                        [{\"alignmentgroup\":\"True\",\"hovertemplate\":\"PerformanceScore=Exceeds<br>Department=%{x}<br>count=%{y}<extra></extra>\",\"legendgroup\":\"Exceeds\",\"marker\":{\"color\":\"#636efa\",\"pattern\":{\"shape\":\"\"}},\"name\":\"Exceeds\",\"offsetgroup\":\"Exceeds\",\"orientation\":\"v\",\"showlegend\":true,\"textposition\":\"auto\",\"x\":[\"Production       \",\"Production       \",\"IT/IS\",\"Production       \",\"Production       \",\"Production       \",\"Production       \",\"Production       \",\"IT/IS\",\"Sales\",\"IT/IS\",\"Production       \",\"Production       \",\"Production       \",\"Production       \",\"Production       \",\"Production       \",\"Production       \",\"IT/IS\",\"Production       \",\"Production       \",\"Production       \",\"Production       \",\"Production       \",\"Software Engineering\",\"Production       \",\"IT/IS\",\"Production       \",\"Production       \",\"Production       \",\"Production       \",\"Software Engineering\",\"Sales\",\"Production       \",\"Production       \",\"Production       \",\"IT/IS\"],\"xaxis\":\"x\",\"y\":[1,1,1,1,1,1,1,1,1,1,1,1,1,1,1,1,1,1,1,1,1,1,1,1,1,1,1,1,1,1,1,1,1,1,1,1,1],\"yaxis\":\"y\",\"type\":\"bar\"},{\"alignmentgroup\":\"True\",\"hovertemplate\":\"PerformanceScore=Fully Meets<br>Department=%{x}<br>count=%{y}<extra></extra>\",\"legendgroup\":\"Fully Meets\",\"marker\":{\"color\":\"#EF553B\",\"pattern\":{\"shape\":\"\"}},\"name\":\"Fully Meets\",\"offsetgroup\":\"Fully Meets\",\"orientation\":\"v\",\"showlegend\":true,\"textposition\":\"auto\",\"x\":[\"IT/IS\",\"Production       \",\"Production       \",\"Production       \",\"Software Engineering\",\"Production       \",\"Production       \",\"IT/IS\",\"Production       \",\"Production       \",\"Production       \",\"Production       \",\"Production       \",\"Production       \",\"IT/IS\",\"Production       \",\"Production       \",\"Production       \",\"Production       \",\"IT/IS\",\"Admin Offices\",\"Production       \",\"Production       \",\"Admin Offices\",\"Production       \",\"Production       \",\"Sales\",\"Production       \",\"Production       \",\"Software Engineering\",\"Software Engineering\",\"Production       \",\"IT/IS\",\"Sales\",\"Production       \",\"IT/IS\",\"Production       \",\"Production       \",\"Sales\",\"Production       \",\"Production       \",\"IT/IS\",\"Production       \",\"Production       \",\"Production       \",\"Production       \",\"IT/IS\",\"Production       \",\"IT/IS\",\"Sales\",\"IT/IS\",\"Production       \",\"Production       \",\"Production       \",\"Production       \",\"Software Engineering\",\"Production       \",\"IT/IS\",\"Production       \",\"Production       \",\"IT/IS\",\"Production       \",\"Production       \",\"Production       \",\"Production       \",\"Production       \",\"Production       \",\"Production       \",\"Production       \",\"Production       \",\"Production       \",\"Production       \",\"Admin Offices\",\"Sales\",\"IT/IS\",\"Production       \",\"Production       \",\"Production       \",\"Production       \",\"Sales\",\"Sales\",\"IT/IS\",\"IT/IS\",\"Production       \",\"IT/IS\",\"Production       \",\"Production       \",\"Production       \",\"Production       \",\"Production       \",\"Production       \",\"IT/IS\",\"Sales\",\"Production       \",\"Production       \",\"Production       \",\"Production       \",\"Production       \",\"Sales\",\"Production       \",\"IT/IS\",\"Sales\",\"Admin Offices\",\"Production       \",\"Production       \",\"Production       \",\"Production       \",\"Production       \",\"Production       \",\"Production       \",\"Production       \",\"IT/IS\",\"Production       \",\"Sales\",\"Production       \",\"Sales\",\"Executive Office\",\"Production       \",\"Production       \",\"Production       \",\"Production       \",\"Sales\",\"IT/IS\",\"Production       \",\"Production       \",\"Production       \",\"Admin Offices\",\"Production       \",\"IT/IS\",\"Production       \",\"Admin Offices\",\"Production       \",\"Sales\",\"Production       \",\"Production       \",\"Production       \",\"Production       \",\"Production       \",\"Production       \",\"Production       \",\"Production       \",\"Production       \",\"Software Engineering\",\"Production       \",\"Production       \",\"Production       \",\"Sales\",\"Production       \",\"Production       \",\"Production       \",\"Production       \",\"Production       \",\"IT/IS\",\"Production       \",\"Production       \",\"Production       \",\"IT/IS\",\"Production       \",\"Production       \",\"Production       \",\"Sales\",\"Production       \",\"Production       \",\"Production       \",\"Sales\",\"Sales\",\"Production       \",\"IT/IS\",\"Production       \",\"Production       \",\"Production       \",\"Production       \",\"Production       \",\"Sales\",\"Production       \",\"Production       \",\"Production       \",\"Software Engineering\",\"IT/IS\",\"Production       \",\"Sales\",\"Production       \",\"Production       \",\"Production       \",\"Production       \",\"IT/IS\",\"IT/IS\",\"IT/IS\",\"Production       \",\"Production       \",\"IT/IS\",\"IT/IS\",\"Software Engineering\",\"Production       \",\"Production       \",\"IT/IS\",\"Production       \",\"Production       \",\"IT/IS\",\"Production       \",\"IT/IS\",\"Admin Offices\",\"Production       \",\"Admin Offices\",\"Production       \",\"IT/IS\",\"IT/IS\",\"Production       \",\"Production       \",\"Admin Offices\",\"Production       \",\"Sales\",\"Production       \",\"Production       \",\"Production       \",\"IT/IS\",\"Production       \",\"Production       \",\"Sales\",\"Production       \",\"Production       \",\"Production       \",\"IT/IS\",\"Software Engineering\",\"Production       \",\"IT/IS\",\"Sales\",\"Production       \",\"Sales\",\"IT/IS\",\"Production       \",\"Production       \",\"Production       \",\"IT/IS\",\"IT/IS\",\"Production       \",\"Production       \",\"Production       \",\"Production       \",\"Production       \",\"Production       \",\"IT/IS\",\"Production       \"],\"xaxis\":\"x\",\"y\":[1,1,1,1,1,1,1,1,1,1,1,1,1,1,1,1,1,1,1,1,1,1,1,1,1,1,1,1,1,1,1,1,1,1,1,1,1,1,1,1,1,1,1,1,1,1,1,1,1,1,1,1,1,1,1,1,1,1,1,1,1,1,1,1,1,1,1,1,1,1,1,1,1,1,1,1,1,1,1,1,1,1,1,1,1,1,1,1,1,1,1,1,1,1,1,1,1,1,1,1,1,1,1,1,1,1,1,1,1,1,1,1,1,1,1,1,1,1,1,1,1,1,1,1,1,1,1,1,1,1,1,1,1,1,1,1,1,1,1,1,1,1,1,1,1,1,1,1,1,1,1,1,1,1,1,1,1,1,1,1,1,1,1,1,1,1,1,1,1,1,1,1,1,1,1,1,1,1,1,1,1,1,1,1,1,1,1,1,1,1,1,1,1,1,1,1,1,1,1,1,1,1,1,1,1,1,1,1,1,1,1,1,1,1,1,1,1,1,1,1,1,1,1,1,1,1,1,1,1,1,1,1,1,1,1,1,1,1,1,1,1,1,1],\"yaxis\":\"y\",\"type\":\"bar\"},{\"alignmentgroup\":\"True\",\"hovertemplate\":\"PerformanceScore=Needs Improvement<br>Department=%{x}<br>count=%{y}<extra></extra>\",\"legendgroup\":\"Needs Improvement\",\"marker\":{\"color\":\"#00cc96\",\"pattern\":{\"shape\":\"\"}},\"name\":\"Needs Improvement\",\"offsetgroup\":\"Needs Improvement\",\"orientation\":\"v\",\"showlegend\":true,\"textposition\":\"auto\",\"x\":[\"Production       \",\"Production       \",\"Production       \",\"Production       \",\"Production       \",\"Production       \",\"Software Engineering\",\"Production       \",\"Production       \",\"IT/IS\",\"Production       \",\"Production       \",\"Production       \",\"Production       \",\"Production       \",\"Sales\",\"Production       \",\"Production       \"],\"xaxis\":\"x\",\"y\":[1,1,1,1,1,1,1,1,1,1,1,1,1,1,1,1,1,1],\"yaxis\":\"y\",\"type\":\"bar\"},{\"alignmentgroup\":\"True\",\"hovertemplate\":\"PerformanceScore=PIP<br>Department=%{x}<br>count=%{y}<extra></extra>\",\"legendgroup\":\"PIP\",\"marker\":{\"color\":\"#ab63fa\",\"pattern\":{\"shape\":\"\"}},\"name\":\"PIP\",\"offsetgroup\":\"PIP\",\"orientation\":\"v\",\"showlegend\":true,\"textposition\":\"auto\",\"x\":[\"Sales\",\"Production       \",\"Sales\",\"Production       \",\"Production       \",\"IT/IS\",\"Sales\",\"Production       \",\"Production       \",\"Production       \",\"Production       \",\"Sales\",\"Production       \"],\"xaxis\":\"x\",\"y\":[1,1,1,1,1,1,1,1,1,1,1,1,1],\"yaxis\":\"y\",\"type\":\"bar\"}],                        {\"template\":{\"data\":{\"histogram2dcontour\":[{\"type\":\"histogram2dcontour\",\"colorbar\":{\"outlinewidth\":0,\"ticks\":\"\"},\"colorscale\":[[0.0,\"#0d0887\"],[0.1111111111111111,\"#46039f\"],[0.2222222222222222,\"#7201a8\"],[0.3333333333333333,\"#9c179e\"],[0.4444444444444444,\"#bd3786\"],[0.5555555555555556,\"#d8576b\"],[0.6666666666666666,\"#ed7953\"],[0.7777777777777778,\"#fb9f3a\"],[0.8888888888888888,\"#fdca26\"],[1.0,\"#f0f921\"]]}],\"choropleth\":[{\"type\":\"choropleth\",\"colorbar\":{\"outlinewidth\":0,\"ticks\":\"\"}}],\"histogram2d\":[{\"type\":\"histogram2d\",\"colorbar\":{\"outlinewidth\":0,\"ticks\":\"\"},\"colorscale\":[[0.0,\"#0d0887\"],[0.1111111111111111,\"#46039f\"],[0.2222222222222222,\"#7201a8\"],[0.3333333333333333,\"#9c179e\"],[0.4444444444444444,\"#bd3786\"],[0.5555555555555556,\"#d8576b\"],[0.6666666666666666,\"#ed7953\"],[0.7777777777777778,\"#fb9f3a\"],[0.8888888888888888,\"#fdca26\"],[1.0,\"#f0f921\"]]}],\"heatmap\":[{\"type\":\"heatmap\",\"colorbar\":{\"outlinewidth\":0,\"ticks\":\"\"},\"colorscale\":[[0.0,\"#0d0887\"],[0.1111111111111111,\"#46039f\"],[0.2222222222222222,\"#7201a8\"],[0.3333333333333333,\"#9c179e\"],[0.4444444444444444,\"#bd3786\"],[0.5555555555555556,\"#d8576b\"],[0.6666666666666666,\"#ed7953\"],[0.7777777777777778,\"#fb9f3a\"],[0.8888888888888888,\"#fdca26\"],[1.0,\"#f0f921\"]]}],\"heatmapgl\":[{\"type\":\"heatmapgl\",\"colorbar\":{\"outlinewidth\":0,\"ticks\":\"\"},\"colorscale\":[[0.0,\"#0d0887\"],[0.1111111111111111,\"#46039f\"],[0.2222222222222222,\"#7201a8\"],[0.3333333333333333,\"#9c179e\"],[0.4444444444444444,\"#bd3786\"],[0.5555555555555556,\"#d8576b\"],[0.6666666666666666,\"#ed7953\"],[0.7777777777777778,\"#fb9f3a\"],[0.8888888888888888,\"#fdca26\"],[1.0,\"#f0f921\"]]}],\"contourcarpet\":[{\"type\":\"contourcarpet\",\"colorbar\":{\"outlinewidth\":0,\"ticks\":\"\"}}],\"contour\":[{\"type\":\"contour\",\"colorbar\":{\"outlinewidth\":0,\"ticks\":\"\"},\"colorscale\":[[0.0,\"#0d0887\"],[0.1111111111111111,\"#46039f\"],[0.2222222222222222,\"#7201a8\"],[0.3333333333333333,\"#9c179e\"],[0.4444444444444444,\"#bd3786\"],[0.5555555555555556,\"#d8576b\"],[0.6666666666666666,\"#ed7953\"],[0.7777777777777778,\"#fb9f3a\"],[0.8888888888888888,\"#fdca26\"],[1.0,\"#f0f921\"]]}],\"surface\":[{\"type\":\"surface\",\"colorbar\":{\"outlinewidth\":0,\"ticks\":\"\"},\"colorscale\":[[0.0,\"#0d0887\"],[0.1111111111111111,\"#46039f\"],[0.2222222222222222,\"#7201a8\"],[0.3333333333333333,\"#9c179e\"],[0.4444444444444444,\"#bd3786\"],[0.5555555555555556,\"#d8576b\"],[0.6666666666666666,\"#ed7953\"],[0.7777777777777778,\"#fb9f3a\"],[0.8888888888888888,\"#fdca26\"],[1.0,\"#f0f921\"]]}],\"mesh3d\":[{\"type\":\"mesh3d\",\"colorbar\":{\"outlinewidth\":0,\"ticks\":\"\"}}],\"scatter\":[{\"fillpattern\":{\"fillmode\":\"overlay\",\"size\":10,\"solidity\":0.2},\"type\":\"scatter\"}],\"parcoords\":[{\"type\":\"parcoords\",\"line\":{\"colorbar\":{\"outlinewidth\":0,\"ticks\":\"\"}}}],\"scatterpolargl\":[{\"type\":\"scatterpolargl\",\"marker\":{\"colorbar\":{\"outlinewidth\":0,\"ticks\":\"\"}}}],\"bar\":[{\"error_x\":{\"color\":\"#2a3f5f\"},\"error_y\":{\"color\":\"#2a3f5f\"},\"marker\":{\"line\":{\"color\":\"#E5ECF6\",\"width\":0.5},\"pattern\":{\"fillmode\":\"overlay\",\"size\":10,\"solidity\":0.2}},\"type\":\"bar\"}],\"scattergeo\":[{\"type\":\"scattergeo\",\"marker\":{\"colorbar\":{\"outlinewidth\":0,\"ticks\":\"\"}}}],\"scatterpolar\":[{\"type\":\"scatterpolar\",\"marker\":{\"colorbar\":{\"outlinewidth\":0,\"ticks\":\"\"}}}],\"histogram\":[{\"marker\":{\"pattern\":{\"fillmode\":\"overlay\",\"size\":10,\"solidity\":0.2}},\"type\":\"histogram\"}],\"scattergl\":[{\"type\":\"scattergl\",\"marker\":{\"colorbar\":{\"outlinewidth\":0,\"ticks\":\"\"}}}],\"scatter3d\":[{\"type\":\"scatter3d\",\"line\":{\"colorbar\":{\"outlinewidth\":0,\"ticks\":\"\"}},\"marker\":{\"colorbar\":{\"outlinewidth\":0,\"ticks\":\"\"}}}],\"scattermapbox\":[{\"type\":\"scattermapbox\",\"marker\":{\"colorbar\":{\"outlinewidth\":0,\"ticks\":\"\"}}}],\"scatterternary\":[{\"type\":\"scatterternary\",\"marker\":{\"colorbar\":{\"outlinewidth\":0,\"ticks\":\"\"}}}],\"scattercarpet\":[{\"type\":\"scattercarpet\",\"marker\":{\"colorbar\":{\"outlinewidth\":0,\"ticks\":\"\"}}}],\"carpet\":[{\"aaxis\":{\"endlinecolor\":\"#2a3f5f\",\"gridcolor\":\"white\",\"linecolor\":\"white\",\"minorgridcolor\":\"white\",\"startlinecolor\":\"#2a3f5f\"},\"baxis\":{\"endlinecolor\":\"#2a3f5f\",\"gridcolor\":\"white\",\"linecolor\":\"white\",\"minorgridcolor\":\"white\",\"startlinecolor\":\"#2a3f5f\"},\"type\":\"carpet\"}],\"table\":[{\"cells\":{\"fill\":{\"color\":\"#EBF0F8\"},\"line\":{\"color\":\"white\"}},\"header\":{\"fill\":{\"color\":\"#C8D4E3\"},\"line\":{\"color\":\"white\"}},\"type\":\"table\"}],\"barpolar\":[{\"marker\":{\"line\":{\"color\":\"#E5ECF6\",\"width\":0.5},\"pattern\":{\"fillmode\":\"overlay\",\"size\":10,\"solidity\":0.2}},\"type\":\"barpolar\"}],\"pie\":[{\"automargin\":true,\"type\":\"pie\"}]},\"layout\":{\"autotypenumbers\":\"strict\",\"colorway\":[\"#636efa\",\"#EF553B\",\"#00cc96\",\"#ab63fa\",\"#FFA15A\",\"#19d3f3\",\"#FF6692\",\"#B6E880\",\"#FF97FF\",\"#FECB52\"],\"font\":{\"color\":\"#2a3f5f\"},\"hovermode\":\"closest\",\"hoverlabel\":{\"align\":\"left\"},\"paper_bgcolor\":\"white\",\"plot_bgcolor\":\"#E5ECF6\",\"polar\":{\"bgcolor\":\"#E5ECF6\",\"angularaxis\":{\"gridcolor\":\"white\",\"linecolor\":\"white\",\"ticks\":\"\"},\"radialaxis\":{\"gridcolor\":\"white\",\"linecolor\":\"white\",\"ticks\":\"\"}},\"ternary\":{\"bgcolor\":\"#E5ECF6\",\"aaxis\":{\"gridcolor\":\"white\",\"linecolor\":\"white\",\"ticks\":\"\"},\"baxis\":{\"gridcolor\":\"white\",\"linecolor\":\"white\",\"ticks\":\"\"},\"caxis\":{\"gridcolor\":\"white\",\"linecolor\":\"white\",\"ticks\":\"\"}},\"coloraxis\":{\"colorbar\":{\"outlinewidth\":0,\"ticks\":\"\"}},\"colorscale\":{\"sequential\":[[0.0,\"#0d0887\"],[0.1111111111111111,\"#46039f\"],[0.2222222222222222,\"#7201a8\"],[0.3333333333333333,\"#9c179e\"],[0.4444444444444444,\"#bd3786\"],[0.5555555555555556,\"#d8576b\"],[0.6666666666666666,\"#ed7953\"],[0.7777777777777778,\"#fb9f3a\"],[0.8888888888888888,\"#fdca26\"],[1.0,\"#f0f921\"]],\"sequentialminus\":[[0.0,\"#0d0887\"],[0.1111111111111111,\"#46039f\"],[0.2222222222222222,\"#7201a8\"],[0.3333333333333333,\"#9c179e\"],[0.4444444444444444,\"#bd3786\"],[0.5555555555555556,\"#d8576b\"],[0.6666666666666666,\"#ed7953\"],[0.7777777777777778,\"#fb9f3a\"],[0.8888888888888888,\"#fdca26\"],[1.0,\"#f0f921\"]],\"diverging\":[[0,\"#8e0152\"],[0.1,\"#c51b7d\"],[0.2,\"#de77ae\"],[0.3,\"#f1b6da\"],[0.4,\"#fde0ef\"],[0.5,\"#f7f7f7\"],[0.6,\"#e6f5d0\"],[0.7,\"#b8e186\"],[0.8,\"#7fbc41\"],[0.9,\"#4d9221\"],[1,\"#276419\"]]},\"xaxis\":{\"gridcolor\":\"white\",\"linecolor\":\"white\",\"ticks\":\"\",\"title\":{\"standoff\":15},\"zerolinecolor\":\"white\",\"automargin\":true,\"zerolinewidth\":2},\"yaxis\":{\"gridcolor\":\"white\",\"linecolor\":\"white\",\"ticks\":\"\",\"title\":{\"standoff\":15},\"zerolinecolor\":\"white\",\"automargin\":true,\"zerolinewidth\":2},\"scene\":{\"xaxis\":{\"backgroundcolor\":\"#E5ECF6\",\"gridcolor\":\"white\",\"linecolor\":\"white\",\"showbackground\":true,\"ticks\":\"\",\"zerolinecolor\":\"white\",\"gridwidth\":2},\"yaxis\":{\"backgroundcolor\":\"#E5ECF6\",\"gridcolor\":\"white\",\"linecolor\":\"white\",\"showbackground\":true,\"ticks\":\"\",\"zerolinecolor\":\"white\",\"gridwidth\":2},\"zaxis\":{\"backgroundcolor\":\"#E5ECF6\",\"gridcolor\":\"white\",\"linecolor\":\"white\",\"showbackground\":true,\"ticks\":\"\",\"zerolinecolor\":\"white\",\"gridwidth\":2}},\"shapedefaults\":{\"line\":{\"color\":\"#2a3f5f\"}},\"annotationdefaults\":{\"arrowcolor\":\"#2a3f5f\",\"arrowhead\":0,\"arrowwidth\":1},\"geo\":{\"bgcolor\":\"white\",\"landcolor\":\"#E5ECF6\",\"subunitcolor\":\"white\",\"showland\":true,\"showlakes\":true,\"lakecolor\":\"white\"},\"title\":{\"x\":0.05},\"mapbox\":{\"style\":\"light\"}}},\"xaxis\":{\"anchor\":\"y\",\"domain\":[0.0,1.0],\"title\":{\"text\":\"Department\"}},\"yaxis\":{\"anchor\":\"x\",\"domain\":[0.0,1.0],\"title\":{\"text\":\"count\"}},\"legend\":{\"title\":{\"text\":\"PerformanceScore\"},\"tracegroupgap\":0},\"margin\":{\"t\":60},\"barmode\":\"relative\"},                        {\"responsive\": true}                    ).then(function(){\n",
       "                            \n",
       "var gd = document.getElementById('209cd73b-6407-419e-b2f3-e9bfa35673ee');\n",
       "var x = new MutationObserver(function (mutations, observer) {{\n",
       "        var display = window.getComputedStyle(gd).display;\n",
       "        if (!display || display === 'none') {{\n",
       "            console.log([gd, 'removed!']);\n",
       "            Plotly.purge(gd);\n",
       "            observer.disconnect();\n",
       "        }}\n",
       "}});\n",
       "\n",
       "// Listen for the removal of the full notebook cells\n",
       "var notebookContainer = gd.closest('#notebook-container');\n",
       "if (notebookContainer) {{\n",
       "    x.observe(notebookContainer, {childList: true});\n",
       "}}\n",
       "\n",
       "// Listen for the clearing of the current output cell\n",
       "var outputEl = gd.closest('.output');\n",
       "if (outputEl) {{\n",
       "    x.observe(outputEl, {childList: true});\n",
       "}}\n",
       "\n",
       "                        })                };                });            </script>        </div>"
      ]
     },
     "metadata": {},
     "output_type": "display_data"
    }
   ],
   "source": [
    "fig = px.bar(df, x=\"Department\",  color=\"PerformanceScore\" )\n",
    " \n",
    "fig.show()"
   ]
  },
  {
   "cell_type": "markdown",
   "id": "76de1178",
   "metadata": {
    "papermill": {
     "duration": 0.011807,
     "end_time": "2022-07-13T13:38:53.537079",
     "exception": false,
     "start_time": "2022-07-13T13:38:53.525272",
     "status": "completed"
    },
    "tags": []
   },
   "source": [
    "**Let's see if EmpSatisfaction influence on PerformanceScore**"
   ]
  },
  {
   "cell_type": "code",
   "execution_count": 11,
   "id": "f52f6663",
   "metadata": {
    "execution": {
     "iopub.execute_input": "2022-07-13T13:38:53.563005Z",
     "iopub.status.busy": "2022-07-13T13:38:53.562326Z",
     "iopub.status.idle": "2022-07-13T13:38:53.577388Z",
     "shell.execute_reply": "2022-07-13T13:38:53.576000Z"
    },
    "papermill": {
     "duration": 0.030893,
     "end_time": "2022-07-13T13:38:53.579865",
     "exception": false,
     "start_time": "2022-07-13T13:38:53.548972",
     "status": "completed"
    },
    "tags": []
   },
   "outputs": [
    {
     "data": {
      "text/html": [
       "<div>\n",
       "<style scoped>\n",
       "    .dataframe tbody tr th:only-of-type {\n",
       "        vertical-align: middle;\n",
       "    }\n",
       "\n",
       "    .dataframe tbody tr th {\n",
       "        vertical-align: top;\n",
       "    }\n",
       "\n",
       "    .dataframe thead th {\n",
       "        text-align: right;\n",
       "    }\n",
       "</style>\n",
       "<table border=\"1\" class=\"dataframe\">\n",
       "  <thead>\n",
       "    <tr style=\"text-align: right;\">\n",
       "      <th></th>\n",
       "      <th>PerformanceScore</th>\n",
       "      <th>EmpSatisfaction</th>\n",
       "    </tr>\n",
       "  </thead>\n",
       "  <tbody>\n",
       "    <tr>\n",
       "      <th>0</th>\n",
       "      <td>Exceeds</td>\n",
       "      <td>4.108108</td>\n",
       "    </tr>\n",
       "    <tr>\n",
       "      <th>1</th>\n",
       "      <td>Fully Meets</td>\n",
       "      <td>3.950617</td>\n",
       "    </tr>\n",
       "    <tr>\n",
       "      <th>2</th>\n",
       "      <td>Needs Improvement</td>\n",
       "      <td>3.611111</td>\n",
       "    </tr>\n",
       "    <tr>\n",
       "      <th>3</th>\n",
       "      <td>PIP</td>\n",
       "      <td>2.538462</td>\n",
       "    </tr>\n",
       "  </tbody>\n",
       "</table>\n",
       "</div>"
      ],
      "text/plain": [
       "    PerformanceScore  EmpSatisfaction\n",
       "0            Exceeds         4.108108\n",
       "1        Fully Meets         3.950617\n",
       "2  Needs Improvement         3.611111\n",
       "3                PIP         2.538462"
      ]
     },
     "execution_count": 11,
     "metadata": {},
     "output_type": "execute_result"
    }
   ],
   "source": [
    "b=df.groupby('PerformanceScore')['EmpSatisfaction'].mean().reset_index()\n",
    "b"
   ]
  },
  {
   "cell_type": "markdown",
   "id": "bdc688f3",
   "metadata": {
    "papermill": {
     "duration": 0.011928,
     "end_time": "2022-07-13T13:38:53.604013",
     "exception": false,
     "start_time": "2022-07-13T13:38:53.592085",
     "status": "completed"
    },
    "tags": []
   },
   "source": [
    "**as we can see it's have impact on PerformanceScore**"
   ]
  },
  {
   "cell_type": "markdown",
   "id": "56de20a0",
   "metadata": {
    "papermill": {
     "duration": 0.012621,
     "end_time": "2022-07-13T13:38:53.629317",
     "exception": false,
     "start_time": "2022-07-13T13:38:53.616696",
     "status": "completed"
    },
    "tags": []
   },
   "source": [
    "**let's see what the most Satisfaction Department**"
   ]
  },
  {
   "cell_type": "code",
   "execution_count": 12,
   "id": "31bbc86b",
   "metadata": {
    "execution": {
     "iopub.execute_input": "2022-07-13T13:38:53.655905Z",
     "iopub.status.busy": "2022-07-13T13:38:53.655479Z",
     "iopub.status.idle": "2022-07-13T13:38:53.668676Z",
     "shell.execute_reply": "2022-07-13T13:38:53.667758Z"
    },
    "papermill": {
     "duration": 0.028622,
     "end_time": "2022-07-13T13:38:53.670662",
     "exception": false,
     "start_time": "2022-07-13T13:38:53.642040",
     "status": "completed"
    },
    "tags": []
   },
   "outputs": [
    {
     "data": {
      "text/html": [
       "<div>\n",
       "<style scoped>\n",
       "    .dataframe tbody tr th:only-of-type {\n",
       "        vertical-align: middle;\n",
       "    }\n",
       "\n",
       "    .dataframe tbody tr th {\n",
       "        vertical-align: top;\n",
       "    }\n",
       "\n",
       "    .dataframe thead th {\n",
       "        text-align: right;\n",
       "    }\n",
       "</style>\n",
       "<table border=\"1\" class=\"dataframe\">\n",
       "  <thead>\n",
       "    <tr style=\"text-align: right;\">\n",
       "      <th></th>\n",
       "      <th>Department</th>\n",
       "      <th>EmpSatisfaction</th>\n",
       "    </tr>\n",
       "  </thead>\n",
       "  <tbody>\n",
       "    <tr>\n",
       "      <th>0</th>\n",
       "      <td>Admin Offices</td>\n",
       "      <td>3.555556</td>\n",
       "    </tr>\n",
       "    <tr>\n",
       "      <th>1</th>\n",
       "      <td>Executive Office</td>\n",
       "      <td>3.000000</td>\n",
       "    </tr>\n",
       "    <tr>\n",
       "      <th>2</th>\n",
       "      <td>IT/IS</td>\n",
       "      <td>3.960000</td>\n",
       "    </tr>\n",
       "    <tr>\n",
       "      <th>3</th>\n",
       "      <td>Production</td>\n",
       "      <td>3.861244</td>\n",
       "    </tr>\n",
       "    <tr>\n",
       "      <th>4</th>\n",
       "      <td>Sales</td>\n",
       "      <td>4.032258</td>\n",
       "    </tr>\n",
       "    <tr>\n",
       "      <th>5</th>\n",
       "      <td>Software Engineering</td>\n",
       "      <td>4.090909</td>\n",
       "    </tr>\n",
       "  </tbody>\n",
       "</table>\n",
       "</div>"
      ],
      "text/plain": [
       "             Department  EmpSatisfaction\n",
       "0         Admin Offices         3.555556\n",
       "1      Executive Office         3.000000\n",
       "2                 IT/IS         3.960000\n",
       "3     Production                3.861244\n",
       "4                 Sales         4.032258\n",
       "5  Software Engineering         4.090909"
      ]
     },
     "execution_count": 12,
     "metadata": {},
     "output_type": "execute_result"
    }
   ],
   "source": [
    "b=df.groupby('Department')['EmpSatisfaction'].mean().reset_index()\n",
    "b"
   ]
  },
  {
   "cell_type": "code",
   "execution_count": 13,
   "id": "4d487e04",
   "metadata": {
    "execution": {
     "iopub.execute_input": "2022-07-13T13:38:53.697760Z",
     "iopub.status.busy": "2022-07-13T13:38:53.696693Z",
     "iopub.status.idle": "2022-07-13T13:38:53.863691Z",
     "shell.execute_reply": "2022-07-13T13:38:53.862138Z"
    },
    "papermill": {
     "duration": 0.183188,
     "end_time": "2022-07-13T13:38:53.866290",
     "exception": false,
     "start_time": "2022-07-13T13:38:53.683102",
     "status": "completed"
    },
    "tags": []
   },
   "outputs": [
    {
     "data": {
      "text/plain": [
       "(array([0, 1, 2, 3, 4, 5]),\n",
       " [Text(0, 0, 'Admin Offices'),\n",
       "  Text(1, 0, 'Executive Office'),\n",
       "  Text(2, 0, 'IT/IS'),\n",
       "  Text(3, 0, 'Production       '),\n",
       "  Text(4, 0, 'Sales'),\n",
       "  Text(5, 0, 'Software Engineering')])"
      ]
     },
     "execution_count": 13,
     "metadata": {},
     "output_type": "execute_result"
    },
    {
     "data": {
      "image/png": "[encoded data removed]",
      "text/plain": [
       "<Figure size 432x288 with 1 Axes>"
      ]
     },
     "metadata": {
      "needs_background": "light"
     },
     "output_type": "display_data"
    }
   ],
   "source": [
    "sns.barplot(x='Department',y='EmpSatisfaction',data=b)\n",
    "plt.xticks(rotation=45)"
   ]
  },
  {
   "cell_type": "markdown",
   "id": "ed4a2d6d",
   "metadata": {
    "papermill": {
     "duration": 0.013104,
     "end_time": "2022-07-13T13:38:53.892378",
     "exception": false,
     "start_time": "2022-07-13T13:38:53.879274",
     "status": "completed"
    },
    "tags": []
   },
   "source": [
    "**Executive Office is the most unSatisfaction Department**"
   ]
  },
  {
   "cell_type": "markdown",
   "id": "6c85de9e",
   "metadata": {
    "papermill": {
     "duration": 0.012675,
     "end_time": "2022-07-13T13:38:53.918558",
     "exception": false,
     "start_time": "2022-07-13T13:38:53.905883",
     "status": "completed"
    },
    "tags": []
   },
   "source": [
    "**now let's see what raises the level of satisfaction**"
   ]
  },
  {
   "cell_type": "code",
   "execution_count": 14,
   "id": "6ef6255e",
   "metadata": {
    "execution": {
     "iopub.execute_input": "2022-07-13T13:38:53.946199Z",
     "iopub.status.busy": "2022-07-13T13:38:53.945805Z",
     "iopub.status.idle": "2022-07-13T13:38:54.261958Z",
     "shell.execute_reply": "2022-07-13T13:38:54.261189Z"
    },
    "papermill": {
     "duration": 0.332868,
     "end_time": "2022-07-13T13:38:54.264588",
     "exception": false,
     "start_time": "2022-07-13T13:38:53.931720",
     "status": "completed"
    },
    "tags": []
   },
   "outputs": [
    {
     "data": {
      "text/plain": [
       "<AxesSubplot:xlabel='EmpSatisfaction', ylabel='Salary'>"
      ]
     },
     "execution_count": 14,
     "metadata": {},
     "output_type": "execute_result"
    },
    {
     "data": {
      "image/png": "[encoded data removed]",
      "text/plain": [
       "<Figure size 432x288 with 1 Axes>"
      ]
     },
     "metadata": {
      "needs_background": "light"
     },
     "output_type": "display_data"
    }
   ],
   "source": [
    "sns.lineplot(x = \"EmpSatisfaction\", y = \"Salary\", data = df)"
   ]
  },
  {
   "cell_type": "markdown",
   "id": "4238e24b",
   "metadata": {
    "papermill": {
     "duration": 0.01302,
     "end_time": "2022-07-13T13:38:54.291199",
     "exception": false,
     "start_time": "2022-07-13T13:38:54.278179",
     "status": "completed"
    },
    "tags": []
   },
   "source": [
    "**the salary  raises the level of satisfaction**"
   ]
  },
  {
   "cell_type": "code",
   "execution_count": 15,
   "id": "0206938f",
   "metadata": {
    "execution": {
     "iopub.execute_input": "2022-07-13T13:38:54.320913Z",
     "iopub.status.busy": "2022-07-13T13:38:54.320224Z",
     "iopub.status.idle": "2022-07-13T13:38:55.670890Z",
     "shell.execute_reply": "2022-07-13T13:38:55.670018Z"
    },
    "papermill": {
     "duration": 1.368433,
     "end_time": "2022-07-13T13:38:55.673159",
     "exception": false,
     "start_time": "2022-07-13T13:38:54.304726",
     "status": "completed"
    },
    "tags": []
   },
   "outputs": [
    {
     "data": {
      "text/plain": [
       "<AxesSubplot:xlabel='EngagementSurvey', ylabel='Salary'>"
      ]
     },
     "execution_count": 15,
     "metadata": {},
     "output_type": "execute_result"
    },
    {
     "data": {
      "image/png": "[encoded data removed]",
      "text/plain": [
       "<Figure size 432x288 with 1 Axes>"
      ]
     },
     "metadata": {
      "needs_background": "light"
     },
     "output_type": "display_data"
    }
   ],
   "source": [
    "sns.lineplot(x = \"EngagementSurvey\", y = \"Salary\", data = df)"
   ]
  },
  {
   "cell_type": "code",
   "execution_count": 16,
   "id": "35b82200",
   "metadata": {
    "execution": {
     "iopub.execute_input": "2022-07-13T13:38:55.703860Z",
     "iopub.status.busy": "2022-07-13T13:38:55.703217Z",
     "iopub.status.idle": "2022-07-13T13:38:55.715634Z",
     "shell.execute_reply": "2022-07-13T13:38:55.714615Z"
    },
    "papermill": {
     "duration": 0.030578,
     "end_time": "2022-07-13T13:38:55.717998",
     "exception": false,
     "start_time": "2022-07-13T13:38:55.687420",
     "status": "completed"
    },
    "tags": []
   },
   "outputs": [
    {
     "data": {
      "text/html": [
       "<div>\n",
       "<style scoped>\n",
       "    .dataframe tbody tr th:only-of-type {\n",
       "        vertical-align: middle;\n",
       "    }\n",
       "\n",
       "    .dataframe tbody tr th {\n",
       "        vertical-align: top;\n",
       "    }\n",
       "\n",
       "    .dataframe thead th {\n",
       "        text-align: right;\n",
       "    }\n",
       "</style>\n",
       "<table border=\"1\" class=\"dataframe\">\n",
       "  <thead>\n",
       "    <tr style=\"text-align: right;\">\n",
       "      <th></th>\n",
       "      <th>Department</th>\n",
       "      <th>Salary</th>\n",
       "    </tr>\n",
       "  </thead>\n",
       "  <tbody>\n",
       "    <tr>\n",
       "      <th>0</th>\n",
       "      <td>Admin Offices</td>\n",
       "      <td>71791.888889</td>\n",
       "    </tr>\n",
       "    <tr>\n",
       "      <th>1</th>\n",
       "      <td>Executive Office</td>\n",
       "      <td>250000.000000</td>\n",
       "    </tr>\n",
       "    <tr>\n",
       "      <th>2</th>\n",
       "      <td>IT/IS</td>\n",
       "      <td>97064.640000</td>\n",
       "    </tr>\n",
       "    <tr>\n",
       "      <th>3</th>\n",
       "      <td>Production</td>\n",
       "      <td>59953.545455</td>\n",
       "    </tr>\n",
       "    <tr>\n",
       "      <th>4</th>\n",
       "      <td>Sales</td>\n",
       "      <td>69061.258065</td>\n",
       "    </tr>\n",
       "    <tr>\n",
       "      <th>5</th>\n",
       "      <td>Software Engineering</td>\n",
       "      <td>94989.454545</td>\n",
       "    </tr>\n",
       "  </tbody>\n",
       "</table>\n",
       "</div>"
      ],
      "text/plain": [
       "             Department         Salary\n",
       "0         Admin Offices   71791.888889\n",
       "1      Executive Office  250000.000000\n",
       "2                 IT/IS   97064.640000\n",
       "3     Production          59953.545455\n",
       "4                 Sales   69061.258065\n",
       "5  Software Engineering   94989.454545"
      ]
     },
     "execution_count": 16,
     "metadata": {},
     "output_type": "execute_result"
    }
   ],
   "source": [
    "b=df.groupby('Department')['Salary'].mean().reset_index()\n",
    "b"
   ]
  },
  {
   "cell_type": "markdown",
   "id": "32ebf0f6",
   "metadata": {
    "papermill": {
     "duration": 0.015139,
     "end_time": "2022-07-13T13:38:55.748336",
     "exception": false,
     "start_time": "2022-07-13T13:38:55.733197",
     "status": "completed"
    },
    "tags": []
   },
   "source": [
    "**let's see are there areas of the company where pay is not equitable?**"
   ]
  },
  {
   "cell_type": "code",
   "execution_count": 17,
   "id": "f32faa54",
   "metadata": {
    "execution": {
     "iopub.execute_input": "2022-07-13T13:38:55.780185Z",
     "iopub.status.busy": "2022-07-13T13:38:55.779182Z",
     "iopub.status.idle": "2022-07-13T13:38:55.993989Z",
     "shell.execute_reply": "2022-07-13T13:38:55.993066Z"
    },
    "papermill": {
     "duration": 0.233353,
     "end_time": "2022-07-13T13:38:55.996563",
     "exception": false,
     "start_time": "2022-07-13T13:38:55.763210",
     "status": "completed"
    },
    "tags": []
   },
   "outputs": [
    {
     "data": {
      "text/plain": [
       "(array([0, 1, 2, 3, 4, 5]),\n",
       " [Text(0, 0, 'Admin Offices'),\n",
       "  Text(1, 0, 'Executive Office'),\n",
       "  Text(2, 0, 'IT/IS'),\n",
       "  Text(3, 0, 'Production       '),\n",
       "  Text(4, 0, 'Sales'),\n",
       "  Text(5, 0, 'Software Engineering')])"
      ]
     },
     "execution_count": 17,
     "metadata": {},
     "output_type": "execute_result"
    },
    {
     "data": {
      "image/png": "[encoded data removed]",
      "text/plain": [
       "<Figure size 432x288 with 1 Axes>"
      ]
     },
     "metadata": {
      "needs_background": "light"
     },
     "output_type": "display_data"
    }
   ],
   "source": [
    "sns.barplot(x='Department',y='Salary',data=b)\n",
    "plt.xticks(rotation=45)"
   ]
  },
  {
   "cell_type": "markdown",
   "id": "9c508124",
   "metadata": {
    "papermill": {
     "duration": 0.01468,
     "end_time": "2022-07-13T13:38:56.026411",
     "exception": false,
     "start_time": "2022-07-13T13:38:56.011731",
     "status": "completed"
    },
    "tags": []
   },
   "source": [
    "**Although production is the biggest department has the lowest salary**"
   ]
  },
  {
   "cell_type": "markdown",
   "id": "36d28c8b",
   "metadata": {
    "papermill": {
     "duration": 0.015034,
     "end_time": "2022-07-13T13:38:56.056397",
     "exception": false,
     "start_time": "2022-07-13T13:38:56.041363",
     "status": "completed"
    },
    "tags": []
   },
   "source": [
    "**let's see  best recruiting sources if we want to ensure a diverse organization**"
   ]
  },
  {
   "cell_type": "code",
   "execution_count": 18,
   "id": "4b27f2ee",
   "metadata": {
    "execution": {
     "iopub.execute_input": "2022-07-13T13:38:56.088674Z",
     "iopub.status.busy": "2022-07-13T13:38:56.088281Z",
     "iopub.status.idle": "2022-07-13T13:38:56.180565Z",
     "shell.execute_reply": "2022-07-13T13:38:56.178865Z"
    },
    "papermill": {
     "duration": 0.111429,
     "end_time": "2022-07-13T13:38:56.183341",
     "exception": false,
     "start_time": "2022-07-13T13:38:56.071912",
     "status": "completed"
    },
    "tags": []
   },
   "outputs": [
    {
     "data": {
      "text/html": [
       "<div>                            <div id=\"2b8cf76d-a60a-4963-b4ed-14b9da3b2626\" class=\"plotly-graph-div\" style=\"height:525px; width:100%;\"></div>            <script type=\"text/javascript\">                require([\"plotly\"], function(Plotly) {                    window.PLOTLYENV=window.PLOTLYENV || {};                                    if (document.getElementById(\"2b8cf76d-a60a-4963-b4ed-14b9da3b2626\")) {                    Plotly.newPlot(                        \"2b8cf76d-a60a-4963-b4ed-14b9da3b2626\",                        [{\"alignmentgroup\":\"True\",\"hovertemplate\":\"RaceDesc=White<br>RecruitmentSource=%{x}<br>count=%{y}<extra></extra>\",\"legendgroup\":\"White\",\"marker\":{\"color\":\"#636efa\",\"pattern\":{\"shape\":\"\"}},\"name\":\"White\",\"offsetgroup\":\"White\",\"orientation\":\"v\",\"showlegend\":true,\"textposition\":\"auto\",\"x\":[\"LinkedIn\",\"Indeed\",\"LinkedIn\",\"Indeed\",\"Google Search\",\"LinkedIn\",\"LinkedIn\",\"Employee Referral\",\"Indeed\",\"On-line Web application\",\"Google Search\",\"Employee Referral\",\"Google Search\",\"Google Search\",\"Google Search\",\"Indeed\",\"CareerBuilder\",\"Google Search\",\"Google Search\",\"Google Search\",\"Indeed\",\"Google Search\",\"Indeed\",\"Indeed\",\"Indeed\",\"Google Search\",\"Indeed\",\"Indeed\",\"LinkedIn\",\"Indeed\",\"Indeed\",\"Google Search\",\"Indeed\",\"Employee Referral\",\"Employee Referral\",\"CareerBuilder\",\"Indeed\",\"Indeed\",\"LinkedIn\",\"Employee Referral\",\"Indeed\",\"LinkedIn\",\"Indeed\",\"Indeed\",\"Indeed\",\"Indeed\",\"Indeed\",\"Indeed\",\"Website\",\"CareerBuilder\",\"Employee Referral\",\"Indeed\",\"Google Search\",\"Google Search\",\"Google Search\",\"LinkedIn\",\"Employee Referral\",\"Indeed\",\"Google Search\",\"Google Search\",\"Google Search\",\"Indeed\",\"LinkedIn\",\"Google Search\",\"Google Search\",\"Google Search\",\"Employee Referral\",\"Other\",\"LinkedIn\",\"Employee Referral\",\"Indeed\",\"Indeed\",\"LinkedIn\",\"Indeed\",\"Employee Referral\",\"LinkedIn\",\"LinkedIn\",\"Employee Referral\",\"CareerBuilder\",\"Google Search\",\"LinkedIn\",\"CareerBuilder\",\"CareerBuilder\",\"Google Search\",\"CareerBuilder\",\"Indeed\",\"Indeed\",\"LinkedIn\",\"LinkedIn\",\"LinkedIn\",\"Indeed\",\"Google Search\",\"Indeed\",\"Employee Referral\",\"LinkedIn\",\"CareerBuilder\",\"LinkedIn\",\"Google Search\",\"Indeed\",\"Indeed\",\"Indeed\",\"Google Search\",\"Google Search\",\"Employee Referral\",\"Employee Referral\",\"LinkedIn\",\"Google Search\",\"CareerBuilder\",\"Website\",\"Indeed\",\"LinkedIn\",\"LinkedIn\",\"Indeed\",\"LinkedIn\",\"LinkedIn\",\"LinkedIn\",\"Indeed\",\"CareerBuilder\",\"LinkedIn\",\"LinkedIn\",\"CareerBuilder\",\"LinkedIn\",\"Employee Referral\",\"LinkedIn\",\"LinkedIn\",\"Indeed\",\"Indeed\",\"LinkedIn\",\"Website\",\"Google Search\",\"Employee Referral\",\"LinkedIn\",\"Indeed\",\"Indeed\",\"Google Search\",\"Employee Referral\",\"Indeed\",\"Indeed\",\"CareerBuilder\",\"LinkedIn\",\"Indeed\",\"Indeed\",\"Employee Referral\",\"Employee Referral\",\"LinkedIn\",\"Website\",\"Google Search\",\"Indeed\",\"Indeed\",\"Google Search\",\"CareerBuilder\",\"LinkedIn\",\"LinkedIn\",\"Employee Referral\",\"Website\",\"CareerBuilder\",\"Indeed\",\"Employee Referral\",\"Indeed\",\"LinkedIn\",\"LinkedIn\",\"Website\",\"Indeed\",\"Google Search\",\"LinkedIn\",\"Indeed\",\"Google Search\",\"Indeed\",\"Other\",\"Indeed\",\"LinkedIn\",\"CareerBuilder\",\"LinkedIn\",\"Employee Referral\",\"LinkedIn\",\"Employee Referral\",\"Google Search\",\"LinkedIn\",\"CareerBuilder\",\"LinkedIn\",\"Website\",\"Google Search\",\"LinkedIn\",\"LinkedIn\",\"LinkedIn\",\"Employee Referral\",\"Employee Referral\"],\"xaxis\":\"x\",\"y\":[1,1,1,1,1,1,1,1,1,1,1,1,1,1,1,1,1,1,1,1,1,1,1,1,1,1,1,1,1,1,1,1,1,1,1,1,1,1,1,1,1,1,1,1,1,1,1,1,1,1,1,1,1,1,1,1,1,1,1,1,1,1,1,1,1,1,1,1,1,1,1,1,1,1,1,1,1,1,1,1,1,1,1,1,1,1,1,1,1,1,1,1,1,1,1,1,1,1,1,1,1,1,1,1,1,1,1,1,1,1,1,1,1,1,1,1,1,1,1,1,1,1,1,1,1,1,1,1,1,1,1,1,1,1,1,1,1,1,1,1,1,1,1,1,1,1,1,1,1,1,1,1,1,1,1,1,1,1,1,1,1,1,1,1,1,1,1,1,1,1,1,1,1,1,1,1,1,1,1,1,1,1,1,1,1,1,1],\"yaxis\":\"y\",\"type\":\"bar\"},{\"alignmentgroup\":\"True\",\"hovertemplate\":\"RaceDesc=Black or African American<br>RecruitmentSource=%{x}<br>count=%{y}<extra></extra>\",\"legendgroup\":\"Black or African American\",\"marker\":{\"color\":\"#EF553B\",\"pattern\":{\"shape\":\"\"}},\"name\":\"Black or African American\",\"offsetgroup\":\"Black or African American\",\"orientation\":\"v\",\"showlegend\":true,\"textposition\":\"auto\",\"x\":[\"Diversity Job Fair\",\"Diversity Job Fair\",\"Diversity Job Fair\",\"Diversity Job Fair\",\"LinkedIn\",\"Diversity Job Fair\",\"Diversity Job Fair\",\"Diversity Job Fair\",\"Google Search\",\"Employee Referral\",\"LinkedIn\",\"LinkedIn\",\"Employee Referral\",\"Indeed\",\"LinkedIn\",\"Indeed\",\"CareerBuilder\",\"Google Search\",\"Indeed\",\"Indeed\",\"Indeed\",\"LinkedIn\",\"LinkedIn\",\"Indeed\",\"CareerBuilder\",\"LinkedIn\",\"LinkedIn\",\"Diversity Job Fair\",\"CareerBuilder\",\"Diversity Job Fair\",\"Diversity Job Fair\",\"Diversity Job Fair\",\"Indeed\",\"Indeed\",\"LinkedIn\",\"CareerBuilder\",\"LinkedIn\",\"Diversity Job Fair\",\"Website\",\"Website\",\"Diversity Job Fair\",\"Indeed\",\"Website\",\"Diversity Job Fair\",\"LinkedIn\",\"CareerBuilder\",\"Diversity Job Fair\",\"Diversity Job Fair\",\"Indeed\",\"Diversity Job Fair\",\"LinkedIn\",\"Diversity Job Fair\",\"Diversity Job Fair\",\"LinkedIn\",\"Diversity Job Fair\",\"Google Search\",\"Employee Referral\",\"Website\",\"Diversity Job Fair\",\"Indeed\",\"Google Search\",\"Indeed\",\"Indeed\",\"Diversity Job Fair\",\"Diversity Job Fair\",\"LinkedIn\",\"LinkedIn\",\"Diversity Job Fair\",\"Diversity Job Fair\",\"LinkedIn\",\"Indeed\",\"Indeed\",\"Diversity Job Fair\",\"Indeed\",\"Indeed\",\"Diversity Job Fair\",\"Employee Referral\",\"Employee Referral\",\"Diversity Job Fair\",\"Diversity Job Fair\"],\"xaxis\":\"x\",\"y\":[1,1,1,1,1,1,1,1,1,1,1,1,1,1,1,1,1,1,1,1,1,1,1,1,1,1,1,1,1,1,1,1,1,1,1,1,1,1,1,1,1,1,1,1,1,1,1,1,1,1,1,1,1,1,1,1,1,1,1,1,1,1,1,1,1,1,1,1,1,1,1,1,1,1,1,1,1,1,1,1],\"yaxis\":\"y\",\"type\":\"bar\"},{\"alignmentgroup\":\"True\",\"hovertemplate\":\"RaceDesc=Two or more races<br>RecruitmentSource=%{x}<br>count=%{y}<extra></extra>\",\"legendgroup\":\"Two or more races\",\"marker\":{\"color\":\"#00cc96\",\"pattern\":{\"shape\":\"\"}},\"name\":\"Two or more races\",\"offsetgroup\":\"Two or more races\",\"orientation\":\"v\",\"showlegend\":true,\"textposition\":\"auto\",\"x\":[\"Google Search\",\"LinkedIn\",\"Indeed\",\"Indeed\",\"LinkedIn\",\"LinkedIn\",\"Website\",\"Indeed\",\"LinkedIn\",\"Google Search\",\"Indeed\"],\"xaxis\":\"x\",\"y\":[1,1,1,1,1,1,1,1,1,1,1],\"yaxis\":\"y\",\"type\":\"bar\"},{\"alignmentgroup\":\"True\",\"hovertemplate\":\"RaceDesc=Asian<br>RecruitmentSource=%{x}<br>count=%{y}<extra></extra>\",\"legendgroup\":\"Asian\",\"marker\":{\"color\":\"#ab63fa\",\"pattern\":{\"shape\":\"\"}},\"name\":\"Asian\",\"offsetgroup\":\"Asian\",\"orientation\":\"v\",\"showlegend\":true,\"textposition\":\"auto\",\"x\":[\"LinkedIn\",\"Indeed\",\"Indeed\",\"LinkedIn\",\"Indeed\",\"Indeed\",\"Indeed\",\"Indeed\",\"Indeed\",\"CareerBuilder\",\"Google Search\",\"Google Search\",\"LinkedIn\",\"Indeed\",\"LinkedIn\",\"CareerBuilder\",\"LinkedIn\",\"Google Search\",\"Google Search\",\"Google Search\",\"Google Search\",\"LinkedIn\",\"LinkedIn\",\"Indeed\",\"Website\",\"Indeed\",\"Employee Referral\",\"Google Search\",\"LinkedIn\"],\"xaxis\":\"x\",\"y\":[1,1,1,1,1,1,1,1,1,1,1,1,1,1,1,1,1,1,1,1,1,1,1,1,1,1,1,1,1],\"yaxis\":\"y\",\"type\":\"bar\"},{\"alignmentgroup\":\"True\",\"hovertemplate\":\"RaceDesc=American Indian or Alaska Native<br>RecruitmentSource=%{x}<br>count=%{y}<extra></extra>\",\"legendgroup\":\"American Indian or Alaska Native\",\"marker\":{\"color\":\"#FFA15A\",\"pattern\":{\"shape\":\"\"}},\"name\":\"American Indian or Alaska Native\",\"offsetgroup\":\"American Indian or Alaska Native\",\"orientation\":\"v\",\"showlegend\":true,\"textposition\":\"auto\",\"x\":[\"Google Search\",\"Indeed\",\"LinkedIn\"],\"xaxis\":\"x\",\"y\":[1,1,1],\"yaxis\":\"y\",\"type\":\"bar\"},{\"alignmentgroup\":\"True\",\"hovertemplate\":\"RaceDesc=Hispanic<br>RecruitmentSource=%{x}<br>count=%{y}<extra></extra>\",\"legendgroup\":\"Hispanic\",\"marker\":{\"color\":\"#19d3f3\",\"pattern\":{\"shape\":\"\"}},\"name\":\"Hispanic\",\"offsetgroup\":\"Hispanic\",\"orientation\":\"v\",\"showlegend\":true,\"textposition\":\"auto\",\"x\":[\"Indeed\"],\"xaxis\":\"x\",\"y\":[1],\"yaxis\":\"y\",\"type\":\"bar\"}],                        {\"template\":{\"data\":{\"histogram2dcontour\":[{\"type\":\"histogram2dcontour\",\"colorbar\":{\"outlinewidth\":0,\"ticks\":\"\"},\"colorscale\":[[0.0,\"#0d0887\"],[0.1111111111111111,\"#46039f\"],[0.2222222222222222,\"#7201a8\"],[0.3333333333333333,\"#9c179e\"],[0.4444444444444444,\"#bd3786\"],[0.5555555555555556,\"#d8576b\"],[0.6666666666666666,\"#ed7953\"],[0.7777777777777778,\"#fb9f3a\"],[0.8888888888888888,\"#fdca26\"],[1.0,\"#f0f921\"]]}],\"choropleth\":[{\"type\":\"choropleth\",\"colorbar\":{\"outlinewidth\":0,\"ticks\":\"\"}}],\"histogram2d\":[{\"type\":\"histogram2d\",\"colorbar\":{\"outlinewidth\":0,\"ticks\":\"\"},\"colorscale\":[[0.0,\"#0d0887\"],[0.1111111111111111,\"#46039f\"],[0.2222222222222222,\"#7201a8\"],[0.3333333333333333,\"#9c179e\"],[0.4444444444444444,\"#bd3786\"],[0.5555555555555556,\"#d8576b\"],[0.6666666666666666,\"#ed7953\"],[0.7777777777777778,\"#fb9f3a\"],[0.8888888888888888,\"#fdca26\"],[1.0,\"#f0f921\"]]}],\"heatmap\":[{\"type\":\"heatmap\",\"colorbar\":{\"outlinewidth\":0,\"ticks\":\"\"},\"colorscale\":[[0.0,\"#0d0887\"],[0.1111111111111111,\"#46039f\"],[0.2222222222222222,\"#7201a8\"],[0.3333333333333333,\"#9c179e\"],[0.4444444444444444,\"#bd3786\"],[0.5555555555555556,\"#d8576b\"],[0.6666666666666666,\"#ed7953\"],[0.7777777777777778,\"#fb9f3a\"],[0.8888888888888888,\"#fdca26\"],[1.0,\"#f0f921\"]]}],\"heatmapgl\":[{\"type\":\"heatmapgl\",\"colorbar\":{\"outlinewidth\":0,\"ticks\":\"\"},\"colorscale\":[[0.0,\"#0d0887\"],[0.1111111111111111,\"#46039f\"],[0.2222222222222222,\"#7201a8\"],[0.3333333333333333,\"#9c179e\"],[0.4444444444444444,\"#bd3786\"],[0.5555555555555556,\"#d8576b\"],[0.6666666666666666,\"#ed7953\"],[0.7777777777777778,\"#fb9f3a\"],[0.8888888888888888,\"#fdca26\"],[1.0,\"#f0f921\"]]}],\"contourcarpet\":[{\"type\":\"contourcarpet\",\"colorbar\":{\"outlinewidth\":0,\"ticks\":\"\"}}],\"contour\":[{\"type\":\"contour\",\"colorbar\":{\"outlinewidth\":0,\"ticks\":\"\"},\"colorscale\":[[0.0,\"#0d0887\"],[0.1111111111111111,\"#46039f\"],[0.2222222222222222,\"#7201a8\"],[0.3333333333333333,\"#9c179e\"],[0.4444444444444444,\"#bd3786\"],[0.5555555555555556,\"#d8576b\"],[0.6666666666666666,\"#ed7953\"],[0.7777777777777778,\"#fb9f3a\"],[0.8888888888888888,\"#fdca26\"],[1.0,\"#f0f921\"]]}],\"surface\":[{\"type\":\"surface\",\"colorbar\":{\"outlinewidth\":0,\"ticks\":\"\"},\"colorscale\":[[0.0,\"#0d0887\"],[0.1111111111111111,\"#46039f\"],[0.2222222222222222,\"#7201a8\"],[0.3333333333333333,\"#9c179e\"],[0.4444444444444444,\"#bd3786\"],[0.5555555555555556,\"#d8576b\"],[0.6666666666666666,\"#ed7953\"],[0.7777777777777778,\"#fb9f3a\"],[0.8888888888888888,\"#fdca26\"],[1.0,\"#f0f921\"]]}],\"mesh3d\":[{\"type\":\"mesh3d\",\"colorbar\":{\"outlinewidth\":0,\"ticks\":\"\"}}],\"scatter\":[{\"fillpattern\":{\"fillmode\":\"overlay\",\"size\":10,\"solidity\":0.2},\"type\":\"scatter\"}],\"parcoords\":[{\"type\":\"parcoords\",\"line\":{\"colorbar\":{\"outlinewidth\":0,\"ticks\":\"\"}}}],\"scatterpolargl\":[{\"type\":\"scatterpolargl\",\"marker\":{\"colorbar\":{\"outlinewidth\":0,\"ticks\":\"\"}}}],\"bar\":[{\"error_x\":{\"color\":\"#2a3f5f\"},\"error_y\":{\"color\":\"#2a3f5f\"},\"marker\":{\"line\":{\"color\":\"#E5ECF6\",\"width\":0.5},\"pattern\":{\"fillmode\":\"overlay\",\"size\":10,\"solidity\":0.2}},\"type\":\"bar\"}],\"scattergeo\":[{\"type\":\"scattergeo\",\"marker\":{\"colorbar\":{\"outlinewidth\":0,\"ticks\":\"\"}}}],\"scatterpolar\":[{\"type\":\"scatterpolar\",\"marker\":{\"colorbar\":{\"outlinewidth\":0,\"ticks\":\"\"}}}],\"histogram\":[{\"marker\":{\"pattern\":{\"fillmode\":\"overlay\",\"size\":10,\"solidity\":0.2}},\"type\":\"histogram\"}],\"scattergl\":[{\"type\":\"scattergl\",\"marker\":{\"colorbar\":{\"outlinewidth\":0,\"ticks\":\"\"}}}],\"scatter3d\":[{\"type\":\"scatter3d\",\"line\":{\"colorbar\":{\"outlinewidth\":0,\"ticks\":\"\"}},\"marker\":{\"colorbar\":{\"outlinewidth\":0,\"ticks\":\"\"}}}],\"scattermapbox\":[{\"type\":\"scattermapbox\",\"marker\":{\"colorbar\":{\"outlinewidth\":0,\"ticks\":\"\"}}}],\"scatterternary\":[{\"type\":\"scatterternary\",\"marker\":{\"colorbar\":{\"outlinewidth\":0,\"ticks\":\"\"}}}],\"scattercarpet\":[{\"type\":\"scattercarpet\",\"marker\":{\"colorbar\":{\"outlinewidth\":0,\"ticks\":\"\"}}}],\"carpet\":[{\"aaxis\":{\"endlinecolor\":\"#2a3f5f\",\"gridcolor\":\"white\",\"linecolor\":\"white\",\"minorgridcolor\":\"white\",\"startlinecolor\":\"#2a3f5f\"},\"baxis\":{\"endlinecolor\":\"#2a3f5f\",\"gridcolor\":\"white\",\"linecolor\":\"white\",\"minorgridcolor\":\"white\",\"startlinecolor\":\"#2a3f5f\"},\"type\":\"carpet\"}],\"table\":[{\"cells\":{\"fill\":{\"color\":\"#EBF0F8\"},\"line\":{\"color\":\"white\"}},\"header\":{\"fill\":{\"color\":\"#C8D4E3\"},\"line\":{\"color\":\"white\"}},\"type\":\"table\"}],\"barpolar\":[{\"marker\":{\"line\":{\"color\":\"#E5ECF6\",\"width\":0.5},\"pattern\":{\"fillmode\":\"overlay\",\"size\":10,\"solidity\":0.2}},\"type\":\"barpolar\"}],\"pie\":[{\"automargin\":true,\"type\":\"pie\"}]},\"layout\":{\"autotypenumbers\":\"strict\",\"colorway\":[\"#636efa\",\"#EF553B\",\"#00cc96\",\"#ab63fa\",\"#FFA15A\",\"#19d3f3\",\"#FF6692\",\"#B6E880\",\"#FF97FF\",\"#FECB52\"],\"font\":{\"color\":\"#2a3f5f\"},\"hovermode\":\"closest\",\"hoverlabel\":{\"align\":\"left\"},\"paper_bgcolor\":\"white\",\"plot_bgcolor\":\"#E5ECF6\",\"polar\":{\"bgcolor\":\"#E5ECF6\",\"angularaxis\":{\"gridcolor\":\"white\",\"linecolor\":\"white\",\"ticks\":\"\"},\"radialaxis\":{\"gridcolor\":\"white\",\"linecolor\":\"white\",\"ticks\":\"\"}},\"ternary\":{\"bgcolor\":\"#E5ECF6\",\"aaxis\":{\"gridcolor\":\"white\",\"linecolor\":\"white\",\"ticks\":\"\"},\"baxis\":{\"gridcolor\":\"white\",\"linecolor\":\"white\",\"ticks\":\"\"},\"caxis\":{\"gridcolor\":\"white\",\"linecolor\":\"white\",\"ticks\":\"\"}},\"coloraxis\":{\"colorbar\":{\"outlinewidth\":0,\"ticks\":\"\"}},\"colorscale\":{\"sequential\":[[0.0,\"#0d0887\"],[0.1111111111111111,\"#46039f\"],[0.2222222222222222,\"#7201a8\"],[0.3333333333333333,\"#9c179e\"],[0.4444444444444444,\"#bd3786\"],[0.5555555555555556,\"#d8576b\"],[0.6666666666666666,\"#ed7953\"],[0.7777777777777778,\"#fb9f3a\"],[0.8888888888888888,\"#fdca26\"],[1.0,\"#f0f921\"]],\"sequentialminus\":[[0.0,\"#0d0887\"],[0.1111111111111111,\"#46039f\"],[0.2222222222222222,\"#7201a8\"],[0.3333333333333333,\"#9c179e\"],[0.4444444444444444,\"#bd3786\"],[0.5555555555555556,\"#d8576b\"],[0.6666666666666666,\"#ed7953\"],[0.7777777777777778,\"#fb9f3a\"],[0.8888888888888888,\"#fdca26\"],[1.0,\"#f0f921\"]],\"diverging\":[[0,\"#8e0152\"],[0.1,\"#c51b7d\"],[0.2,\"#de77ae\"],[0.3,\"#f1b6da\"],[0.4,\"#fde0ef\"],[0.5,\"#f7f7f7\"],[0.6,\"#e6f5d0\"],[0.7,\"#b8e186\"],[0.8,\"#7fbc41\"],[0.9,\"#4d9221\"],[1,\"#276419\"]]},\"xaxis\":{\"gridcolor\":\"white\",\"linecolor\":\"white\",\"ticks\":\"\",\"title\":{\"standoff\":15},\"zerolinecolor\":\"white\",\"automargin\":true,\"zerolinewidth\":2},\"yaxis\":{\"gridcolor\":\"white\",\"linecolor\":\"white\",\"ticks\":\"\",\"title\":{\"standoff\":15},\"zerolinecolor\":\"white\",\"automargin\":true,\"zerolinewidth\":2},\"scene\":{\"xaxis\":{\"backgroundcolor\":\"#E5ECF6\",\"gridcolor\":\"white\",\"linecolor\":\"white\",\"showbackground\":true,\"ticks\":\"\",\"zerolinecolor\":\"white\",\"gridwidth\":2},\"yaxis\":{\"backgroundcolor\":\"#E5ECF6\",\"gridcolor\":\"white\",\"linecolor\":\"white\",\"showbackground\":true,\"ticks\":\"\",\"zerolinecolor\":\"white\",\"gridwidth\":2},\"zaxis\":{\"backgroundcolor\":\"#E5ECF6\",\"gridcolor\":\"white\",\"linecolor\":\"white\",\"showbackground\":true,\"ticks\":\"\",\"zerolinecolor\":\"white\",\"gridwidth\":2}},\"shapedefaults\":{\"line\":{\"color\":\"#2a3f5f\"}},\"annotationdefaults\":{\"arrowcolor\":\"#2a3f5f\",\"arrowhead\":0,\"arrowwidth\":1},\"geo\":{\"bgcolor\":\"white\",\"landcolor\":\"#E5ECF6\",\"subunitcolor\":\"white\",\"showland\":true,\"showlakes\":true,\"lakecolor\":\"white\"},\"title\":{\"x\":0.05},\"mapbox\":{\"style\":\"light\"}}},\"xaxis\":{\"anchor\":\"y\",\"domain\":[0.0,1.0],\"title\":{\"text\":\"RecruitmentSource\"}},\"yaxis\":{\"anchor\":\"x\",\"domain\":[0.0,1.0],\"title\":{\"text\":\"count\"}},\"legend\":{\"title\":{\"text\":\"RaceDesc\"},\"tracegroupgap\":0},\"margin\":{\"t\":60},\"barmode\":\"relative\"},                        {\"responsive\": true}                    ).then(function(){\n",
       "                            \n",
       "var gd = document.getElementById('2b8cf76d-a60a-4963-b4ed-14b9da3b2626');\n",
       "var x = new MutationObserver(function (mutations, observer) {{\n",
       "        var display = window.getComputedStyle(gd).display;\n",
       "        if (!display || display === 'none') {{\n",
       "            console.log([gd, 'removed!']);\n",
       "            Plotly.purge(gd);\n",
       "            observer.disconnect();\n",
       "        }}\n",
       "}});\n",
       "\n",
       "// Listen for the removal of the full notebook cells\n",
       "var notebookContainer = gd.closest('#notebook-container');\n",
       "if (notebookContainer) {{\n",
       "    x.observe(notebookContainer, {childList: true});\n",
       "}}\n",
       "\n",
       "// Listen for the clearing of the current output cell\n",
       "var outputEl = gd.closest('.output');\n",
       "if (outputEl) {{\n",
       "    x.observe(outputEl, {childList: true});\n",
       "}}\n",
       "\n",
       "                        })                };                });            </script>        </div>"
      ]
     },
     "metadata": {},
     "output_type": "display_data"
    }
   ],
   "source": [
    "fig = px.bar(df, x=\"RecruitmentSource\",  color=\"RaceDesc\" )\n",
    " \n",
    "fig.show()"
   ]
  },
  {
   "cell_type": "markdown",
   "id": "ac9654e9",
   "metadata": {
    "papermill": {
     "duration": 0.015376,
     "end_time": "2022-07-13T13:38:56.214754",
     "exception": false,
     "start_time": "2022-07-13T13:38:56.199378",
     "status": "completed"
    },
    "tags": []
   },
   "source": [
    "**indeed is the best**"
   ]
  },
  {
   "cell_type": "code",
   "execution_count": 19,
   "id": "c8b64fcc",
   "metadata": {
    "execution": {
     "iopub.execute_input": "2022-07-13T13:38:56.250501Z",
     "iopub.status.busy": "2022-07-13T13:38:56.249789Z",
     "iopub.status.idle": "2022-07-13T13:38:56.258606Z",
     "shell.execute_reply": "2022-07-13T13:38:56.257368Z"
    },
    "papermill": {
     "duration": 0.029436,
     "end_time": "2022-07-13T13:38:56.261230",
     "exception": false,
     "start_time": "2022-07-13T13:38:56.231794",
     "status": "completed"
    },
    "tags": []
   },
   "outputs": [],
   "source": [
    "df_num = df[['MarriedID', 'MaritalStatusID', 'GenderID','EmpStatusID', 'DeptID', 'PerfScoreID', 'FromDiversityJobFairID',\n",
    "       'Salary','PerformanceScore','EngagementSurvey','EmpSatisfaction','SpecialProjectsCount','Absences','DaysLateLast30']]\n"
   ]
  },
  {
   "cell_type": "code",
   "execution_count": 20,
   "id": "ce42a5e1",
   "metadata": {
    "execution": {
     "iopub.execute_input": "2022-07-13T13:38:56.293778Z",
     "iopub.status.busy": "2022-07-13T13:38:56.293331Z",
     "iopub.status.idle": "2022-07-13T13:38:56.719972Z",
     "shell.execute_reply": "2022-07-13T13:38:56.718706Z"
    },
    "papermill": {
     "duration": 0.445899,
     "end_time": "2022-07-13T13:38:56.722556",
     "exception": false,
     "start_time": "2022-07-13T13:38:56.276657",
     "status": "completed"
    },
    "tags": []
   },
   "outputs": [
    {
     "name": "stdout",
     "output_type": "stream",
     "text": [
      "                        MarriedID  MaritalStatusID  GenderID  EmpStatusID  \\\n",
      "MarriedID                1.000000         0.164044 -0.024199     0.085619   \n",
      "MaritalStatusID          0.164044         1.000000 -0.030236     0.114630   \n",
      "GenderID                -0.024199        -0.030236  1.000000    -0.032440   \n",
      "EmpStatusID              0.085619         0.114630 -0.032440     1.000000   \n",
      "DeptID                  -0.119932         0.012768 -0.038838     0.088711   \n",
      "PerfScoreID             -0.058362         0.044693 -0.054915    -0.071208   \n",
      "FromDiversityJobFairID  -0.012708         0.041117  0.031493     0.189025   \n",
      "Salary                   0.026165        -0.070291  0.056097    -0.110912   \n",
      "EngagementSurvey        -0.091178         0.033249 -0.036276     0.024305   \n",
      "EmpSatisfaction         -0.126191         0.002068 -0.044603     0.010553   \n",
      "SpecialProjectsCount     0.061278        -0.051093  0.087073    -0.166560   \n",
      "Absences                 0.096086         0.018722 -0.004577     0.091834   \n",
      "DaysLateLast30           0.002875        -0.096500  0.080329     0.078318   \n",
      "\n",
      "                          DeptID  PerfScoreID  FromDiversityJobFairID  \\\n",
      "MarriedID              -0.119932    -0.058362               -0.012708   \n",
      "MaritalStatusID         0.012768     0.044693                0.041117   \n",
      "GenderID               -0.038838    -0.054915                0.031493   \n",
      "EmpStatusID             0.088711    -0.071208                0.189025   \n",
      "DeptID                  1.000000    -0.084811               -0.129998   \n",
      "PerfScoreID            -0.084811     1.000000                0.012315   \n",
      "FromDiversityJobFairID -0.129998     0.012315                1.000000   \n",
      "Salary                 -0.448132     0.130903                0.041248   \n",
      "EngagementSurvey       -0.094940     0.544927               -0.013040   \n",
      "EmpSatisfaction         0.031997     0.303579               -0.034468   \n",
      "SpecialProjectsCount   -0.785101     0.045677                0.031393   \n",
      "Absences                0.053308     0.046629                0.062640   \n",
      "DaysLateLast30          0.124630    -0.734728                0.042532   \n",
      "\n",
      "                          Salary  EngagementSurvey  EmpSatisfaction  \\\n",
      "MarriedID               0.026165         -0.091178        -0.126191   \n",
      "MaritalStatusID        -0.070291          0.033249         0.002068   \n",
      "GenderID                0.056097         -0.036276        -0.044603   \n",
      "EmpStatusID            -0.110912          0.024305         0.010553   \n",
      "DeptID                 -0.448132         -0.094940         0.031997   \n",
      "PerfScoreID             0.130903          0.544927         0.303579   \n",
      "FromDiversityJobFairID  0.041248         -0.013040        -0.034468   \n",
      "Salary                  1.000000          0.064966         0.062718   \n",
      "EngagementSurvey        0.064966          1.000000         0.187105   \n",
      "EmpSatisfaction         0.062718          0.187105         1.000000   \n",
      "SpecialProjectsCount    0.508333          0.013227         0.033877   \n",
      "Absences                0.082382         -0.008771         0.075222   \n",
      "DaysLateLast30         -0.069443         -0.585232        -0.235412   \n",
      "\n",
      "                        SpecialProjectsCount  Absences  DaysLateLast30  \n",
      "MarriedID                           0.061278  0.096086        0.002875  \n",
      "MaritalStatusID                    -0.051093  0.018722       -0.096500  \n",
      "GenderID                            0.087073 -0.004577        0.080329  \n",
      "EmpStatusID                        -0.166560  0.091834        0.078318  \n",
      "DeptID                             -0.785101  0.053308        0.124630  \n",
      "PerfScoreID                         0.045677  0.046629       -0.734728  \n",
      "FromDiversityJobFairID              0.031393  0.062640        0.042532  \n",
      "Salary                              0.508333  0.082382       -0.069443  \n",
      "EngagementSurvey                    0.013227 -0.008771       -0.585232  \n",
      "EmpSatisfaction                     0.033877  0.075222       -0.235412  \n",
      "SpecialProjectsCount                1.000000 -0.020452       -0.092494  \n",
      "Absences                           -0.020452  1.000000        0.001833  \n",
      "DaysLateLast30                     -0.092494  0.001833        1.000000  \n"
     ]
    },
    {
     "data": {
      "text/plain": [
       "<AxesSubplot:>"
      ]
     },
     "execution_count": 20,
     "metadata": {},
     "output_type": "execute_result"
    },
    {
     "data": {
      "image/png": "[encoded data removed]",
      "text/plain": [
       "<Figure size 432x288 with 2 Axes>"
      ]
     },
     "metadata": {
      "needs_background": "light"
     },
     "output_type": "display_data"
    }
   ],
   "source": [
    "print(df_num.corr())\n",
    "sns.heatmap(df_num.corr())"
   ]
  }
 ],
 "metadata": {
  "kernelspec": {
   "display_name": "Python 3",
   "language": "python",
   "name": "python3"
  },
  "language_info": {
   "codemirror_mode": {
    "name": "ipython",
    "version": 3
   },
   "file_extension": ".py",
   "mimetype": "text/x-python",
   "name": "python",
   "nbconvert_exporter": "python",
   "pygments_lexer": "ipython3",
   "version": "3.7.12"
  },
  "papermill": {
   "default_parameters": {},
   "duration": 20.946689,
   "end_time": "2022-07-13T13:38:57.762127",
   "environment_variables": {},
   "exception": null,
   "input_path": "__notebook__.ipynb",
   "output_path": "__notebook__.ipynb",
   "parameters": {},
   "start_time": "2022-07-13T13:38:36.815438",
   "version": "2.3.4"
  }
 },
 "nbformat": 4,
 "nbformat_minor": 5
}
