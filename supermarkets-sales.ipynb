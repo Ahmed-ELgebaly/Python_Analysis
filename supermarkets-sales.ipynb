{
 "cells": [
  {
   "cell_type": "markdown",
   "id": "9a62d454",
   "metadata": {
    "papermill": {
     "duration": 0.009397,
     "end_time": "2022-07-11T04:09:42.051706",
     "exception": false,
     "start_time": "2022-07-11T04:09:42.042309",
     "status": "completed"
    },
    "tags": []
   },
   "source": [
    "# **import packages**\n",
    "# "
   ]
  },
  {
   "cell_type": "code",
   "execution_count": 1,
   "id": "9fbba2e0",
   "metadata": {
    "execution": {
     "iopub.execute_input": "2022-07-11T04:09:42.070838Z",
     "iopub.status.busy": "2022-07-11T04:09:42.069733Z",
     "iopub.status.idle": "2022-07-11T04:09:44.190208Z",
     "shell.execute_reply": "2022-07-11T04:09:44.189216Z"
    },
    "papermill": {
     "duration": 2.132661,
     "end_time": "2022-07-11T04:09:44.192886",
     "exception": false,
     "start_time": "2022-07-11T04:09:42.060225",
     "status": "completed"
    },
    "tags": []
   },
   "outputs": [],
   "source": [
    "import numpy as np\n",
    "import pandas as pd\n",
    "import seaborn as sns\n",
    "import matplotlib.pyplot as plt \n",
    "import scipy.stats\n",
    "from math import sqrt\n",
    "import statsmodels.api as sm\n",
    "import os\n",
    "import math\n",
    "from datetime import datetime\n",
    "from datetime import timedelta"
   ]
  },
  {
   "cell_type": "code",
   "execution_count": 2,
   "id": "8f78b5ca",
   "metadata": {
    "execution": {
     "iopub.execute_input": "2022-07-11T04:09:44.210642Z",
     "iopub.status.busy": "2022-07-11T04:09:44.209952Z",
     "iopub.status.idle": "2022-07-11T04:09:44.233017Z",
     "shell.execute_reply": "2022-07-11T04:09:44.232265Z"
    },
    "papermill": {
     "duration": 0.034546,
     "end_time": "2022-07-11T04:09:44.235379",
     "exception": false,
     "start_time": "2022-07-11T04:09:44.200833",
     "status": "completed"
    },
    "tags": []
   },
   "outputs": [],
   "source": [
    "df=pd.read_csv('../input/supermarket-sales/supermarket_sales - Sheet1.csv')"
   ]
  },
  {
   "cell_type": "markdown",
   "id": "5839a033",
   "metadata": {
    "papermill": {
     "duration": 0.007866,
     "end_time": "2022-07-11T04:09:44.251154",
     "exception": false,
     "start_time": "2022-07-11T04:09:44.243288",
     "status": "completed"
    },
    "tags": []
   },
   "source": [
    "# **explore the data**\n"
   ]
  },
  {
   "cell_type": "code",
   "execution_count": 3,
   "id": "26247566",
   "metadata": {
    "execution": {
     "iopub.execute_input": "2022-07-11T04:09:44.269315Z",
     "iopub.status.busy": "2022-07-11T04:09:44.268575Z",
     "iopub.status.idle": "2022-07-11T04:09:44.298370Z",
     "shell.execute_reply": "2022-07-11T04:09:44.297327Z"
    },
    "papermill": {
     "duration": 0.041581,
     "end_time": "2022-07-11T04:09:44.300580",
     "exception": false,
     "start_time": "2022-07-11T04:09:44.258999",
     "status": "completed"
    },
    "tags": []
   },
   "outputs": [
    {
     "data": {
      "text/html": [
       "<div>\n",
       "<style scoped>\n",
       "    .dataframe tbody tr th:only-of-type {\n",
       "        vertical-align: middle;\n",
       "    }\n",
       "\n",
       "    .dataframe tbody tr th {\n",
       "        vertical-align: top;\n",
       "    }\n",
       "\n",
       "    .dataframe thead th {\n",
       "        text-align: right;\n",
       "    }\n",
       "</style>\n",
       "<table border=\"1\" class=\"dataframe\">\n",
       "  <thead>\n",
       "    <tr style=\"text-align: right;\">\n",
       "      <th></th>\n",
       "      <th>Invoice ID</th>\n",
       "      <th>Branch</th>\n",
       "      <th>City</th>\n",
       "      <th>Customer type</th>\n",
       "      <th>Gender</th>\n",
       "      <th>Product line</th>\n",
       "      <th>Unit price</th>\n",
       "      <th>Quantity</th>\n",
       "      <th>Tax 5%</th>\n",
       "      <th>Total</th>\n",
       "      <th>Date</th>\n",
       "      <th>Time</th>\n",
       "      <th>Payment</th>\n",
       "      <th>cogs</th>\n",
       "      <th>gross margin percentage</th>\n",
       "      <th>gross income</th>\n",
       "      <th>Rating</th>\n",
       "    </tr>\n",
       "  </thead>\n",
       "  <tbody>\n",
       "    <tr>\n",
       "      <th>0</th>\n",
       "      <td>750-67-8428</td>\n",
       "      <td>A</td>\n",
       "      <td>Yangon</td>\n",
       "      <td>Member</td>\n",
       "      <td>Female</td>\n",
       "      <td>Health and beauty</td>\n",
       "      <td>74.69</td>\n",
       "      <td>7</td>\n",
       "      <td>26.1415</td>\n",
       "      <td>548.9715</td>\n",
       "      <td>1/5/2019</td>\n",
       "      <td>13:08</td>\n",
       "      <td>Ewallet</td>\n",
       "      <td>522.83</td>\n",
       "      <td>4.761905</td>\n",
       "      <td>26.1415</td>\n",
       "      <td>9.1</td>\n",
       "    </tr>\n",
       "    <tr>\n",
       "      <th>1</th>\n",
       "      <td>226-31-3081</td>\n",
       "      <td>C</td>\n",
       "      <td>Naypyitaw</td>\n",
       "      <td>Normal</td>\n",
       "      <td>Female</td>\n",
       "      <td>Electronic accessories</td>\n",
       "      <td>15.28</td>\n",
       "      <td>5</td>\n",
       "      <td>3.8200</td>\n",
       "      <td>80.2200</td>\n",
       "      <td>3/8/2019</td>\n",
       "      <td>10:29</td>\n",
       "      <td>Cash</td>\n",
       "      <td>76.40</td>\n",
       "      <td>4.761905</td>\n",
       "      <td>3.8200</td>\n",
       "      <td>9.6</td>\n",
       "    </tr>\n",
       "    <tr>\n",
       "      <th>2</th>\n",
       "      <td>631-41-3108</td>\n",
       "      <td>A</td>\n",
       "      <td>Yangon</td>\n",
       "      <td>Normal</td>\n",
       "      <td>Male</td>\n",
       "      <td>Home and lifestyle</td>\n",
       "      <td>46.33</td>\n",
       "      <td>7</td>\n",
       "      <td>16.2155</td>\n",
       "      <td>340.5255</td>\n",
       "      <td>3/3/2019</td>\n",
       "      <td>13:23</td>\n",
       "      <td>Credit card</td>\n",
       "      <td>324.31</td>\n",
       "      <td>4.761905</td>\n",
       "      <td>16.2155</td>\n",
       "      <td>7.4</td>\n",
       "    </tr>\n",
       "    <tr>\n",
       "      <th>3</th>\n",
       "      <td>123-19-1176</td>\n",
       "      <td>A</td>\n",
       "      <td>Yangon</td>\n",
       "      <td>Member</td>\n",
       "      <td>Male</td>\n",
       "      <td>Health and beauty</td>\n",
       "      <td>58.22</td>\n",
       "      <td>8</td>\n",
       "      <td>23.2880</td>\n",
       "      <td>489.0480</td>\n",
       "      <td>1/27/2019</td>\n",
       "      <td>20:33</td>\n",
       "      <td>Ewallet</td>\n",
       "      <td>465.76</td>\n",
       "      <td>4.761905</td>\n",
       "      <td>23.2880</td>\n",
       "      <td>8.4</td>\n",
       "    </tr>\n",
       "    <tr>\n",
       "      <th>4</th>\n",
       "      <td>373-73-7910</td>\n",
       "      <td>A</td>\n",
       "      <td>Yangon</td>\n",
       "      <td>Normal</td>\n",
       "      <td>Male</td>\n",
       "      <td>Sports and travel</td>\n",
       "      <td>86.31</td>\n",
       "      <td>7</td>\n",
       "      <td>30.2085</td>\n",
       "      <td>634.3785</td>\n",
       "      <td>2/8/2019</td>\n",
       "      <td>10:37</td>\n",
       "      <td>Ewallet</td>\n",
       "      <td>604.17</td>\n",
       "      <td>4.761905</td>\n",
       "      <td>30.2085</td>\n",
       "      <td>5.3</td>\n",
       "    </tr>\n",
       "  </tbody>\n",
       "</table>\n",
       "</div>"
      ],
      "text/plain": [
       "    Invoice ID Branch       City Customer type  Gender  \\\n",
       "0  750-67-8428      A     Yangon        Member  Female   \n",
       "1  226-31-3081      C  Naypyitaw        Normal  Female   \n",
       "2  631-41-3108      A     Yangon        Normal    Male   \n",
       "3  123-19-1176      A     Yangon        Member    Male   \n",
       "4  373-73-7910      A     Yangon        Normal    Male   \n",
       "\n",
       "             Product line  Unit price  Quantity   Tax 5%     Total       Date  \\\n",
       "0       Health and beauty       74.69         7  26.1415  548.9715   1/5/2019   \n",
       "1  Electronic accessories       15.28         5   3.8200   80.2200   3/8/2019   \n",
       "2      Home and lifestyle       46.33         7  16.2155  340.5255   3/3/2019   \n",
       "3       Health and beauty       58.22         8  23.2880  489.0480  1/27/2019   \n",
       "4       Sports and travel       86.31         7  30.2085  634.3785   2/8/2019   \n",
       "\n",
       "    Time      Payment    cogs  gross margin percentage  gross income  Rating  \n",
       "0  13:08      Ewallet  522.83                 4.761905       26.1415     9.1  \n",
       "1  10:29         Cash   76.40                 4.761905        3.8200     9.6  \n",
       "2  13:23  Credit card  324.31                 4.761905       16.2155     7.4  \n",
       "3  20:33      Ewallet  465.76                 4.761905       23.2880     8.4  \n",
       "4  10:37      Ewallet  604.17                 4.761905       30.2085     5.3  "
      ]
     },
     "execution_count": 3,
     "metadata": {},
     "output_type": "execute_result"
    }
   ],
   "source": [
    "df.head()"
   ]
  },
  {
   "cell_type": "code",
   "execution_count": 4,
   "id": "e76057e1",
   "metadata": {
    "execution": {
     "iopub.execute_input": "2022-07-11T04:09:44.319806Z",
     "iopub.status.busy": "2022-07-11T04:09:44.319034Z",
     "iopub.status.idle": "2022-07-11T04:09:44.325898Z",
     "shell.execute_reply": "2022-07-11T04:09:44.324874Z"
    },
    "papermill": {
     "duration": 0.018574,
     "end_time": "2022-07-11T04:09:44.328158",
     "exception": false,
     "start_time": "2022-07-11T04:09:44.309584",
     "status": "completed"
    },
    "tags": []
   },
   "outputs": [
    {
     "data": {
      "text/plain": [
       "Index(['Invoice ID', 'Branch', 'City', 'Customer type', 'Gender',\n",
       "       'Product line', 'Unit price', 'Quantity', 'Tax 5%', 'Total', 'Date',\n",
       "       'Time', 'Payment', 'cogs', 'gross margin percentage', 'gross income',\n",
       "       'Rating'],\n",
       "      dtype='object')"
      ]
     },
     "execution_count": 4,
     "metadata": {},
     "output_type": "execute_result"
    }
   ],
   "source": [
    "df.columns\n"
   ]
  },
  {
   "cell_type": "markdown",
   "id": "058a5e39",
   "metadata": {
    "papermill": {
     "duration": 0.007959,
     "end_time": "2022-07-11T04:09:44.344513",
     "exception": false,
     "start_time": "2022-07-11T04:09:44.336554",
     "status": "completed"
    },
    "tags": []
   },
   "source": [
    "# **cleaning the data**"
   ]
  },
  {
   "cell_type": "markdown",
   "id": "cd7d21fc",
   "metadata": {
    "papermill": {
     "duration": 0.007641,
     "end_time": "2022-07-11T04:09:44.360106",
     "exception": false,
     "start_time": "2022-07-11T04:09:44.352465",
     "status": "completed"
    },
    "tags": []
   },
   "source": [
    "<!-- # * cleaning the data* -->"
   ]
  },
  {
   "cell_type": "code",
   "execution_count": 5,
   "id": "ae3bcf15",
   "metadata": {
    "execution": {
     "iopub.execute_input": "2022-07-11T04:09:44.377514Z",
     "iopub.status.busy": "2022-07-11T04:09:44.377158Z",
     "iopub.status.idle": "2022-07-11T04:09:44.394878Z",
     "shell.execute_reply": "2022-07-11T04:09:44.394009Z"
    },
    "papermill": {
     "duration": 0.028941,
     "end_time": "2022-07-11T04:09:44.396941",
     "exception": false,
     "start_time": "2022-07-11T04:09:44.368000",
     "status": "completed"
    },
    "tags": []
   },
   "outputs": [],
   "source": [
    "df=df.drop_duplicates(subset=['Invoice ID'])\n",
    "#**First we remove the duplicates**\n"
   ]
  },
  {
   "cell_type": "markdown",
   "id": "b32f390f",
   "metadata": {
    "papermill": {
     "duration": 0.007793,
     "end_time": "2022-07-11T04:09:44.412735",
     "exception": false,
     "start_time": "2022-07-11T04:09:44.404942",
     "status": "completed"
    },
    "tags": []
   },
   "source": [
    "**I will make sure the data is uniqe**"
   ]
  },
  {
   "cell_type": "code",
   "execution_count": 6,
   "id": "7031181e",
   "metadata": {
    "execution": {
     "iopub.execute_input": "2022-07-11T04:09:44.430724Z",
     "iopub.status.busy": "2022-07-11T04:09:44.429895Z",
     "iopub.status.idle": "2022-07-11T04:09:44.436724Z",
     "shell.execute_reply": "2022-07-11T04:09:44.435837Z"
    },
    "papermill": {
     "duration": 0.018098,
     "end_time": "2022-07-11T04:09:44.438734",
     "exception": false,
     "start_time": "2022-07-11T04:09:44.420636",
     "status": "completed"
    },
    "tags": []
   },
   "outputs": [
    {
     "data": {
      "text/plain": [
       "1000"
      ]
     },
     "execution_count": 6,
     "metadata": {},
     "output_type": "execute_result"
    }
   ],
   "source": [
    "df['Invoice ID'].nunique()\n",
    "\n"
   ]
  },
  {
   "cell_type": "markdown",
   "id": "609d24da",
   "metadata": {
    "papermill": {
     "duration": 0.008222,
     "end_time": "2022-07-11T04:09:44.455278",
     "exception": false,
     "start_time": "2022-07-11T04:09:44.447056",
     "status": "completed"
    },
    "tags": []
   },
   "source": [
    "**i will see what the  best selling Product line for each branch**"
   ]
  },
  {
   "cell_type": "code",
   "execution_count": 7,
   "id": "0e70d5f8",
   "metadata": {
    "execution": {
     "iopub.execute_input": "2022-07-11T04:09:44.474213Z",
     "iopub.status.busy": "2022-07-11T04:09:44.473036Z",
     "iopub.status.idle": "2022-07-11T04:09:44.499397Z",
     "shell.execute_reply": "2022-07-11T04:09:44.497974Z"
    },
    "papermill": {
     "duration": 0.038486,
     "end_time": "2022-07-11T04:09:44.501983",
     "exception": false,
     "start_time": "2022-07-11T04:09:44.463497",
     "status": "completed"
    },
    "tags": []
   },
   "outputs": [
    {
     "name": "stdout",
     "output_type": "stream",
     "text": [
      "Branch                   A   B   C\n",
      "Product line                      \n",
      "Electronic accessories  60  55  55\n",
      "Fashion accessories     51  62  65\n",
      "Food and beverages      58  50  66\n",
      "Health and beauty       47  53  52\n",
      "Home and lifestyle      65  50  45\n",
      "Sports and travel       59  62  45\n",
      "\n"
     ]
    }
   ],
   "source": [
    "print(pd.pivot_table(df, index = 'Product line', columns = 'Branch' ,values = 'gross income' ,aggfunc ='count'))\n",
    "print()\n"
   ]
  },
  {
   "cell_type": "markdown",
   "id": "e6451c86",
   "metadata": {
    "papermill": {
     "duration": 0.008532,
     "end_time": "2022-07-11T04:09:44.518839",
     "exception": false,
     "start_time": "2022-07-11T04:09:44.510307",
     "status": "completed"
    },
    "tags": []
   },
   "source": [
    "**Discover the best selling branch**"
   ]
  },
  {
   "cell_type": "code",
   "execution_count": 8,
   "id": "7b21ae53",
   "metadata": {
    "execution": {
     "iopub.execute_input": "2022-07-11T04:09:44.537564Z",
     "iopub.status.busy": "2022-07-11T04:09:44.536615Z",
     "iopub.status.idle": "2022-07-11T04:09:44.551922Z",
     "shell.execute_reply": "2022-07-11T04:09:44.550930Z"
    },
    "papermill": {
     "duration": 0.02686,
     "end_time": "2022-07-11T04:09:44.554091",
     "exception": false,
     "start_time": "2022-07-11T04:09:44.527231",
     "status": "completed"
    },
    "tags": []
   },
   "outputs": [
    {
     "data": {
      "text/html": [
       "<div>\n",
       "<style scoped>\n",
       "    .dataframe tbody tr th:only-of-type {\n",
       "        vertical-align: middle;\n",
       "    }\n",
       "\n",
       "    .dataframe tbody tr th {\n",
       "        vertical-align: top;\n",
       "    }\n",
       "\n",
       "    .dataframe thead th {\n",
       "        text-align: right;\n",
       "    }\n",
       "</style>\n",
       "<table border=\"1\" class=\"dataframe\">\n",
       "  <thead>\n",
       "    <tr style=\"text-align: right;\">\n",
       "      <th></th>\n",
       "      <th>Branch</th>\n",
       "      <th>gross income</th>\n",
       "    </tr>\n",
       "  </thead>\n",
       "  <tbody>\n",
       "    <tr>\n",
       "      <th>0</th>\n",
       "      <td>A</td>\n",
       "      <td>14.874001</td>\n",
       "    </tr>\n",
       "    <tr>\n",
       "      <th>1</th>\n",
       "      <td>B</td>\n",
       "      <td>15.232024</td>\n",
       "    </tr>\n",
       "    <tr>\n",
       "      <th>2</th>\n",
       "      <td>C</td>\n",
       "      <td>16.052367</td>\n",
       "    </tr>\n",
       "  </tbody>\n",
       "</table>\n",
       "</div>"
      ],
      "text/plain": [
       "  Branch  gross income\n",
       "0      A     14.874001\n",
       "1      B     15.232024\n",
       "2      C     16.052367"
      ]
     },
     "execution_count": 8,
     "metadata": {},
     "output_type": "execute_result"
    }
   ],
   "source": [
    "b= df.groupby('Branch')[['gross income']].mean().reset_index()\n",
    "b"
   ]
  },
  {
   "cell_type": "code",
   "execution_count": 9,
   "id": "7218a69c",
   "metadata": {
    "execution": {
     "iopub.execute_input": "2022-07-11T04:09:44.573328Z",
     "iopub.status.busy": "2022-07-11T04:09:44.572557Z",
     "iopub.status.idle": "2022-07-11T04:09:44.762788Z",
     "shell.execute_reply": "2022-07-11T04:09:44.761813Z"
    },
    "papermill": {
     "duration": 0.202369,
     "end_time": "2022-07-11T04:09:44.765156",
     "exception": false,
     "start_time": "2022-07-11T04:09:44.562787",
     "status": "completed"
    },
    "tags": []
   },
   "outputs": [
    {
     "data": {
      "text/plain": [
       "<AxesSubplot:xlabel='Branch', ylabel='gross income'>"
      ]
     },
     "execution_count": 9,
     "metadata": {},
     "output_type": "execute_result"
    },
    {
     "data": {
      "image/png": "[encoded data removed]",
      "text/plain": [
       "<Figure size 432x288 with 1 Axes>"
      ]
     },
     "metadata": {
      "needs_background": "light"
     },
     "output_type": "display_data"
    }
   ],
   "source": [
    "sns.barplot(x='Branch',y='gross income',data=b)"
   ]
  },
  {
   "cell_type": "markdown",
   "id": "92d583b6",
   "metadata": {
    "papermill": {
     "duration": 0.008501,
     "end_time": "2022-07-11T04:09:44.782239",
     "exception": false,
     "start_time": "2022-07-11T04:09:44.773738",
     "status": "completed"
    },
    "tags": []
   },
   "source": [
    "let's see which "
   ]
  },
  {
   "cell_type": "code",
   "execution_count": 10,
   "id": "8813537d",
   "metadata": {
    "execution": {
     "iopub.execute_input": "2022-07-11T04:09:44.801602Z",
     "iopub.status.busy": "2022-07-11T04:09:44.801226Z",
     "iopub.status.idle": "2022-07-11T04:09:44.816093Z",
     "shell.execute_reply": "2022-07-11T04:09:44.814972Z"
    },
    "papermill": {
     "duration": 0.027224,
     "end_time": "2022-07-11T04:09:44.818315",
     "exception": false,
     "start_time": "2022-07-11T04:09:44.791091",
     "status": "completed"
    },
    "tags": []
   },
   "outputs": [
    {
     "data": {
      "text/html": [
       "<div>\n",
       "<style scoped>\n",
       "    .dataframe tbody tr th:only-of-type {\n",
       "        vertical-align: middle;\n",
       "    }\n",
       "\n",
       "    .dataframe tbody tr th {\n",
       "        vertical-align: top;\n",
       "    }\n",
       "\n",
       "    .dataframe thead th {\n",
       "        text-align: right;\n",
       "    }\n",
       "</style>\n",
       "<table border=\"1\" class=\"dataframe\">\n",
       "  <thead>\n",
       "    <tr style=\"text-align: right;\">\n",
       "      <th></th>\n",
       "      <th>Product line</th>\n",
       "      <th>gross income</th>\n",
       "    </tr>\n",
       "  </thead>\n",
       "  <tbody>\n",
       "    <tr>\n",
       "      <th>0</th>\n",
       "      <td>Electronic accessories</td>\n",
       "      <td>2587.5015</td>\n",
       "    </tr>\n",
       "    <tr>\n",
       "      <th>1</th>\n",
       "      <td>Fashion accessories</td>\n",
       "      <td>2585.9950</td>\n",
       "    </tr>\n",
       "    <tr>\n",
       "      <th>2</th>\n",
       "      <td>Food and beverages</td>\n",
       "      <td>2673.5640</td>\n",
       "    </tr>\n",
       "    <tr>\n",
       "      <th>3</th>\n",
       "      <td>Health and beauty</td>\n",
       "      <td>2342.5590</td>\n",
       "    </tr>\n",
       "    <tr>\n",
       "      <th>4</th>\n",
       "      <td>Home and lifestyle</td>\n",
       "      <td>2564.8530</td>\n",
       "    </tr>\n",
       "    <tr>\n",
       "      <th>5</th>\n",
       "      <td>Sports and travel</td>\n",
       "      <td>2624.8965</td>\n",
       "    </tr>\n",
       "  </tbody>\n",
       "</table>\n",
       "</div>"
      ],
      "text/plain": [
       "             Product line  gross income\n",
       "0  Electronic accessories     2587.5015\n",
       "1     Fashion accessories     2585.9950\n",
       "2      Food and beverages     2673.5640\n",
       "3       Health and beauty     2342.5590\n",
       "4      Home and lifestyle     2564.8530\n",
       "5       Sports and travel     2624.8965"
      ]
     },
     "execution_count": 10,
     "metadata": {},
     "output_type": "execute_result"
    }
   ],
   "source": [
    "b=df.groupby('Product line')['gross income'].sum().reset_index()\n",
    "b\n"
   ]
  },
  {
   "cell_type": "code",
   "execution_count": 11,
   "id": "c51e8d32",
   "metadata": {
    "execution": {
     "iopub.execute_input": "2022-07-11T04:09:44.839405Z",
     "iopub.status.busy": "2022-07-11T04:09:44.838771Z",
     "iopub.status.idle": "2022-07-11T04:09:45.029606Z",
     "shell.execute_reply": "2022-07-11T04:09:45.028543Z"
    },
    "papermill": {
     "duration": 0.204317,
     "end_time": "2022-07-11T04:09:45.032013",
     "exception": false,
     "start_time": "2022-07-11T04:09:44.827696",
     "status": "completed"
    },
    "tags": []
   },
   "outputs": [
    {
     "data": {
      "text/plain": [
       "(array([0, 1, 2, 3, 4, 5]),\n",
       " [Text(0, 0, 'Electronic accessories'),\n",
       "  Text(1, 0, 'Fashion accessories'),\n",
       "  Text(2, 0, 'Food and beverages'),\n",
       "  Text(3, 0, 'Health and beauty'),\n",
       "  Text(4, 0, 'Home and lifestyle'),\n",
       "  Text(5, 0, 'Sports and travel')])"
      ]
     },
     "execution_count": 11,
     "metadata": {},
     "output_type": "execute_result"
    },
    {
     "data": {
      "image/png": "[encoded data removed]",
      "text/plain": [
       "<Figure size 432x288 with 1 Axes>"
      ]
     },
     "metadata": {
      "needs_background": "light"
     },
     "output_type": "display_data"
    }
   ],
   "source": [
    "sns.barplot(x='Product line',y='gross income',data=b)\n",
    "plt.xticks(rotation=45)\n",
    "\n",
    "\n"
   ]
  },
  {
   "cell_type": "markdown",
   "id": "4f07131e",
   "metadata": {
    "papermill": {
     "duration": 0.009262,
     "end_time": "2022-07-11T04:09:45.050793",
     "exception": false,
     "start_time": "2022-07-11T04:09:45.041531",
     "status": "completed"
    },
    "tags": []
   },
   "source": [
    "\n",
    "**food and beverages is the most gross income**"
   ]
  },
  {
   "cell_type": "markdown",
   "id": "fb5d739e",
   "metadata": {
    "papermill": {
     "duration": 0.009003,
     "end_time": "2022-07-11T04:09:45.069334",
     "exception": false,
     "start_time": "2022-07-11T04:09:45.060331",
     "status": "completed"
    },
    "tags": []
   },
   "source": [
    "# **let's make deep analysis of branch C to know what make the most income**\n",
    "# "
   ]
  },
  {
   "cell_type": "markdown",
   "id": "9b099ba0",
   "metadata": {
    "papermill": {
     "duration": 0.009189,
     "end_time": "2022-07-11T04:09:45.087959",
     "exception": false,
     "start_time": "2022-07-11T04:09:45.078770",
     "status": "completed"
    },
    "tags": []
   },
   "source": [
    "**as we can see C branch the most gross income**"
   ]
  },
  {
   "cell_type": "markdown",
   "id": "65242611",
   "metadata": {
    "papermill": {
     "duration": 0.009198,
     "end_time": "2022-07-11T04:09:45.106618",
     "exception": false,
     "start_time": "2022-07-11T04:09:45.097420",
     "status": "completed"
    },
    "tags": []
   },
   "source": [
    "and i will show the most rating branch"
   ]
  },
  {
   "cell_type": "code",
   "execution_count": 12,
   "id": "77d99b0d",
   "metadata": {
    "execution": {
     "iopub.execute_input": "2022-07-11T04:09:45.128037Z",
     "iopub.status.busy": "2022-07-11T04:09:45.127380Z",
     "iopub.status.idle": "2022-07-11T04:09:45.139915Z",
     "shell.execute_reply": "2022-07-11T04:09:45.138839Z"
    },
    "papermill": {
     "duration": 0.025692,
     "end_time": "2022-07-11T04:09:45.141955",
     "exception": false,
     "start_time": "2022-07-11T04:09:45.116263",
     "status": "completed"
    },
    "tags": []
   },
   "outputs": [
    {
     "data": {
      "text/html": [
       "<div>\n",
       "<style scoped>\n",
       "    .dataframe tbody tr th:only-of-type {\n",
       "        vertical-align: middle;\n",
       "    }\n",
       "\n",
       "    .dataframe tbody tr th {\n",
       "        vertical-align: top;\n",
       "    }\n",
       "\n",
       "    .dataframe thead th {\n",
       "        text-align: right;\n",
       "    }\n",
       "</style>\n",
       "<table border=\"1\" class=\"dataframe\">\n",
       "  <thead>\n",
       "    <tr style=\"text-align: right;\">\n",
       "      <th></th>\n",
       "      <th>Branch</th>\n",
       "      <th>Rating</th>\n",
       "    </tr>\n",
       "  </thead>\n",
       "  <tbody>\n",
       "    <tr>\n",
       "      <th>0</th>\n",
       "      <td>A</td>\n",
       "      <td>7.027059</td>\n",
       "    </tr>\n",
       "    <tr>\n",
       "      <th>1</th>\n",
       "      <td>B</td>\n",
       "      <td>6.818072</td>\n",
       "    </tr>\n",
       "    <tr>\n",
       "      <th>2</th>\n",
       "      <td>C</td>\n",
       "      <td>7.072866</td>\n",
       "    </tr>\n",
       "  </tbody>\n",
       "</table>\n",
       "</div>"
      ],
      "text/plain": [
       "  Branch    Rating\n",
       "0      A  7.027059\n",
       "1      B  6.818072\n",
       "2      C  7.072866"
      ]
     },
     "execution_count": 12,
     "metadata": {},
     "output_type": "execute_result"
    }
   ],
   "source": [
    "b=df.groupby('Branch')[['Rating']].mean().reset_index()\n",
    "b"
   ]
  },
  {
   "cell_type": "markdown",
   "id": "c5033447",
   "metadata": {
    "papermill": {
     "duration": 0.009505,
     "end_time": "2022-07-11T04:09:45.161296",
     "exception": false,
     "start_time": "2022-07-11T04:09:45.151791",
     "status": "completed"
    },
    "tags": []
   },
   "source": [
    "**Let's separate branch C so that we can analyze it individually**"
   ]
  },
  {
   "cell_type": "code",
   "execution_count": 13,
   "id": "f1ab2aed",
   "metadata": {
    "execution": {
     "iopub.execute_input": "2022-07-11T04:09:45.182830Z",
     "iopub.status.busy": "2022-07-11T04:09:45.182179Z",
     "iopub.status.idle": "2022-07-11T04:09:45.188174Z",
     "shell.execute_reply": "2022-07-11T04:09:45.187429Z"
    },
    "papermill": {
     "duration": 0.019131,
     "end_time": "2022-07-11T04:09:45.190161",
     "exception": false,
     "start_time": "2022-07-11T04:09:45.171030",
     "status": "completed"
    },
    "tags": []
   },
   "outputs": [],
   "source": [
    "b= df.groupby('Branch')\n",
    "branch_C=b.get_group('C')\n"
   ]
  },
  {
   "cell_type": "markdown",
   "id": "2c880472",
   "metadata": {
    "papermill": {
     "duration": 0.00915,
     "end_time": "2022-07-11T04:09:45.208683",
     "exception": false,
     "start_time": "2022-07-11T04:09:45.199533",
     "status": "completed"
    },
    "tags": []
   },
   "source": [
    "**and now let's but branch_C in Data frame**"
   ]
  },
  {
   "cell_type": "code",
   "execution_count": 14,
   "id": "99778cea",
   "metadata": {
    "execution": {
     "iopub.execute_input": "2022-07-11T04:09:45.229971Z",
     "iopub.status.busy": "2022-07-11T04:09:45.229320Z",
     "iopub.status.idle": "2022-07-11T04:09:45.255184Z",
     "shell.execute_reply": "2022-07-11T04:09:45.254077Z"
    },
    "papermill": {
     "duration": 0.03901,
     "end_time": "2022-07-11T04:09:45.257310",
     "exception": false,
     "start_time": "2022-07-11T04:09:45.218300",
     "status": "completed"
    },
    "tags": []
   },
   "outputs": [
    {
     "data": {
      "text/html": [
       "<div>\n",
       "<style scoped>\n",
       "    .dataframe tbody tr th:only-of-type {\n",
       "        vertical-align: middle;\n",
       "    }\n",
       "\n",
       "    .dataframe tbody tr th {\n",
       "        vertical-align: top;\n",
       "    }\n",
       "\n",
       "    .dataframe thead th {\n",
       "        text-align: right;\n",
       "    }\n",
       "</style>\n",
       "<table border=\"1\" class=\"dataframe\">\n",
       "  <thead>\n",
       "    <tr style=\"text-align: right;\">\n",
       "      <th></th>\n",
       "      <th>Invoice ID</th>\n",
       "      <th>Branch</th>\n",
       "      <th>City</th>\n",
       "      <th>Customer type</th>\n",
       "      <th>Gender</th>\n",
       "      <th>Product line</th>\n",
       "      <th>Unit price</th>\n",
       "      <th>Quantity</th>\n",
       "      <th>Tax 5%</th>\n",
       "      <th>Total</th>\n",
       "      <th>Date</th>\n",
       "      <th>Time</th>\n",
       "      <th>Payment</th>\n",
       "      <th>cogs</th>\n",
       "      <th>gross margin percentage</th>\n",
       "      <th>gross income</th>\n",
       "      <th>Rating</th>\n",
       "    </tr>\n",
       "  </thead>\n",
       "  <tbody>\n",
       "    <tr>\n",
       "      <th>1</th>\n",
       "      <td>226-31-3081</td>\n",
       "      <td>C</td>\n",
       "      <td>Naypyitaw</td>\n",
       "      <td>Normal</td>\n",
       "      <td>Female</td>\n",
       "      <td>Electronic accessories</td>\n",
       "      <td>15.28</td>\n",
       "      <td>5</td>\n",
       "      <td>3.8200</td>\n",
       "      <td>80.2200</td>\n",
       "      <td>3/8/2019</td>\n",
       "      <td>10:29</td>\n",
       "      <td>Cash</td>\n",
       "      <td>76.40</td>\n",
       "      <td>4.761905</td>\n",
       "      <td>3.8200</td>\n",
       "      <td>9.6</td>\n",
       "    </tr>\n",
       "    <tr>\n",
       "      <th>5</th>\n",
       "      <td>699-14-3026</td>\n",
       "      <td>C</td>\n",
       "      <td>Naypyitaw</td>\n",
       "      <td>Normal</td>\n",
       "      <td>Male</td>\n",
       "      <td>Electronic accessories</td>\n",
       "      <td>85.39</td>\n",
       "      <td>7</td>\n",
       "      <td>29.8865</td>\n",
       "      <td>627.6165</td>\n",
       "      <td>3/25/2019</td>\n",
       "      <td>18:30</td>\n",
       "      <td>Ewallet</td>\n",
       "      <td>597.73</td>\n",
       "      <td>4.761905</td>\n",
       "      <td>29.8865</td>\n",
       "      <td>4.1</td>\n",
       "    </tr>\n",
       "    <tr>\n",
       "      <th>7</th>\n",
       "      <td>315-22-5665</td>\n",
       "      <td>C</td>\n",
       "      <td>Naypyitaw</td>\n",
       "      <td>Normal</td>\n",
       "      <td>Female</td>\n",
       "      <td>Home and lifestyle</td>\n",
       "      <td>73.56</td>\n",
       "      <td>10</td>\n",
       "      <td>36.7800</td>\n",
       "      <td>772.3800</td>\n",
       "      <td>2/24/2019</td>\n",
       "      <td>11:38</td>\n",
       "      <td>Ewallet</td>\n",
       "      <td>735.60</td>\n",
       "      <td>4.761905</td>\n",
       "      <td>36.7800</td>\n",
       "      <td>8.0</td>\n",
       "    </tr>\n",
       "    <tr>\n",
       "      <th>20</th>\n",
       "      <td>300-71-4605</td>\n",
       "      <td>C</td>\n",
       "      <td>Naypyitaw</td>\n",
       "      <td>Member</td>\n",
       "      <td>Male</td>\n",
       "      <td>Electronic accessories</td>\n",
       "      <td>86.04</td>\n",
       "      <td>5</td>\n",
       "      <td>21.5100</td>\n",
       "      <td>451.7100</td>\n",
       "      <td>2/25/2019</td>\n",
       "      <td>11:24</td>\n",
       "      <td>Ewallet</td>\n",
       "      <td>430.20</td>\n",
       "      <td>4.761905</td>\n",
       "      <td>21.5100</td>\n",
       "      <td>4.8</td>\n",
       "    </tr>\n",
       "    <tr>\n",
       "      <th>34</th>\n",
       "      <td>183-56-6882</td>\n",
       "      <td>C</td>\n",
       "      <td>Naypyitaw</td>\n",
       "      <td>Member</td>\n",
       "      <td>Female</td>\n",
       "      <td>Food and beverages</td>\n",
       "      <td>99.42</td>\n",
       "      <td>4</td>\n",
       "      <td>19.8840</td>\n",
       "      <td>417.5640</td>\n",
       "      <td>2/6/2019</td>\n",
       "      <td>10:42</td>\n",
       "      <td>Ewallet</td>\n",
       "      <td>397.68</td>\n",
       "      <td>4.761905</td>\n",
       "      <td>19.8840</td>\n",
       "      <td>7.5</td>\n",
       "    </tr>\n",
       "    <tr>\n",
       "      <th>...</th>\n",
       "      <td>...</td>\n",
       "      <td>...</td>\n",
       "      <td>...</td>\n",
       "      <td>...</td>\n",
       "      <td>...</td>\n",
       "      <td>...</td>\n",
       "      <td>...</td>\n",
       "      <td>...</td>\n",
       "      <td>...</td>\n",
       "      <td>...</td>\n",
       "      <td>...</td>\n",
       "      <td>...</td>\n",
       "      <td>...</td>\n",
       "      <td>...</td>\n",
       "      <td>...</td>\n",
       "      <td>...</td>\n",
       "      <td>...</td>\n",
       "    </tr>\n",
       "    <tr>\n",
       "      <th>983</th>\n",
       "      <td>148-41-7930</td>\n",
       "      <td>C</td>\n",
       "      <td>Naypyitaw</td>\n",
       "      <td>Normal</td>\n",
       "      <td>Male</td>\n",
       "      <td>Health and beauty</td>\n",
       "      <td>99.96</td>\n",
       "      <td>7</td>\n",
       "      <td>34.9860</td>\n",
       "      <td>734.7060</td>\n",
       "      <td>1/23/2019</td>\n",
       "      <td>10:33</td>\n",
       "      <td>Cash</td>\n",
       "      <td>699.72</td>\n",
       "      <td>4.761905</td>\n",
       "      <td>34.9860</td>\n",
       "      <td>6.1</td>\n",
       "    </tr>\n",
       "    <tr>\n",
       "      <th>984</th>\n",
       "      <td>189-40-5216</td>\n",
       "      <td>C</td>\n",
       "      <td>Naypyitaw</td>\n",
       "      <td>Normal</td>\n",
       "      <td>Male</td>\n",
       "      <td>Electronic accessories</td>\n",
       "      <td>96.37</td>\n",
       "      <td>7</td>\n",
       "      <td>33.7295</td>\n",
       "      <td>708.3195</td>\n",
       "      <td>1/9/2019</td>\n",
       "      <td>11:40</td>\n",
       "      <td>Cash</td>\n",
       "      <td>674.59</td>\n",
       "      <td>4.761905</td>\n",
       "      <td>33.7295</td>\n",
       "      <td>6.0</td>\n",
       "    </tr>\n",
       "    <tr>\n",
       "      <th>988</th>\n",
       "      <td>267-62-7380</td>\n",
       "      <td>C</td>\n",
       "      <td>Naypyitaw</td>\n",
       "      <td>Member</td>\n",
       "      <td>Male</td>\n",
       "      <td>Electronic accessories</td>\n",
       "      <td>82.34</td>\n",
       "      <td>10</td>\n",
       "      <td>41.1700</td>\n",
       "      <td>864.5700</td>\n",
       "      <td>3/29/2019</td>\n",
       "      <td>19:12</td>\n",
       "      <td>Ewallet</td>\n",
       "      <td>823.40</td>\n",
       "      <td>4.761905</td>\n",
       "      <td>41.1700</td>\n",
       "      <td>4.3</td>\n",
       "    </tr>\n",
       "    <tr>\n",
       "      <th>994</th>\n",
       "      <td>652-49-6720</td>\n",
       "      <td>C</td>\n",
       "      <td>Naypyitaw</td>\n",
       "      <td>Member</td>\n",
       "      <td>Female</td>\n",
       "      <td>Electronic accessories</td>\n",
       "      <td>60.95</td>\n",
       "      <td>1</td>\n",
       "      <td>3.0475</td>\n",
       "      <td>63.9975</td>\n",
       "      <td>2/18/2019</td>\n",
       "      <td>11:40</td>\n",
       "      <td>Ewallet</td>\n",
       "      <td>60.95</td>\n",
       "      <td>4.761905</td>\n",
       "      <td>3.0475</td>\n",
       "      <td>5.9</td>\n",
       "    </tr>\n",
       "    <tr>\n",
       "      <th>995</th>\n",
       "      <td>233-67-5758</td>\n",
       "      <td>C</td>\n",
       "      <td>Naypyitaw</td>\n",
       "      <td>Normal</td>\n",
       "      <td>Male</td>\n",
       "      <td>Health and beauty</td>\n",
       "      <td>40.35</td>\n",
       "      <td>1</td>\n",
       "      <td>2.0175</td>\n",
       "      <td>42.3675</td>\n",
       "      <td>1/29/2019</td>\n",
       "      <td>13:46</td>\n",
       "      <td>Ewallet</td>\n",
       "      <td>40.35</td>\n",
       "      <td>4.761905</td>\n",
       "      <td>2.0175</td>\n",
       "      <td>6.2</td>\n",
       "    </tr>\n",
       "  </tbody>\n",
       "</table>\n",
       "<p>328 rows × 17 columns</p>\n",
       "</div>"
      ],
      "text/plain": [
       "      Invoice ID Branch       City Customer type  Gender  \\\n",
       "1    226-31-3081      C  Naypyitaw        Normal  Female   \n",
       "5    699-14-3026      C  Naypyitaw        Normal    Male   \n",
       "7    315-22-5665      C  Naypyitaw        Normal  Female   \n",
       "20   300-71-4605      C  Naypyitaw        Member    Male   \n",
       "34   183-56-6882      C  Naypyitaw        Member  Female   \n",
       "..           ...    ...        ...           ...     ...   \n",
       "983  148-41-7930      C  Naypyitaw        Normal    Male   \n",
       "984  189-40-5216      C  Naypyitaw        Normal    Male   \n",
       "988  267-62-7380      C  Naypyitaw        Member    Male   \n",
       "994  652-49-6720      C  Naypyitaw        Member  Female   \n",
       "995  233-67-5758      C  Naypyitaw        Normal    Male   \n",
       "\n",
       "               Product line  Unit price  Quantity   Tax 5%     Total  \\\n",
       "1    Electronic accessories       15.28         5   3.8200   80.2200   \n",
       "5    Electronic accessories       85.39         7  29.8865  627.6165   \n",
       "7        Home and lifestyle       73.56        10  36.7800  772.3800   \n",
       "20   Electronic accessories       86.04         5  21.5100  451.7100   \n",
       "34       Food and beverages       99.42         4  19.8840  417.5640   \n",
       "..                      ...         ...       ...      ...       ...   \n",
       "983       Health and beauty       99.96         7  34.9860  734.7060   \n",
       "984  Electronic accessories       96.37         7  33.7295  708.3195   \n",
       "988  Electronic accessories       82.34        10  41.1700  864.5700   \n",
       "994  Electronic accessories       60.95         1   3.0475   63.9975   \n",
       "995       Health and beauty       40.35         1   2.0175   42.3675   \n",
       "\n",
       "          Date   Time  Payment    cogs  gross margin percentage  gross income  \\\n",
       "1     3/8/2019  10:29     Cash   76.40                 4.761905        3.8200   \n",
       "5    3/25/2019  18:30  Ewallet  597.73                 4.761905       29.8865   \n",
       "7    2/24/2019  11:38  Ewallet  735.60                 4.761905       36.7800   \n",
       "20   2/25/2019  11:24  Ewallet  430.20                 4.761905       21.5100   \n",
       "34    2/6/2019  10:42  Ewallet  397.68                 4.761905       19.8840   \n",
       "..         ...    ...      ...     ...                      ...           ...   \n",
       "983  1/23/2019  10:33     Cash  699.72                 4.761905       34.9860   \n",
       "984   1/9/2019  11:40     Cash  674.59                 4.761905       33.7295   \n",
       "988  3/29/2019  19:12  Ewallet  823.40                 4.761905       41.1700   \n",
       "994  2/18/2019  11:40  Ewallet   60.95                 4.761905        3.0475   \n",
       "995  1/29/2019  13:46  Ewallet   40.35                 4.761905        2.0175   \n",
       "\n",
       "     Rating  \n",
       "1       9.6  \n",
       "5       4.1  \n",
       "7       8.0  \n",
       "20      4.8  \n",
       "34      7.5  \n",
       "..      ...  \n",
       "983     6.1  \n",
       "984     6.0  \n",
       "988     4.3  \n",
       "994     5.9  \n",
       "995     6.2  \n",
       "\n",
       "[328 rows x 17 columns]"
      ]
     },
     "execution_count": 14,
     "metadata": {},
     "output_type": "execute_result"
    }
   ],
   "source": [
    "branch_C=pd.DataFrame(branch_C)\n",
    "branch_C"
   ]
  },
  {
   "cell_type": "markdown",
   "id": "d740be31",
   "metadata": {
    "papermill": {
     "duration": 0.009785,
     "end_time": "2022-07-11T04:09:45.277009",
     "exception": false,
     "start_time": "2022-07-11T04:09:45.267224",
     "status": "completed"
    },
    "tags": []
   },
   "source": [
    "**let's see which day the most gross income**"
   ]
  },
  {
   "cell_type": "code",
   "execution_count": 15,
   "id": "3e5511b4",
   "metadata": {
    "execution": {
     "iopub.execute_input": "2022-07-11T04:09:45.299089Z",
     "iopub.status.busy": "2022-07-11T04:09:45.298488Z",
     "iopub.status.idle": "2022-07-11T04:09:45.318799Z",
     "shell.execute_reply": "2022-07-11T04:09:45.317871Z"
    },
    "papermill": {
     "duration": 0.034079,
     "end_time": "2022-07-11T04:09:45.321114",
     "exception": false,
     "start_time": "2022-07-11T04:09:45.287035",
     "status": "completed"
    },
    "tags": []
   },
   "outputs": [],
   "source": [
    "df['Date']=pd.to_datetime(df['Date'])\n",
    "df['weekday']=df['Date'].dt.day_name()\n"
   ]
  },
  {
   "cell_type": "code",
   "execution_count": 16,
   "id": "8092ce1e",
   "metadata": {
    "execution": {
     "iopub.execute_input": "2022-07-11T04:09:45.343374Z",
     "iopub.status.busy": "2022-07-11T04:09:45.342760Z",
     "iopub.status.idle": "2022-07-11T04:09:45.355468Z",
     "shell.execute_reply": "2022-07-11T04:09:45.354589Z"
    },
    "papermill": {
     "duration": 0.025972,
     "end_time": "2022-07-11T04:09:45.357287",
     "exception": false,
     "start_time": "2022-07-11T04:09:45.331315",
     "status": "completed"
    },
    "tags": []
   },
   "outputs": [
    {
     "data": {
      "text/html": [
       "<div>\n",
       "<style scoped>\n",
       "    .dataframe tbody tr th:only-of-type {\n",
       "        vertical-align: middle;\n",
       "    }\n",
       "\n",
       "    .dataframe tbody tr th {\n",
       "        vertical-align: top;\n",
       "    }\n",
       "\n",
       "    .dataframe thead th {\n",
       "        text-align: right;\n",
       "    }\n",
       "</style>\n",
       "<table border=\"1\" class=\"dataframe\">\n",
       "  <thead>\n",
       "    <tr style=\"text-align: right;\">\n",
       "      <th></th>\n",
       "      <th>weekday</th>\n",
       "      <th>gross income</th>\n",
       "    </tr>\n",
       "  </thead>\n",
       "  <tbody>\n",
       "    <tr>\n",
       "      <th>0</th>\n",
       "      <td>Friday</td>\n",
       "      <td>2091.7305</td>\n",
       "    </tr>\n",
       "    <tr>\n",
       "      <th>1</th>\n",
       "      <td>Monday</td>\n",
       "      <td>1804.7180</td>\n",
       "    </tr>\n",
       "    <tr>\n",
       "      <th>2</th>\n",
       "      <td>Saturday</td>\n",
       "      <td>2672.4195</td>\n",
       "    </tr>\n",
       "    <tr>\n",
       "      <th>3</th>\n",
       "      <td>Sunday</td>\n",
       "      <td>2117.0425</td>\n",
       "    </tr>\n",
       "    <tr>\n",
       "      <th>4</th>\n",
       "      <td>Thursday</td>\n",
       "      <td>2159.4880</td>\n",
       "    </tr>\n",
       "    <tr>\n",
       "      <th>5</th>\n",
       "      <td>Tuesday</td>\n",
       "      <td>2451.5355</td>\n",
       "    </tr>\n",
       "    <tr>\n",
       "      <th>6</th>\n",
       "      <td>Wednesday</td>\n",
       "      <td>2082.4350</td>\n",
       "    </tr>\n",
       "  </tbody>\n",
       "</table>\n",
       "</div>"
      ],
      "text/plain": [
       "     weekday  gross income\n",
       "0     Friday     2091.7305\n",
       "1     Monday     1804.7180\n",
       "2   Saturday     2672.4195\n",
       "3     Sunday     2117.0425\n",
       "4   Thursday     2159.4880\n",
       "5    Tuesday     2451.5355\n",
       "6  Wednesday     2082.4350"
      ]
     },
     "execution_count": 16,
     "metadata": {},
     "output_type": "execute_result"
    }
   ],
   "source": [
    "w= df.groupby('weekday')[['gross income']].sum().reset_index()\n",
    "w\n"
   ]
  },
  {
   "cell_type": "code",
   "execution_count": 17,
   "id": "55ded6c4",
   "metadata": {
    "execution": {
     "iopub.execute_input": "2022-07-11T04:09:45.379406Z",
     "iopub.status.busy": "2022-07-11T04:09:45.378834Z",
     "iopub.status.idle": "2022-07-11T04:09:45.515287Z",
     "shell.execute_reply": "2022-07-11T04:09:45.514522Z"
    },
    "papermill": {
     "duration": 0.150105,
     "end_time": "2022-07-11T04:09:45.517325",
     "exception": false,
     "start_time": "2022-07-11T04:09:45.367220",
     "status": "completed"
    },
    "tags": []
   },
   "outputs": [
    {
     "data": {
      "text/plain": [
       "(array([0, 1, 2, 3, 4, 5, 6]),\n",
       " [Text(0, 0, 'Friday'),\n",
       "  Text(1, 0, 'Monday'),\n",
       "  Text(2, 0, 'Saturday'),\n",
       "  Text(3, 0, 'Sunday'),\n",
       "  Text(4, 0, 'Thursday'),\n",
       "  Text(5, 0, 'Tuesday'),\n",
       "  Text(6, 0, 'Wednesday')])"
      ]
     },
     "execution_count": 17,
     "metadata": {},
     "output_type": "execute_result"
    },
    {
     "data": {
      "image/png": "[encoded data removed]",
      "text/plain": [
       "<Figure size 432x288 with 1 Axes>"
      ]
     },
     "metadata": {
      "needs_background": "light"
     },
     "output_type": "display_data"
    }
   ],
   "source": [
    "sns.barplot(x='weekday',y='gross income',data=w)\n",
    "plt.xticks(rotation=45)"
   ]
  },
  {
   "cell_type": "markdown",
   "id": "fd7250a7",
   "metadata": {
    "papermill": {
     "duration": 0.010398,
     "end_time": "2022-07-11T04:09:45.538272",
     "exception": false,
     "start_time": "2022-07-11T04:09:45.527874",
     "status": "completed"
    },
    "tags": []
   },
   "source": [
    "**saturday is the most income day**\n"
   ]
  },
  {
   "cell_type": "code",
   "execution_count": 18,
   "id": "967233bd",
   "metadata": {
    "execution": {
     "iopub.execute_input": "2022-07-11T04:09:45.561143Z",
     "iopub.status.busy": "2022-07-11T04:09:45.560604Z",
     "iopub.status.idle": "2022-07-11T04:09:45.572124Z",
     "shell.execute_reply": "2022-07-11T04:09:45.571399Z"
    },
    "papermill": {
     "duration": 0.025343,
     "end_time": "2022-07-11T04:09:45.574162",
     "exception": false,
     "start_time": "2022-07-11T04:09:45.548819",
     "status": "completed"
    },
    "tags": []
   },
   "outputs": [
    {
     "data": {
      "text/plain": [
       "Invoice ID                 1000\n",
       "Branch                        3\n",
       "City                          3\n",
       "Customer type                 2\n",
       "Gender                        2\n",
       "Product line                  6\n",
       "Unit price                  943\n",
       "Quantity                     10\n",
       "Tax 5%                      990\n",
       "Total                       990\n",
       "Date                         89\n",
       "Time                        506\n",
       "Payment                       3\n",
       "cogs                        990\n",
       "gross margin percentage       1\n",
       "gross income                990\n",
       "Rating                       61\n",
       "weekday                       7\n",
       "dtype: int64"
      ]
     },
     "execution_count": 18,
     "metadata": {},
     "output_type": "execute_result"
    }
   ],
   "source": [
    "df.nunique()\n"
   ]
  },
  {
   "cell_type": "markdown",
   "id": "614a12eb",
   "metadata": {
    "papermill": {
     "duration": 0.010343,
     "end_time": "2022-07-11T04:09:45.595836",
     "exception": false,
     "start_time": "2022-07-11T04:09:45.585493",
     "status": "completed"
    },
    "tags": []
   },
   "source": [
    "**first ler's see the most customer type**"
   ]
  },
  {
   "cell_type": "code",
   "execution_count": 19,
   "id": "56749039",
   "metadata": {
    "execution": {
     "iopub.execute_input": "2022-07-11T04:09:45.618226Z",
     "iopub.status.busy": "2022-07-11T04:09:45.617404Z",
     "iopub.status.idle": "2022-07-11T04:09:45.773136Z",
     "shell.execute_reply": "2022-07-11T04:09:45.772290Z"
    },
    "papermill": {
     "duration": 0.170001,
     "end_time": "2022-07-11T04:09:45.776042",
     "exception": false,
     "start_time": "2022-07-11T04:09:45.606041",
     "status": "completed"
    },
    "tags": []
   },
   "outputs": [
    {
     "data": {
      "text/plain": [
       "<seaborn.axisgrid.FacetGrid at 0x7fddf770df90>"
      ]
     },
     "execution_count": 19,
     "metadata": {},
     "output_type": "execute_result"
    },
    {
     "data": {
      "image/png": "[encoded data removed]",
      "text/plain": [
       "<Figure size 360x360 with 1 Axes>"
      ]
     },
     "metadata": {
      "needs_background": "light"
     },
     "output_type": "display_data"
    }
   ],
   "source": [
    "sns.catplot(x='Customer type',kind='count',data=branch_C)"
   ]
  },
  {
   "cell_type": "code",
   "execution_count": 20,
   "id": "006f60c5",
   "metadata": {
    "execution": {
     "iopub.execute_input": "2022-07-11T04:09:45.804984Z",
     "iopub.status.busy": "2022-07-11T04:09:45.804236Z",
     "iopub.status.idle": "2022-07-11T04:09:46.024706Z",
     "shell.execute_reply": "2022-07-11T04:09:46.023535Z"
    },
    "papermill": {
     "duration": 0.235003,
     "end_time": "2022-07-11T04:09:46.026912",
     "exception": false,
     "start_time": "2022-07-11T04:09:45.791909",
     "status": "completed"
    },
    "tags": []
   },
   "outputs": [
    {
     "data": {
      "text/plain": [
       "<seaborn.axisgrid.FacetGrid at 0x7fddf76894d0>"
      ]
     },
     "execution_count": 20,
     "metadata": {},
     "output_type": "execute_result"
    },
    {
     "data": {
      "image/png": "[encoded data removed]",
      "text/plain": [
       "<Figure size 360x360 with 1 Axes>"
      ]
     },
     "metadata": {
      "needs_background": "light"
     },
     "output_type": "display_data"
    }
   ],
   "source": [
    "sns.catplot(x='Payment',kind='count',data=branch_C)\n"
   ]
  },
  {
   "cell_type": "markdown",
   "id": "b2575420",
   "metadata": {
    "papermill": {
     "duration": 0.011562,
     "end_time": "2022-07-11T04:09:46.049677",
     "exception": false,
     "start_time": "2022-07-11T04:09:46.038115",
     "status": "completed"
    },
    "tags": []
   },
   "source": [
    "**as we can see the most Payment is cash**"
   ]
  },
  {
   "cell_type": "markdown",
   "id": "5fc33f56",
   "metadata": {
    "papermill": {
     "duration": 0.010701,
     "end_time": "2022-07-11T04:09:46.071910",
     "exception": false,
     "start_time": "2022-07-11T04:09:46.061209",
     "status": "completed"
    },
    "tags": []
   },
   "source": [
    "**and i will go ferther to how customers type pay**"
   ]
  },
  {
   "cell_type": "code",
   "execution_count": 21,
   "id": "25b68c2d",
   "metadata": {
    "execution": {
     "iopub.execute_input": "2022-07-11T04:09:46.096436Z",
     "iopub.status.busy": "2022-07-11T04:09:46.095782Z",
     "iopub.status.idle": "2022-07-11T04:09:46.388711Z",
     "shell.execute_reply": "2022-07-11T04:09:46.387671Z"
    },
    "papermill": {
     "duration": 0.307447,
     "end_time": "2022-07-11T04:09:46.390679",
     "exception": false,
     "start_time": "2022-07-11T04:09:46.083232",
     "status": "completed"
    },
    "tags": []
   },
   "outputs": [
    {
     "data": {
      "text/plain": [
       "<seaborn.axisgrid.FacetGrid at 0x7fddf75a89d0>"
      ]
     },
     "execution_count": 21,
     "metadata": {},
     "output_type": "execute_result"
    },
    {
     "data": {
      "image/png": "[encoded data removed]",
      "text/plain": [
       "<Figure size 451.125x360 with 1 Axes>"
      ]
     },
     "metadata": {
      "needs_background": "light"
     },
     "output_type": "display_data"
    }
   ],
   "source": [
    "sns.catplot(x='Customer type',hue='Payment',kind='count',data=branch_C)"
   ]
  },
  {
   "cell_type": "markdown",
   "id": "89bfb31a",
   "metadata": {
    "papermill": {
     "duration": 0.011139,
     "end_time": "2022-07-11T04:09:46.413118",
     "exception": false,
     "start_time": "2022-07-11T04:09:46.401979",
     "status": "completed"
    },
    "tags": []
   },
   "source": [
    "**let's see the gender of ower customers**"
   ]
  },
  {
   "cell_type": "code",
   "execution_count": 22,
   "id": "9feea235",
   "metadata": {
    "execution": {
     "iopub.execute_input": "2022-07-11T04:09:46.437473Z",
     "iopub.status.busy": "2022-07-11T04:09:46.437082Z",
     "iopub.status.idle": "2022-07-11T04:09:46.651838Z",
     "shell.execute_reply": "2022-07-11T04:09:46.650754Z"
    },
    "papermill": {
     "duration": 0.229735,
     "end_time": "2022-07-11T04:09:46.654181",
     "exception": false,
     "start_time": "2022-07-11T04:09:46.424446",
     "status": "completed"
    },
    "tags": []
   },
   "outputs": [
    {
     "data": {
      "text/plain": [
       "<seaborn.axisgrid.FacetGrid at 0x7fddf759ae10>"
      ]
     },
     "execution_count": 22,
     "metadata": {},
     "output_type": "execute_result"
    },
    {
     "data": {
      "image/png": "[encoded data removed]",
      "text/plain": [
       "<Figure size 360x360 with 1 Axes>"
      ]
     },
     "metadata": {
      "needs_background": "light"
     },
     "output_type": "display_data"
    }
   ],
   "source": [
    "sns.catplot(x='Gender',kind='count',data=branch_C)"
   ]
  },
  {
   "cell_type": "markdown",
   "id": "2d0fe685",
   "metadata": {
    "papermill": {
     "duration": 0.011296,
     "end_time": "2022-07-11T04:09:46.677145",
     "exception": false,
     "start_time": "2022-07-11T04:09:46.665849",
     "status": "completed"
    },
    "tags": []
   },
   "source": [
    "most from female"
   ]
  },
  {
   "cell_type": "markdown",
   "id": "8040b09e",
   "metadata": {
    "papermill": {
     "duration": 0.011209,
     "end_time": "2022-07-11T04:09:46.699935",
     "exception": false,
     "start_time": "2022-07-11T04:09:46.688726",
     "status": "completed"
    },
    "tags": []
   },
   "source": [
    "# **we will use statistics for deeper analysis**"
   ]
  },
  {
   "cell_type": "code",
   "execution_count": 23,
   "id": "dc53fbab",
   "metadata": {
    "execution": {
     "iopub.execute_input": "2022-07-11T04:09:46.725142Z",
     "iopub.status.busy": "2022-07-11T04:09:46.724501Z",
     "iopub.status.idle": "2022-07-11T04:09:46.764636Z",
     "shell.execute_reply": "2022-07-11T04:09:46.763484Z"
    },
    "papermill": {
     "duration": 0.055316,
     "end_time": "2022-07-11T04:09:46.766889",
     "exception": false,
     "start_time": "2022-07-11T04:09:46.711573",
     "status": "completed"
    },
    "tags": []
   },
   "outputs": [
    {
     "data": {
      "text/html": [
       "<table class=\"simpletable\">\n",
       "<caption>OLS Regression Results</caption>\n",
       "<tr>\n",
       "  <th>Dep. Variable:</th>      <td>gross income</td>   <th>  R-squared:         </th>  <td>   1.000</td> \n",
       "</tr>\n",
       "<tr>\n",
       "  <th>Model:</th>                   <td>OLS</td>       <th>  Adj. R-squared:    </th>  <td>   1.000</td> \n",
       "</tr>\n",
       "<tr>\n",
       "  <th>Method:</th>             <td>Least Squares</td>  <th>  F-statistic:       </th>  <td>1.055e+32</td>\n",
       "</tr>\n",
       "<tr>\n",
       "  <th>Date:</th>             <td>Mon, 11 Jul 2022</td> <th>  Prob (F-statistic):</th>   <td>  0.00</td>  \n",
       "</tr>\n",
       "<tr>\n",
       "  <th>Time:</th>                 <td>04:09:46</td>     <th>  Log-Likelihood:    </th>  <td>  10078.</td> \n",
       "</tr>\n",
       "<tr>\n",
       "  <th>No. Observations:</th>      <td>   328</td>      <th>  AIC:               </th> <td>-2.015e+04</td>\n",
       "</tr>\n",
       "<tr>\n",
       "  <th>Df Residuals:</th>          <td>   323</td>      <th>  BIC:               </th> <td>-2.013e+04</td>\n",
       "</tr>\n",
       "<tr>\n",
       "  <th>Df Model:</th>              <td>     4</td>      <th>                     </th>      <td> </td>    \n",
       "</tr>\n",
       "<tr>\n",
       "  <th>Covariance Type:</th>      <td>nonrobust</td>    <th>                     </th>      <td> </td>    \n",
       "</tr>\n",
       "</table>\n",
       "<table class=\"simpletable\">\n",
       "<tr>\n",
       "       <td></td>         <th>coef</th>     <th>std err</th>      <th>t</th>      <th>P>|t|</th>  <th>[0.025</th>    <th>0.975]</th>  \n",
       "</tr>\n",
       "<tr>\n",
       "  <th>const</th>      <td>-1.155e-14</td> <td> 3.81e-15</td> <td>   -3.031</td> <td> 0.003</td> <td> -1.9e-14</td> <td>-4.05e-15</td>\n",
       "</tr>\n",
       "<tr>\n",
       "  <th>Unit price</th> <td> 5.898e-17</td> <td> 4.66e-17</td> <td>    1.266</td> <td> 0.207</td> <td>-3.27e-17</td> <td> 1.51e-16</td>\n",
       "</tr>\n",
       "<tr>\n",
       "  <th>Quantity</th>   <td> 5.551e-16</td> <td> 4.76e-16</td> <td>    1.166</td> <td> 0.244</td> <td>-3.81e-16</td> <td> 1.49e-15</td>\n",
       "</tr>\n",
       "<tr>\n",
       "  <th>Total</th>      <td>    0.0249</td> <td> 3.71e-18</td> <td> 6.72e+15</td> <td> 0.000</td> <td>    0.025</td> <td>    0.025</td>\n",
       "</tr>\n",
       "<tr>\n",
       "  <th>Rating</th>     <td>  2.22e-16</td> <td> 3.59e-16</td> <td>    0.619</td> <td> 0.536</td> <td>-4.83e-16</td> <td> 9.27e-16</td>\n",
       "</tr>\n",
       "<tr>\n",
       "  <th>cogs</th>       <td>    0.0238</td> <td> 3.53e-18</td> <td> 6.72e+15</td> <td> 0.000</td> <td>    0.024</td> <td>    0.024</td>\n",
       "</tr>\n",
       "<tr>\n",
       "  <th>Tax 5%</th>     <td>    0.0012</td> <td> 1.77e-19</td> <td> 6.72e+15</td> <td> 0.000</td> <td>    0.001</td> <td>    0.001</td>\n",
       "</tr>\n",
       "</table>\n",
       "<table class=\"simpletable\">\n",
       "<tr>\n",
       "  <th>Omnibus:</th>       <td>25.835</td> <th>  Durbin-Watson:     </th> <td>   1.471</td>\n",
       "</tr>\n",
       "<tr>\n",
       "  <th>Prob(Omnibus):</th> <td> 0.000</td> <th>  Jarque-Bera (JB):  </th> <td>  30.515</td>\n",
       "</tr>\n",
       "<tr>\n",
       "  <th>Skew:</th>          <td>-0.744</td> <th>  Prob(JB):          </th> <td>2.36e-07</td>\n",
       "</tr>\n",
       "<tr>\n",
       "  <th>Kurtosis:</th>      <td> 2.856</td> <th>  Cond. No.          </th> <td>7.15e+16</td>\n",
       "</tr>\n",
       "</table><br/><br/>Notes:<br/>[1] Standard Errors assume that the covariance matrix of the errors is correctly specified.<br/>[2] The smallest eigenvalue is 2.26e-26. This might indicate that there are<br/>strong multicollinearity problems or that the design matrix is singular."
      ],
      "text/plain": [
       "<class 'statsmodels.iolib.summary.Summary'>\n",
       "\"\"\"\n",
       "                            OLS Regression Results                            \n",
       "==============================================================================\n",
       "Dep. Variable:           gross income   R-squared:                       1.000\n",
       "Model:                            OLS   Adj. R-squared:                  1.000\n",
       "Method:                 Least Squares   F-statistic:                 1.055e+32\n",
       "Date:                Mon, 11 Jul 2022   Prob (F-statistic):               0.00\n",
       "Time:                        04:09:46   Log-Likelihood:                 10078.\n",
       "No. Observations:                 328   AIC:                        -2.015e+04\n",
       "Df Residuals:                     323   BIC:                        -2.013e+04\n",
       "Df Model:                           4                                         \n",
       "Covariance Type:            nonrobust                                         \n",
       "==============================================================================\n",
       "                 coef    std err          t      P>|t|      [0.025      0.975]\n",
       "------------------------------------------------------------------------------\n",
       "const      -1.155e-14   3.81e-15     -3.031      0.003    -1.9e-14   -4.05e-15\n",
       "Unit price  5.898e-17   4.66e-17      1.266      0.207   -3.27e-17    1.51e-16\n",
       "Quantity    5.551e-16   4.76e-16      1.166      0.244   -3.81e-16    1.49e-15\n",
       "Total          0.0249   3.71e-18   6.72e+15      0.000       0.025       0.025\n",
       "Rating       2.22e-16   3.59e-16      0.619      0.536   -4.83e-16    9.27e-16\n",
       "cogs           0.0238   3.53e-18   6.72e+15      0.000       0.024       0.024\n",
       "Tax 5%         0.0012   1.77e-19   6.72e+15      0.000       0.001       0.001\n",
       "==============================================================================\n",
       "Omnibus:                       25.835   Durbin-Watson:                   1.471\n",
       "Prob(Omnibus):                  0.000   Jarque-Bera (JB):               30.515\n",
       "Skew:                          -0.744   Prob(JB):                     2.36e-07\n",
       "Kurtosis:                       2.856   Cond. No.                     7.15e+16\n",
       "==============================================================================\n",
       "\n",
       "Notes:\n",
       "[1] Standard Errors assume that the covariance matrix of the errors is correctly specified.\n",
       "[2] The smallest eigenvalue is 2.26e-26. This might indicate that there are\n",
       "strong multicollinearity problems or that the design matrix is singular.\n",
       "\"\"\""
      ]
     },
     "execution_count": 23,
     "metadata": {},
     "output_type": "execute_result"
    }
   ],
   "source": [
    "x=branch_C[['Unit price','Quantity','Total','Rating','cogs','Tax 5%']]\n",
    "y=branch_C[['gross income']]\n",
    "x=sm.add_constant(x)\n",
    "model=sm.OLS(y,x).fit()\n",
    "model.summary()"
   ]
  },
  {
   "cell_type": "markdown",
   "id": "ccf15224",
   "metadata": {
    "papermill": {
     "duration": 0.011489,
     "end_time": "2022-07-11T04:09:46.790362",
     "exception": false,
     "start_time": "2022-07-11T04:09:46.778873",
     "status": "completed"
    },
    "tags": []
   },
   "source": []
  },
  {
   "cell_type": "markdown",
   "id": "734030df",
   "metadata": {
    "papermill": {
     "duration": 0.011785,
     "end_time": "2022-07-11T04:09:46.813690",
     "exception": false,
     "start_time": "2022-07-11T04:09:46.801905",
     "status": "completed"
    },
    "tags": []
   },
   "source": [
    "**i will divide the numbers to could know the correlation between them**"
   ]
  },
  {
   "cell_type": "code",
   "execution_count": 24,
   "id": "028c72f9",
   "metadata": {
    "execution": {
     "iopub.execute_input": "2022-07-11T04:09:46.839548Z",
     "iopub.status.busy": "2022-07-11T04:09:46.839154Z",
     "iopub.status.idle": "2022-07-11T04:09:46.845374Z",
     "shell.execute_reply": "2022-07-11T04:09:46.844441Z"
    },
    "papermill": {
     "duration": 0.02166,
     "end_time": "2022-07-11T04:09:46.847237",
     "exception": false,
     "start_time": "2022-07-11T04:09:46.825577",
     "status": "completed"
    },
    "tags": []
   },
   "outputs": [],
   "source": [
    "df_num = df[['Unit price','Quantity','Total','cogs','gross income','Rating']]\n"
   ]
  },
  {
   "cell_type": "code",
   "execution_count": 25,
   "id": "33dfb0c1",
   "metadata": {
    "execution": {
     "iopub.execute_input": "2022-07-11T04:09:46.873106Z",
     "iopub.status.busy": "2022-07-11T04:09:46.872308Z",
     "iopub.status.idle": "2022-07-11T04:09:47.125757Z",
     "shell.execute_reply": "2022-07-11T04:09:47.124673Z"
    },
    "papermill": {
     "duration": 0.269073,
     "end_time": "2022-07-11T04:09:47.128288",
     "exception": false,
     "start_time": "2022-07-11T04:09:46.859215",
     "status": "completed"
    },
    "tags": []
   },
   "outputs": [
    {
     "name": "stdout",
     "output_type": "stream",
     "text": [
      "              Unit price  Quantity     Total      cogs  gross income    Rating\n",
      "Unit price      1.000000  0.010778  0.633962  0.633962      0.633962 -0.008778\n",
      "Quantity        0.010778  1.000000  0.705510  0.705510      0.705510 -0.015815\n",
      "Total           0.633962  0.705510  1.000000  1.000000      1.000000 -0.036442\n",
      "cogs            0.633962  0.705510  1.000000  1.000000      1.000000 -0.036442\n",
      "gross income    0.633962  0.705510  1.000000  1.000000      1.000000 -0.036442\n",
      "Rating         -0.008778 -0.015815 -0.036442 -0.036442     -0.036442  1.000000\n"
     ]
    },
    {
     "data": {
      "text/plain": [
       "<AxesSubplot:>"
      ]
     },
     "execution_count": 25,
     "metadata": {},
     "output_type": "execute_result"
    },
    {
     "data": {
      "image/png": "[encoded data removed]",
      "text/plain": [
       "<Figure size 432x288 with 2 Axes>"
      ]
     },
     "metadata": {
      "needs_background": "light"
     },
     "output_type": "display_data"
    }
   ],
   "source": [
    "print(df_num.corr())\n",
    "sns.heatmap(df_num.corr())"
   ]
  },
  {
   "cell_type": "code",
   "execution_count": null,
   "id": "a8b0de47",
   "metadata": {
    "papermill": {
     "duration": 0.035307,
     "end_time": "2022-07-11T04:09:47.177032",
     "exception": false,
     "start_time": "2022-07-11T04:09:47.141725",
     "status": "completed"
    },
    "tags": []
   },
   "outputs": [],
   "source": []
  }
 ],
 "metadata": {
  "kernelspec": {
   "display_name": "Python 3",
   "language": "python",
   "name": "python3"
  },
  "language_info": {
   "codemirror_mode": {
    "name": "ipython",
    "version": 3
   },
   "file_extension": ".py",
   "mimetype": "text/x-python",
   "name": "python",
   "nbconvert_exporter": "python",
   "pygments_lexer": "ipython3",
   "version": "3.7.12"
  },
  "papermill": {
   "default_parameters": {},
   "duration": 14.97542,
   "end_time": "2022-07-11T04:09:47.911804",
   "environment_variables": {},
   "exception": null,
   "input_path": "__notebook__.ipynb",
   "output_path": "__notebook__.ipynb",
   "parameters": {},
   "start_time": "2022-07-11T04:09:32.936384",
   "version": "2.3.4"
  }
 },
 "nbformat": 4,
 "nbformat_minor": 5
}
