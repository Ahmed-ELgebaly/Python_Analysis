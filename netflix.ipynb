{
 "cells": [
  {
   "cell_type": "code",
   "execution_count": 1,
   "id": "ab750036",
   "metadata": {
    "_cell_guid": "b1076dfc-b9ad-4769-8c92-a6c4dae69d19",
    "_uuid": "8f2839f25d086af736a60e9eeb907d3b93b6e0e5",
    "execution": {
     "iopub.execute_input": "2022-07-19T14:01:00.121586Z",
     "iopub.status.busy": "2022-07-19T14:01:00.120691Z",
     "iopub.status.idle": "2022-07-19T14:01:00.145511Z",
     "shell.execute_reply": "2022-07-19T14:01:00.144432Z"
    },
    "papermill": {
     "duration": 0.044681,
     "end_time": "2022-07-19T14:01:00.149934",
     "exception": false,
     "start_time": "2022-07-19T14:01:00.105253",
     "status": "completed"
    },
    "tags": []
   },
   "outputs": [
    {
     "name": "stdout",
     "output_type": "stream",
     "text": [
      "/kaggle/input/netflix-tv-shows-and-movies/credits.csv\n",
      "/kaggle/input/netflix-tv-shows-and-movies/titles.csv\n"
     ]
    }
   ],
   "source": [
    "# This Python 3 environment comes with many helpful analytics libraries installed\n",
    "# It is defined by the kaggle/python Docker image: https://github.com/kaggle/docker-python\n",
    "# For example, here's several helpful packages to load\n",
    "\n",
    "import numpy as np # linear algebra\n",
    "import pandas as pd # data processing, CSV file I/O (e.g. pd.read_csv)\n",
    "\n",
    "# Input data files are available in the read-only \"../input/\" directory\n",
    "# For example, running this (by clicking run or pressing Shift+Enter) will list all files under the input directory\n",
    "\n",
    "import os\n",
    "for dirname, _, filenames in os.walk('/kaggle/input'):\n",
    "    for filename in filenames:\n",
    "        print(os.path.join(dirname, filename))\n",
    "\n",
    "# You can write up to 20GB to the current directory (/kaggle/working/) that gets preserved as output when you create a version using \"Save & Run All\" \n",
    "# You can also write temporary files to /kaggle/temp/, but they won't be saved outside of the current session"
   ]
  },
  {
   "cell_type": "code",
   "execution_count": 2,
   "id": "8a450463",
   "metadata": {
    "execution": {
     "iopub.execute_input": "2022-07-19T14:01:00.176690Z",
     "iopub.status.busy": "2022-07-19T14:01:00.175919Z",
     "iopub.status.idle": "2022-07-19T14:01:03.842042Z",
     "shell.execute_reply": "2022-07-19T14:01:03.840267Z"
    },
    "papermill": {
     "duration": 3.682337,
     "end_time": "2022-07-19T14:01:03.844968",
     "exception": false,
     "start_time": "2022-07-19T14:01:00.162631",
     "status": "completed"
    },
    "tags": []
   },
   "outputs": [],
   "source": [
    "import numpy as np\n",
    "import pandas as pd\n",
    "import seaborn as sns\n",
    "import matplotlib.pyplot as plt \n",
    "import scipy.stats\n",
    "from math import sqrt\n",
    "import statsmodels.api as sm\n",
    "import os\n",
    "import math\n",
    "from datetime import datetime\n",
    "from datetime import timedelta\n",
    "import plotly.express as px\n",
    "import ast\n",
    "import random\n"
   ]
  },
  {
   "cell_type": "code",
   "execution_count": 3,
   "id": "bc8fa20d",
   "metadata": {
    "execution": {
     "iopub.execute_input": "2022-07-19T14:01:03.871439Z",
     "iopub.status.busy": "2022-07-19T14:01:03.870810Z",
     "iopub.status.idle": "2022-07-19T14:01:03.980054Z",
     "shell.execute_reply": "2022-07-19T14:01:03.978761Z"
    },
    "papermill": {
     "duration": 0.125884,
     "end_time": "2022-07-19T14:01:03.982850",
     "exception": false,
     "start_time": "2022-07-19T14:01:03.856966",
     "status": "completed"
    },
    "tags": []
   },
   "outputs": [],
   "source": [
    "df= pd.read_csv('../input/netflix-tv-shows-and-movies/titles.csv')"
   ]
  },
  {
   "cell_type": "markdown",
   "id": "c50d199d",
   "metadata": {
    "papermill": {
     "duration": 0.012057,
     "end_time": "2022-07-19T14:01:04.006620",
     "exception": false,
     "start_time": "2022-07-19T14:01:03.994563",
     "status": "completed"
    },
    "tags": []
   },
   "source": [
    "# **explore the data**"
   ]
  },
  {
   "cell_type": "code",
   "execution_count": 4,
   "id": "6959eb76",
   "metadata": {
    "execution": {
     "iopub.execute_input": "2022-07-19T14:01:04.031958Z",
     "iopub.status.busy": "2022-07-19T14:01:04.031584Z",
     "iopub.status.idle": "2022-07-19T14:01:04.060567Z",
     "shell.execute_reply": "2022-07-19T14:01:04.059776Z"
    },
    "papermill": {
     "duration": 0.04477,
     "end_time": "2022-07-19T14:01:04.062824",
     "exception": false,
     "start_time": "2022-07-19T14:01:04.018054",
     "status": "completed"
    },
    "tags": []
   },
   "outputs": [
    {
     "data": {
      "text/html": [
       "<div>\n",
       "<style scoped>\n",
       "    .dataframe tbody tr th:only-of-type {\n",
       "        vertical-align: middle;\n",
       "    }\n",
       "\n",
       "    .dataframe tbody tr th {\n",
       "        vertical-align: top;\n",
       "    }\n",
       "\n",
       "    .dataframe thead th {\n",
       "        text-align: right;\n",
       "    }\n",
       "</style>\n",
       "<table border=\"1\" class=\"dataframe\">\n",
       "  <thead>\n",
       "    <tr style=\"text-align: right;\">\n",
       "      <th></th>\n",
       "      <th>id</th>\n",
       "      <th>title</th>\n",
       "      <th>type</th>\n",
       "      <th>description</th>\n",
       "      <th>release_year</th>\n",
       "      <th>age_certification</th>\n",
       "      <th>runtime</th>\n",
       "      <th>genres</th>\n",
       "      <th>production_countries</th>\n",
       "      <th>seasons</th>\n",
       "      <th>imdb_id</th>\n",
       "      <th>imdb_score</th>\n",
       "      <th>imdb_votes</th>\n",
       "      <th>tmdb_popularity</th>\n",
       "      <th>tmdb_score</th>\n",
       "    </tr>\n",
       "  </thead>\n",
       "  <tbody>\n",
       "    <tr>\n",
       "      <th>0</th>\n",
       "      <td>ts300399</td>\n",
       "      <td>Five Came Back: The Reference Films</td>\n",
       "      <td>SHOW</td>\n",
       "      <td>This collection includes 12 World War II-era p...</td>\n",
       "      <td>1945</td>\n",
       "      <td>TV-MA</td>\n",
       "      <td>48</td>\n",
       "      <td>['documentation']</td>\n",
       "      <td>['US']</td>\n",
       "      <td>1.0</td>\n",
       "      <td>NaN</td>\n",
       "      <td>NaN</td>\n",
       "      <td>NaN</td>\n",
       "      <td>0.600</td>\n",
       "      <td>NaN</td>\n",
       "    </tr>\n",
       "    <tr>\n",
       "      <th>1</th>\n",
       "      <td>tm84618</td>\n",
       "      <td>Taxi Driver</td>\n",
       "      <td>MOVIE</td>\n",
       "      <td>A mentally unstable Vietnam War veteran works ...</td>\n",
       "      <td>1976</td>\n",
       "      <td>R</td>\n",
       "      <td>113</td>\n",
       "      <td>['crime', 'drama']</td>\n",
       "      <td>['US']</td>\n",
       "      <td>NaN</td>\n",
       "      <td>tt0075314</td>\n",
       "      <td>8.3</td>\n",
       "      <td>795222.0</td>\n",
       "      <td>27.612</td>\n",
       "      <td>8.2</td>\n",
       "    </tr>\n",
       "    <tr>\n",
       "      <th>2</th>\n",
       "      <td>tm127384</td>\n",
       "      <td>Monty Python and the Holy Grail</td>\n",
       "      <td>MOVIE</td>\n",
       "      <td>King Arthur, accompanied by his squire, recrui...</td>\n",
       "      <td>1975</td>\n",
       "      <td>PG</td>\n",
       "      <td>91</td>\n",
       "      <td>['comedy', 'fantasy']</td>\n",
       "      <td>['GB']</td>\n",
       "      <td>NaN</td>\n",
       "      <td>tt0071853</td>\n",
       "      <td>8.2</td>\n",
       "      <td>530877.0</td>\n",
       "      <td>18.216</td>\n",
       "      <td>7.8</td>\n",
       "    </tr>\n",
       "    <tr>\n",
       "      <th>3</th>\n",
       "      <td>tm70993</td>\n",
       "      <td>Life of Brian</td>\n",
       "      <td>MOVIE</td>\n",
       "      <td>Brian Cohen is an average young Jewish man, bu...</td>\n",
       "      <td>1979</td>\n",
       "      <td>R</td>\n",
       "      <td>94</td>\n",
       "      <td>['comedy']</td>\n",
       "      <td>['GB']</td>\n",
       "      <td>NaN</td>\n",
       "      <td>tt0079470</td>\n",
       "      <td>8.0</td>\n",
       "      <td>392419.0</td>\n",
       "      <td>17.505</td>\n",
       "      <td>7.8</td>\n",
       "    </tr>\n",
       "    <tr>\n",
       "      <th>4</th>\n",
       "      <td>tm190788</td>\n",
       "      <td>The Exorcist</td>\n",
       "      <td>MOVIE</td>\n",
       "      <td>12-year-old Regan MacNeil begins to adapt an e...</td>\n",
       "      <td>1973</td>\n",
       "      <td>R</td>\n",
       "      <td>133</td>\n",
       "      <td>['horror']</td>\n",
       "      <td>['US']</td>\n",
       "      <td>NaN</td>\n",
       "      <td>tt0070047</td>\n",
       "      <td>8.1</td>\n",
       "      <td>391942.0</td>\n",
       "      <td>95.337</td>\n",
       "      <td>7.7</td>\n",
       "    </tr>\n",
       "  </tbody>\n",
       "</table>\n",
       "</div>"
      ],
      "text/plain": [
       "         id                                title   type  \\\n",
       "0  ts300399  Five Came Back: The Reference Films   SHOW   \n",
       "1   tm84618                          Taxi Driver  MOVIE   \n",
       "2  tm127384      Monty Python and the Holy Grail  MOVIE   \n",
       "3   tm70993                        Life of Brian  MOVIE   \n",
       "4  tm190788                         The Exorcist  MOVIE   \n",
       "\n",
       "                                         description  release_year  \\\n",
       "0  This collection includes 12 World War II-era p...          1945   \n",
       "1  A mentally unstable Vietnam War veteran works ...          1976   \n",
       "2  King Arthur, accompanied by his squire, recrui...          1975   \n",
       "3  Brian Cohen is an average young Jewish man, bu...          1979   \n",
       "4  12-year-old Regan MacNeil begins to adapt an e...          1973   \n",
       "\n",
       "  age_certification  runtime                 genres production_countries  \\\n",
       "0             TV-MA       48      ['documentation']               ['US']   \n",
       "1                 R      113     ['crime', 'drama']               ['US']   \n",
       "2                PG       91  ['comedy', 'fantasy']               ['GB']   \n",
       "3                 R       94             ['comedy']               ['GB']   \n",
       "4                 R      133             ['horror']               ['US']   \n",
       "\n",
       "   seasons    imdb_id  imdb_score  imdb_votes  tmdb_popularity  tmdb_score  \n",
       "0      1.0        NaN         NaN         NaN            0.600         NaN  \n",
       "1      NaN  tt0075314         8.3    795222.0           27.612         8.2  \n",
       "2      NaN  tt0071853         8.2    530877.0           18.216         7.8  \n",
       "3      NaN  tt0079470         8.0    392419.0           17.505         7.8  \n",
       "4      NaN  tt0070047         8.1    391942.0           95.337         7.7  "
      ]
     },
     "execution_count": 4,
     "metadata": {},
     "output_type": "execute_result"
    }
   ],
   "source": [
    "df.head()"
   ]
  },
  {
   "cell_type": "code",
   "execution_count": 5,
   "id": "c795825e",
   "metadata": {
    "execution": {
     "iopub.execute_input": "2022-07-19T14:01:04.088802Z",
     "iopub.status.busy": "2022-07-19T14:01:04.087828Z",
     "iopub.status.idle": "2022-07-19T14:01:04.095575Z",
     "shell.execute_reply": "2022-07-19T14:01:04.094442Z"
    },
    "papermill": {
     "duration": 0.02403,
     "end_time": "2022-07-19T14:01:04.098733",
     "exception": false,
     "start_time": "2022-07-19T14:01:04.074703",
     "status": "completed"
    },
    "tags": []
   },
   "outputs": [
    {
     "data": {
      "text/plain": [
       "Index(['id', 'title', 'type', 'description', 'release_year',\n",
       "       'age_certification', 'runtime', 'genres', 'production_countries',\n",
       "       'seasons', 'imdb_id', 'imdb_score', 'imdb_votes', 'tmdb_popularity',\n",
       "       'tmdb_score'],\n",
       "      dtype='object')"
      ]
     },
     "execution_count": 5,
     "metadata": {},
     "output_type": "execute_result"
    }
   ],
   "source": [
    "df.columns\n"
   ]
  },
  {
   "cell_type": "markdown",
   "id": "9f3afe0c",
   "metadata": {
    "papermill": {
     "duration": 0.011517,
     "end_time": "2022-07-19T14:01:04.122984",
     "exception": false,
     "start_time": "2022-07-19T14:01:04.111467",
     "status": "completed"
    },
    "tags": []
   },
   "source": [
    "**Unpack and repair the production_countries and genre column values which are currently arrays**"
   ]
  },
  {
   "cell_type": "code",
   "execution_count": 6,
   "id": "8d4cb5d6",
   "metadata": {
    "execution": {
     "iopub.execute_input": "2022-07-19T14:01:04.148700Z",
     "iopub.status.busy": "2022-07-19T14:01:04.147913Z",
     "iopub.status.idle": "2022-07-19T14:01:04.154267Z",
     "shell.execute_reply": "2022-07-19T14:01:04.153424Z"
    },
    "papermill": {
     "duration": 0.021962,
     "end_time": "2022-07-19T14:01:04.156666",
     "exception": false,
     "start_time": "2022-07-19T14:01:04.134704",
     "status": "completed"
    },
    "tags": []
   },
   "outputs": [],
   "source": [
    "def repair_array_bound_categories(arr):\n",
    "    arr = ast.literal_eval(arr)\n",
    "    \n",
    "    if len(arr) == 0:\n",
    "        return np.nan\n",
    "    \n",
    "    elif len(arr) == 1:\n",
    "        return arr[0]\n",
    "    \n",
    "    else:\n",
    "        return random.choice(arr)"
   ]
  },
  {
   "cell_type": "code",
   "execution_count": 7,
   "id": "ce07fa34",
   "metadata": {
    "execution": {
     "iopub.execute_input": "2022-07-19T14:01:04.182864Z",
     "iopub.status.busy": "2022-07-19T14:01:04.182093Z",
     "iopub.status.idle": "2022-07-19T14:01:04.323753Z",
     "shell.execute_reply": "2022-07-19T14:01:04.322501Z"
    },
    "papermill": {
     "duration": 0.158228,
     "end_time": "2022-07-19T14:01:04.326659",
     "exception": false,
     "start_time": "2022-07-19T14:01:04.168431",
     "status": "completed"
    },
    "tags": []
   },
   "outputs": [],
   "source": [
    "df[\"production_countries\"] = df[\"production_countries\"].apply(repair_array_bound_categories)\n",
    "df[\"genres\"] = df[\"genres\"].apply(repair_array_bound_categories)"
   ]
  },
  {
   "cell_type": "code",
   "execution_count": 8,
   "id": "3e8bb879",
   "metadata": {
    "execution": {
     "iopub.execute_input": "2022-07-19T14:01:04.353591Z",
     "iopub.status.busy": "2022-07-19T14:01:04.353195Z",
     "iopub.status.idle": "2022-07-19T14:01:04.373025Z",
     "shell.execute_reply": "2022-07-19T14:01:04.372214Z"
    },
    "papermill": {
     "duration": 0.035282,
     "end_time": "2022-07-19T14:01:04.375162",
     "exception": false,
     "start_time": "2022-07-19T14:01:04.339880",
     "status": "completed"
    },
    "tags": []
   },
   "outputs": [
    {
     "data": {
      "text/html": [
       "<div>\n",
       "<style scoped>\n",
       "    .dataframe tbody tr th:only-of-type {\n",
       "        vertical-align: middle;\n",
       "    }\n",
       "\n",
       "    .dataframe tbody tr th {\n",
       "        vertical-align: top;\n",
       "    }\n",
       "\n",
       "    .dataframe thead th {\n",
       "        text-align: right;\n",
       "    }\n",
       "</style>\n",
       "<table border=\"1\" class=\"dataframe\">\n",
       "  <thead>\n",
       "    <tr style=\"text-align: right;\">\n",
       "      <th></th>\n",
       "      <th>id</th>\n",
       "      <th>title</th>\n",
       "      <th>type</th>\n",
       "      <th>description</th>\n",
       "      <th>release_year</th>\n",
       "      <th>age_certification</th>\n",
       "      <th>runtime</th>\n",
       "      <th>genres</th>\n",
       "      <th>production_countries</th>\n",
       "      <th>seasons</th>\n",
       "      <th>imdb_id</th>\n",
       "      <th>imdb_score</th>\n",
       "      <th>imdb_votes</th>\n",
       "      <th>tmdb_popularity</th>\n",
       "      <th>tmdb_score</th>\n",
       "    </tr>\n",
       "  </thead>\n",
       "  <tbody>\n",
       "    <tr>\n",
       "      <th>0</th>\n",
       "      <td>ts300399</td>\n",
       "      <td>Five Came Back: The Reference Films</td>\n",
       "      <td>SHOW</td>\n",
       "      <td>This collection includes 12 World War II-era p...</td>\n",
       "      <td>1945</td>\n",
       "      <td>TV-MA</td>\n",
       "      <td>48</td>\n",
       "      <td>documentation</td>\n",
       "      <td>US</td>\n",
       "      <td>1.0</td>\n",
       "      <td>NaN</td>\n",
       "      <td>NaN</td>\n",
       "      <td>NaN</td>\n",
       "      <td>0.600</td>\n",
       "      <td>NaN</td>\n",
       "    </tr>\n",
       "    <tr>\n",
       "      <th>1</th>\n",
       "      <td>tm84618</td>\n",
       "      <td>Taxi Driver</td>\n",
       "      <td>MOVIE</td>\n",
       "      <td>A mentally unstable Vietnam War veteran works ...</td>\n",
       "      <td>1976</td>\n",
       "      <td>R</td>\n",
       "      <td>113</td>\n",
       "      <td>drama</td>\n",
       "      <td>US</td>\n",
       "      <td>NaN</td>\n",
       "      <td>tt0075314</td>\n",
       "      <td>8.3</td>\n",
       "      <td>795222.0</td>\n",
       "      <td>27.612</td>\n",
       "      <td>8.2</td>\n",
       "    </tr>\n",
       "    <tr>\n",
       "      <th>2</th>\n",
       "      <td>tm127384</td>\n",
       "      <td>Monty Python and the Holy Grail</td>\n",
       "      <td>MOVIE</td>\n",
       "      <td>King Arthur, accompanied by his squire, recrui...</td>\n",
       "      <td>1975</td>\n",
       "      <td>PG</td>\n",
       "      <td>91</td>\n",
       "      <td>fantasy</td>\n",
       "      <td>GB</td>\n",
       "      <td>NaN</td>\n",
       "      <td>tt0071853</td>\n",
       "      <td>8.2</td>\n",
       "      <td>530877.0</td>\n",
       "      <td>18.216</td>\n",
       "      <td>7.8</td>\n",
       "    </tr>\n",
       "    <tr>\n",
       "      <th>3</th>\n",
       "      <td>tm70993</td>\n",
       "      <td>Life of Brian</td>\n",
       "      <td>MOVIE</td>\n",
       "      <td>Brian Cohen is an average young Jewish man, bu...</td>\n",
       "      <td>1979</td>\n",
       "      <td>R</td>\n",
       "      <td>94</td>\n",
       "      <td>comedy</td>\n",
       "      <td>GB</td>\n",
       "      <td>NaN</td>\n",
       "      <td>tt0079470</td>\n",
       "      <td>8.0</td>\n",
       "      <td>392419.0</td>\n",
       "      <td>17.505</td>\n",
       "      <td>7.8</td>\n",
       "    </tr>\n",
       "    <tr>\n",
       "      <th>4</th>\n",
       "      <td>tm190788</td>\n",
       "      <td>The Exorcist</td>\n",
       "      <td>MOVIE</td>\n",
       "      <td>12-year-old Regan MacNeil begins to adapt an e...</td>\n",
       "      <td>1973</td>\n",
       "      <td>R</td>\n",
       "      <td>133</td>\n",
       "      <td>horror</td>\n",
       "      <td>US</td>\n",
       "      <td>NaN</td>\n",
       "      <td>tt0070047</td>\n",
       "      <td>8.1</td>\n",
       "      <td>391942.0</td>\n",
       "      <td>95.337</td>\n",
       "      <td>7.7</td>\n",
       "    </tr>\n",
       "  </tbody>\n",
       "</table>\n",
       "</div>"
      ],
      "text/plain": [
       "         id                                title   type  \\\n",
       "0  ts300399  Five Came Back: The Reference Films   SHOW   \n",
       "1   tm84618                          Taxi Driver  MOVIE   \n",
       "2  tm127384      Monty Python and the Holy Grail  MOVIE   \n",
       "3   tm70993                        Life of Brian  MOVIE   \n",
       "4  tm190788                         The Exorcist  MOVIE   \n",
       "\n",
       "                                         description  release_year  \\\n",
       "0  This collection includes 12 World War II-era p...          1945   \n",
       "1  A mentally unstable Vietnam War veteran works ...          1976   \n",
       "2  King Arthur, accompanied by his squire, recrui...          1975   \n",
       "3  Brian Cohen is an average young Jewish man, bu...          1979   \n",
       "4  12-year-old Regan MacNeil begins to adapt an e...          1973   \n",
       "\n",
       "  age_certification  runtime         genres production_countries  seasons  \\\n",
       "0             TV-MA       48  documentation                   US      1.0   \n",
       "1                 R      113          drama                   US      NaN   \n",
       "2                PG       91        fantasy                   GB      NaN   \n",
       "3                 R       94         comedy                   GB      NaN   \n",
       "4                 R      133         horror                   US      NaN   \n",
       "\n",
       "     imdb_id  imdb_score  imdb_votes  tmdb_popularity  tmdb_score  \n",
       "0        NaN         NaN         NaN            0.600         NaN  \n",
       "1  tt0075314         8.3    795222.0           27.612         8.2  \n",
       "2  tt0071853         8.2    530877.0           18.216         7.8  \n",
       "3  tt0079470         8.0    392419.0           17.505         7.8  \n",
       "4  tt0070047         8.1    391942.0           95.337         7.7  "
      ]
     },
     "execution_count": 8,
     "metadata": {},
     "output_type": "execute_result"
    }
   ],
   "source": [
    "df.head()"
   ]
  },
  {
   "cell_type": "code",
   "execution_count": 9,
   "id": "de55cb39",
   "metadata": {
    "execution": {
     "iopub.execute_input": "2022-07-19T14:01:04.402323Z",
     "iopub.status.busy": "2022-07-19T14:01:04.401676Z",
     "iopub.status.idle": "2022-07-19T14:01:04.432813Z",
     "shell.execute_reply": "2022-07-19T14:01:04.430396Z"
    },
    "papermill": {
     "duration": 0.049883,
     "end_time": "2022-07-19T14:01:04.437307",
     "exception": false,
     "start_time": "2022-07-19T14:01:04.387424",
     "status": "completed"
    },
    "tags": []
   },
   "outputs": [
    {
     "name": "stdout",
     "output_type": "stream",
     "text": [
      "<class 'pandas.core.frame.DataFrame'>\n",
      "RangeIndex: 5806 entries, 0 to 5805\n",
      "Data columns (total 15 columns):\n",
      " #   Column                Non-Null Count  Dtype  \n",
      "---  ------                --------------  -----  \n",
      " 0   id                    5806 non-null   object \n",
      " 1   title                 5805 non-null   object \n",
      " 2   type                  5806 non-null   object \n",
      " 3   description           5788 non-null   object \n",
      " 4   release_year          5806 non-null   int64  \n",
      " 5   age_certification     3196 non-null   object \n",
      " 6   runtime               5806 non-null   int64  \n",
      " 7   genres                5738 non-null   object \n",
      " 8   production_countries  5574 non-null   object \n",
      " 9   seasons               2047 non-null   float64\n",
      " 10  imdb_id               5362 non-null   object \n",
      " 11  imdb_score            5283 non-null   float64\n",
      " 12  imdb_votes            5267 non-null   float64\n",
      " 13  tmdb_popularity       5712 non-null   float64\n",
      " 14  tmdb_score            5488 non-null   float64\n",
      "dtypes: float64(5), int64(2), object(8)\n",
      "memory usage: 680.5+ KB\n"
     ]
    }
   ],
   "source": [
    "df.info()"
   ]
  },
  {
   "cell_type": "markdown",
   "id": "dfd260df",
   "metadata": {
    "papermill": {
     "duration": 0.012236,
     "end_time": "2022-07-19T14:01:04.463077",
     "exception": false,
     "start_time": "2022-07-19T14:01:04.450841",
     "status": "completed"
    },
    "tags": []
   },
   "source": [
    "**let's check the duplicated**"
   ]
  },
  {
   "cell_type": "code",
   "execution_count": 10,
   "id": "835da209",
   "metadata": {
    "execution": {
     "iopub.execute_input": "2022-07-19T14:01:04.490694Z",
     "iopub.status.busy": "2022-07-19T14:01:04.490019Z",
     "iopub.status.idle": "2022-07-19T14:01:04.514913Z",
     "shell.execute_reply": "2022-07-19T14:01:04.513985Z"
    },
    "papermill": {
     "duration": 0.042235,
     "end_time": "2022-07-19T14:01:04.517798",
     "exception": false,
     "start_time": "2022-07-19T14:01:04.475563",
     "status": "completed"
    },
    "tags": []
   },
   "outputs": [
    {
     "data": {
      "text/plain": [
       "0"
      ]
     },
     "execution_count": 10,
     "metadata": {},
     "output_type": "execute_result"
    }
   ],
   "source": [
    "df.duplicated().sum()\n"
   ]
  },
  {
   "cell_type": "code",
   "execution_count": 11,
   "id": "57a35b06",
   "metadata": {
    "execution": {
     "iopub.execute_input": "2022-07-19T14:01:04.546728Z",
     "iopub.status.busy": "2022-07-19T14:01:04.546309Z",
     "iopub.status.idle": "2022-07-19T14:01:04.563049Z",
     "shell.execute_reply": "2022-07-19T14:01:04.561606Z"
    },
    "papermill": {
     "duration": 0.033819,
     "end_time": "2022-07-19T14:01:04.565497",
     "exception": false,
     "start_time": "2022-07-19T14:01:04.531678",
     "status": "completed"
    },
    "tags": []
   },
   "outputs": [
    {
     "data": {
      "text/plain": [
       "id                         0\n",
       "title                      1\n",
       "type                       0\n",
       "description               18\n",
       "release_year               0\n",
       "age_certification       2610\n",
       "runtime                    0\n",
       "genres                    68\n",
       "production_countries     232\n",
       "seasons                 3759\n",
       "imdb_id                  444\n",
       "imdb_score               523\n",
       "imdb_votes               539\n",
       "tmdb_popularity           94\n",
       "tmdb_score               318\n",
       "dtype: int64"
      ]
     },
     "execution_count": 11,
     "metadata": {},
     "output_type": "execute_result"
    }
   ],
   "source": [
    "df.isnull().sum()\n"
   ]
  },
  {
   "cell_type": "markdown",
   "id": "03420087",
   "metadata": {
    "papermill": {
     "duration": 0.012194,
     "end_time": "2022-07-19T14:01:04.590392",
     "exception": false,
     "start_time": "2022-07-19T14:01:04.578198",
     "status": "completed"
    },
    "tags": []
   },
   "source": [
    "**let's descover the type if it show or movise**"
   ]
  },
  {
   "cell_type": "code",
   "execution_count": 12,
   "id": "85dc08e4",
   "metadata": {
    "execution": {
     "iopub.execute_input": "2022-07-19T14:01:04.616998Z",
     "iopub.status.busy": "2022-07-19T14:01:04.616437Z",
     "iopub.status.idle": "2022-07-19T14:01:04.917739Z",
     "shell.execute_reply": "2022-07-19T14:01:04.916599Z"
    },
    "papermill": {
     "duration": 0.317243,
     "end_time": "2022-07-19T14:01:04.920049",
     "exception": false,
     "start_time": "2022-07-19T14:01:04.602806",
     "status": "completed"
    },
    "tags": []
   },
   "outputs": [
    {
     "data": {
      "text/plain": [
       "<seaborn.axisgrid.FacetGrid at 0x7fd0f812f690>"
      ]
     },
     "execution_count": 12,
     "metadata": {},
     "output_type": "execute_result"
    },
    {
     "data": {
      "image/png": "[encoded data removed]",
      "text/plain": [
       "<Figure size 360x360 with 1 Axes>"
      ]
     },
     "metadata": {
      "needs_background": "light"
     },
     "output_type": "display_data"
    }
   ],
   "source": [
    "sns.catplot(x='type',kind='count',data=df)"
   ]
  },
  {
   "cell_type": "markdown",
   "id": "0c17d742",
   "metadata": {
    "papermill": {
     "duration": 0.013902,
     "end_time": "2022-07-19T14:01:04.946860",
     "exception": false,
     "start_time": "2022-07-19T14:01:04.932958",
     "status": "completed"
    },
    "tags": []
   },
   "source": [
    "**most of the type is movie**"
   ]
  },
  {
   "cell_type": "code",
   "execution_count": 13,
   "id": "ca6cf6d7",
   "metadata": {
    "execution": {
     "iopub.execute_input": "2022-07-19T14:01:04.975819Z",
     "iopub.status.busy": "2022-07-19T14:01:04.974858Z",
     "iopub.status.idle": "2022-07-19T14:01:05.445747Z",
     "shell.execute_reply": "2022-07-19T14:01:05.444451Z"
    },
    "papermill": {
     "duration": 0.489014,
     "end_time": "2022-07-19T14:01:05.449611",
     "exception": false,
     "start_time": "2022-07-19T14:01:04.960597",
     "status": "completed"
    },
    "tags": []
   },
   "outputs": [
    {
     "data": {
      "text/plain": [
       "(array([ 0,  1,  2,  3,  4,  5,  6,  7,  8,  9, 10]),\n",
       " [Text(0, 0, 'TV-MA'),\n",
       "  Text(1, 0, 'R'),\n",
       "  Text(2, 0, 'PG'),\n",
       "  Text(3, 0, 'TV-14'),\n",
       "  Text(4, 0, 'G'),\n",
       "  Text(5, 0, 'PG-13'),\n",
       "  Text(6, 0, 'TV-PG'),\n",
       "  Text(7, 0, 'TV-Y'),\n",
       "  Text(8, 0, 'TV-G'),\n",
       "  Text(9, 0, 'TV-Y7'),\n",
       "  Text(10, 0, 'NC-17')])"
      ]
     },
     "execution_count": 13,
     "metadata": {},
     "output_type": "execute_result"
    },
    {
     "data": {
      "image/png": "[encoded data removed]",
      "text/plain": [
       "<Figure size 360x360 with 1 Axes>"
      ]
     },
     "metadata": {
      "needs_background": "light"
     },
     "output_type": "display_data"
    }
   ],
   "source": [
    "sns.catplot(x='age_certification',kind=\"count\",data=df)\n",
    "plt.xticks(rotation=45)\n"
   ]
  },
  {
   "cell_type": "markdown",
   "id": "afa44d32",
   "metadata": {
    "papermill": {
     "duration": 0.013314,
     "end_time": "2022-07-19T14:01:05.477309",
     "exception": false,
     "start_time": "2022-07-19T14:01:05.463995",
     "status": "completed"
    },
    "tags": []
   },
   "source": [
    "**the most of age certification is TV_MA**\n",
    "* TV_MA:esigned to be viewed by adults and therefore may be unsuitable for children under 17"
   ]
  },
  {
   "cell_type": "markdown",
   "id": "7c1d4266",
   "metadata": {
    "papermill": {
     "duration": 0.013045,
     "end_time": "2022-07-19T14:01:05.503907",
     "exception": false,
     "start_time": "2022-07-19T14:01:05.490862",
     "status": "completed"
    },
    "tags": []
   },
   "source": [
    "**and let's see the most genders**"
   ]
  },
  {
   "cell_type": "code",
   "execution_count": 14,
   "id": "74b21ea7",
   "metadata": {
    "execution": {
     "iopub.execute_input": "2022-07-19T14:01:05.532758Z",
     "iopub.status.busy": "2022-07-19T14:01:05.531826Z",
     "iopub.status.idle": "2022-07-19T14:01:05.861686Z",
     "shell.execute_reply": "2022-07-19T14:01:05.860400Z"
    },
    "papermill": {
     "duration": 0.347108,
     "end_time": "2022-07-19T14:01:05.864355",
     "exception": false,
     "start_time": "2022-07-19T14:01:05.517247",
     "status": "completed"
    },
    "tags": []
   },
   "outputs": [
    {
     "data": {
      "text/plain": [
       "(array([ 0,  1,  2,  3,  4,  5,  6,  7,  8,  9, 10, 11, 12, 13, 14, 15, 16,\n",
       "        17, 18]),\n",
       " [Text(0, 0, 'documentation'),\n",
       "  Text(1, 0, 'drama'),\n",
       "  Text(2, 0, 'fantasy'),\n",
       "  Text(3, 0, 'comedy'),\n",
       "  Text(4, 0, 'horror'),\n",
       "  Text(5, 0, 'european'),\n",
       "  Text(6, 0, 'crime'),\n",
       "  Text(7, 0, 'music'),\n",
       "  Text(8, 0, 'romance'),\n",
       "  Text(9, 0, 'action'),\n",
       "  Text(10, 0, 'family'),\n",
       "  Text(11, 0, 'war'),\n",
       "  Text(12, 0, 'thriller'),\n",
       "  Text(13, 0, 'scifi'),\n",
       "  Text(14, 0, 'animation'),\n",
       "  Text(15, 0, 'reality'),\n",
       "  Text(16, 0, 'sport'),\n",
       "  Text(17, 0, 'history'),\n",
       "  Text(18, 0, 'western')])"
      ]
     },
     "execution_count": 14,
     "metadata": {},
     "output_type": "execute_result"
    },
    {
     "data": {
      "image/png": "[encoded data removed]",
      "text/plain": [
       "<Figure size 360x360 with 1 Axes>"
      ]
     },
     "metadata": {
      "needs_background": "light"
     },
     "output_type": "display_data"
    }
   ],
   "source": [
    "sns.catplot(x='genres', kind=\"count\", data=df)\n",
    "plt.xticks(rotation=90)\n"
   ]
  },
  {
   "cell_type": "markdown",
   "id": "2636a4c7",
   "metadata": {
    "papermill": {
     "duration": 0.01355,
     "end_time": "2022-07-19T14:01:05.892203",
     "exception": false,
     "start_time": "2022-07-19T14:01:05.878653",
     "status": "completed"
    },
    "tags": []
   },
   "source": [
    "**drama is the most gender**"
   ]
  },
  {
   "cell_type": "markdown",
   "id": "515a135d",
   "metadata": {
    "papermill": {
     "duration": 0.013675,
     "end_time": "2022-07-19T14:01:05.919785",
     "exception": false,
     "start_time": "2022-07-19T14:01:05.906110",
     "status": "completed"
    },
    "tags": []
   },
   "source": [
    "**we want to know the most production countries so let's count it**"
   ]
  },
  {
   "cell_type": "code",
   "execution_count": 15,
   "id": "2ac48c8b",
   "metadata": {
    "execution": {
     "iopub.execute_input": "2022-07-19T14:01:05.949183Z",
     "iopub.status.busy": "2022-07-19T14:01:05.948760Z",
     "iopub.status.idle": "2022-07-19T14:01:05.956243Z",
     "shell.execute_reply": "2022-07-19T14:01:05.955411Z"
    },
    "papermill": {
     "duration": 0.024647,
     "end_time": "2022-07-19T14:01:05.958314",
     "exception": false,
     "start_time": "2022-07-19T14:01:05.933667",
     "status": "completed"
    },
    "tags": []
   },
   "outputs": [],
   "source": [
    "shows_countries= df.production_countries.value_counts()\n",
    "shows_countries = pd.DataFrame(shows_countries)\n",
    "\n"
   ]
  },
  {
   "cell_type": "markdown",
   "id": "fceb3a88",
   "metadata": {
    "papermill": {
     "duration": 0.01351,
     "end_time": "2022-07-19T14:01:05.986186",
     "exception": false,
     "start_time": "2022-07-19T14:01:05.972676",
     "status": "completed"
    },
    "tags": []
   },
   "source": [
    "**we want to see the most production countries so i separated the most 15 countries**"
   ]
  },
  {
   "cell_type": "code",
   "execution_count": 16,
   "id": "cfc3eee1",
   "metadata": {
    "execution": {
     "iopub.execute_input": "2022-07-19T14:01:06.016577Z",
     "iopub.status.busy": "2022-07-19T14:01:06.015446Z",
     "iopub.status.idle": "2022-07-19T14:01:06.025578Z",
     "shell.execute_reply": "2022-07-19T14:01:06.024741Z"
    },
    "papermill": {
     "duration": 0.028052,
     "end_time": "2022-07-19T14:01:06.028088",
     "exception": false,
     "start_time": "2022-07-19T14:01:06.000036",
     "status": "completed"
    },
    "tags": []
   },
   "outputs": [
    {
     "data": {
      "text/html": [
       "<div>\n",
       "<style scoped>\n",
       "    .dataframe tbody tr th:only-of-type {\n",
       "        vertical-align: middle;\n",
       "    }\n",
       "\n",
       "    .dataframe tbody tr th {\n",
       "        vertical-align: top;\n",
       "    }\n",
       "\n",
       "    .dataframe thead th {\n",
       "        text-align: right;\n",
       "    }\n",
       "</style>\n",
       "<table border=\"1\" class=\"dataframe\">\n",
       "  <thead>\n",
       "    <tr style=\"text-align: right;\">\n",
       "      <th></th>\n",
       "      <th>production_countries</th>\n",
       "    </tr>\n",
       "  </thead>\n",
       "  <tbody>\n",
       "    <tr>\n",
       "      <th>US</th>\n",
       "      <td>2127</td>\n",
       "    </tr>\n",
       "    <tr>\n",
       "      <th>IN</th>\n",
       "      <td>618</td>\n",
       "    </tr>\n",
       "    <tr>\n",
       "      <th>GB</th>\n",
       "      <td>291</td>\n",
       "    </tr>\n",
       "    <tr>\n",
       "      <th>JP</th>\n",
       "      <td>272</td>\n",
       "    </tr>\n",
       "    <tr>\n",
       "      <th>KR</th>\n",
       "      <td>213</td>\n",
       "    </tr>\n",
       "    <tr>\n",
       "      <th>ES</th>\n",
       "      <td>186</td>\n",
       "    </tr>\n",
       "    <tr>\n",
       "      <th>FR</th>\n",
       "      <td>178</td>\n",
       "    </tr>\n",
       "    <tr>\n",
       "      <th>CA</th>\n",
       "      <td>151</td>\n",
       "    </tr>\n",
       "    <tr>\n",
       "      <th>MX</th>\n",
       "      <td>106</td>\n",
       "    </tr>\n",
       "    <tr>\n",
       "      <th>DE</th>\n",
       "      <td>91</td>\n",
       "    </tr>\n",
       "    <tr>\n",
       "      <th>BR</th>\n",
       "      <td>87</td>\n",
       "    </tr>\n",
       "    <tr>\n",
       "      <th>PH</th>\n",
       "      <td>83</td>\n",
       "    </tr>\n",
       "    <tr>\n",
       "      <th>TR</th>\n",
       "      <td>79</td>\n",
       "    </tr>\n",
       "    <tr>\n",
       "      <th>CN</th>\n",
       "      <td>78</td>\n",
       "    </tr>\n",
       "    <tr>\n",
       "      <th>AU</th>\n",
       "      <td>71</td>\n",
       "    </tr>\n",
       "  </tbody>\n",
       "</table>\n",
       "</div>"
      ],
      "text/plain": [
       "    production_countries\n",
       "US                  2127\n",
       "IN                   618\n",
       "GB                   291\n",
       "JP                   272\n",
       "KR                   213\n",
       "ES                   186\n",
       "FR                   178\n",
       "CA                   151\n",
       "MX                   106\n",
       "DE                    91\n",
       "BR                    87\n",
       "PH                    83\n",
       "TR                    79\n",
       "CN                    78\n",
       "AU                    71"
      ]
     },
     "execution_count": 16,
     "metadata": {},
     "output_type": "execute_result"
    }
   ],
   "source": [
    "shows_countries= shows_countries.head(15)\n",
    "shows_countries\n",
    "\n"
   ]
  },
  {
   "cell_type": "code",
   "execution_count": 17,
   "id": "f8fc5ce8",
   "metadata": {
    "execution": {
     "iopub.execute_input": "2022-07-19T14:01:06.060401Z",
     "iopub.status.busy": "2022-07-19T14:01:06.059108Z",
     "iopub.status.idle": "2022-07-19T14:01:06.065606Z",
     "shell.execute_reply": "2022-07-19T14:01:06.064486Z"
    },
    "papermill": {
     "duration": 0.025401,
     "end_time": "2022-07-19T14:01:06.068244",
     "exception": false,
     "start_time": "2022-07-19T14:01:06.042843",
     "status": "completed"
    },
    "tags": []
   },
   "outputs": [],
   "source": [
    "\n",
    "labels = ['US','IN','JP','GB','KR','ES','FR','CA','MX','BR','PH','TR','NG','DE','AU']\n",
    "values = [1950, 605, 266, 219,210,159,124,103,95,86,80,79,67,65,62]"
   ]
  },
  {
   "cell_type": "markdown",
   "id": "b5747e1a",
   "metadata": {
    "papermill": {
     "duration": 0.015149,
     "end_time": "2022-07-19T14:01:06.098355",
     "exception": false,
     "start_time": "2022-07-19T14:01:06.083206",
     "status": "completed"
    },
    "tags": []
   },
   "source": [
    "**let's show it in pie char**"
   ]
  },
  {
   "cell_type": "code",
   "execution_count": 18,
   "id": "0f026bec",
   "metadata": {
    "execution": {
     "iopub.execute_input": "2022-07-19T14:01:06.129926Z",
     "iopub.status.busy": "2022-07-19T14:01:06.129476Z",
     "iopub.status.idle": "2022-07-19T14:01:07.286443Z",
     "shell.execute_reply": "2022-07-19T14:01:07.285599Z"
    },
    "papermill": {
     "duration": 1.175501,
     "end_time": "2022-07-19T14:01:07.288618",
     "exception": false,
     "start_time": "2022-07-19T14:01:06.113117",
     "status": "completed"
    },
    "tags": []
   },
   "outputs": [
    {
     "data": {
      "text/html": [
       "        <script type=\"text/javascript\">\n",
       "        window.PlotlyConfig = {MathJaxConfig: 'local'};\n",
       "        if (window.MathJax && window.MathJax.Hub && window.MathJax.Hub.Config) {window.MathJax.Hub.Config({SVG: {font: \"STIX-Web\"}});}\n",
       "        if (typeof require !== 'undefined') {\n",
       "        require.undef(\"plotly\");\n",
       "        requirejs.config({\n",
       "            paths: {\n",
       "                'plotly': ['https://cdn.plot.ly/plotly-2.12.1.min']\n",
       "            }\n",
       "        });\n",
       "        require(['plotly'], function(Plotly) {\n",
       "            window._Plotly = Plotly;\n",
       "        });\n",
       "        }\n",
       "        </script>\n",
       "        "
      ]
     },
     "metadata": {},
     "output_type": "display_data"
    },
    {
     "data": {
      "text/html": [
       "<div>                            <div id=\"72637128-dd60-4ff1-8cd5-1ed78a3a1b57\" class=\"plotly-graph-div\" style=\"height:525px; width:100%;\"></div>            <script type=\"text/javascript\">                require([\"plotly\"], function(Plotly) {                    window.PLOTLYENV=window.PLOTLYENV || {};                                    if (document.getElementById(\"72637128-dd60-4ff1-8cd5-1ed78a3a1b57\")) {                    Plotly.newPlot(                        \"72637128-dd60-4ff1-8cd5-1ed78a3a1b57\",                        [{\"domain\":{\"x\":[0.0,1.0],\"y\":[0.0,1.0]},\"hovertemplate\":\"label=%{label}<br>value=%{value}<extra></extra>\",\"labels\":[\"US\",\"IN\",\"JP\",\"GB\",\"KR\",\"ES\",\"FR\",\"CA\",\"MX\",\"BR\",\"PH\",\"TR\",\"NG\",\"DE\",\"AU\"],\"legendgroup\":\"\",\"name\":\"\",\"showlegend\":true,\"values\":[1950,605,266,219,210,159,124,103,95,86,80,79,67,65,62],\"type\":\"pie\"}],                        {\"template\":{\"data\":{\"histogram2dcontour\":[{\"type\":\"histogram2dcontour\",\"colorbar\":{\"outlinewidth\":0,\"ticks\":\"\"},\"colorscale\":[[0.0,\"#0d0887\"],[0.1111111111111111,\"#46039f\"],[0.2222222222222222,\"#7201a8\"],[0.3333333333333333,\"#9c179e\"],[0.4444444444444444,\"#bd3786\"],[0.5555555555555556,\"#d8576b\"],[0.6666666666666666,\"#ed7953\"],[0.7777777777777778,\"#fb9f3a\"],[0.8888888888888888,\"#fdca26\"],[1.0,\"#f0f921\"]]}],\"choropleth\":[{\"type\":\"choropleth\",\"colorbar\":{\"outlinewidth\":0,\"ticks\":\"\"}}],\"histogram2d\":[{\"type\":\"histogram2d\",\"colorbar\":{\"outlinewidth\":0,\"ticks\":\"\"},\"colorscale\":[[0.0,\"#0d0887\"],[0.1111111111111111,\"#46039f\"],[0.2222222222222222,\"#7201a8\"],[0.3333333333333333,\"#9c179e\"],[0.4444444444444444,\"#bd3786\"],[0.5555555555555556,\"#d8576b\"],[0.6666666666666666,\"#ed7953\"],[0.7777777777777778,\"#fb9f3a\"],[0.8888888888888888,\"#fdca26\"],[1.0,\"#f0f921\"]]}],\"heatmap\":[{\"type\":\"heatmap\",\"colorbar\":{\"outlinewidth\":0,\"ticks\":\"\"},\"colorscale\":[[0.0,\"#0d0887\"],[0.1111111111111111,\"#46039f\"],[0.2222222222222222,\"#7201a8\"],[0.3333333333333333,\"#9c179e\"],[0.4444444444444444,\"#bd3786\"],[0.5555555555555556,\"#d8576b\"],[0.6666666666666666,\"#ed7953\"],[0.7777777777777778,\"#fb9f3a\"],[0.8888888888888888,\"#fdca26\"],[1.0,\"#f0f921\"]]}],\"heatmapgl\":[{\"type\":\"heatmapgl\",\"colorbar\":{\"outlinewidth\":0,\"ticks\":\"\"},\"colorscale\":[[0.0,\"#0d0887\"],[0.1111111111111111,\"#46039f\"],[0.2222222222222222,\"#7201a8\"],[0.3333333333333333,\"#9c179e\"],[0.4444444444444444,\"#bd3786\"],[0.5555555555555556,\"#d8576b\"],[0.6666666666666666,\"#ed7953\"],[0.7777777777777778,\"#fb9f3a\"],[0.8888888888888888,\"#fdca26\"],[1.0,\"#f0f921\"]]}],\"contourcarpet\":[{\"type\":\"contourcarpet\",\"colorbar\":{\"outlinewidth\":0,\"ticks\":\"\"}}],\"contour\":[{\"type\":\"contour\",\"colorbar\":{\"outlinewidth\":0,\"ticks\":\"\"},\"colorscale\":[[0.0,\"#0d0887\"],[0.1111111111111111,\"#46039f\"],[0.2222222222222222,\"#7201a8\"],[0.3333333333333333,\"#9c179e\"],[0.4444444444444444,\"#bd3786\"],[0.5555555555555556,\"#d8576b\"],[0.6666666666666666,\"#ed7953\"],[0.7777777777777778,\"#fb9f3a\"],[0.8888888888888888,\"#fdca26\"],[1.0,\"#f0f921\"]]}],\"surface\":[{\"type\":\"surface\",\"colorbar\":{\"outlinewidth\":0,\"ticks\":\"\"},\"colorscale\":[[0.0,\"#0d0887\"],[0.1111111111111111,\"#46039f\"],[0.2222222222222222,\"#7201a8\"],[0.3333333333333333,\"#9c179e\"],[0.4444444444444444,\"#bd3786\"],[0.5555555555555556,\"#d8576b\"],[0.6666666666666666,\"#ed7953\"],[0.7777777777777778,\"#fb9f3a\"],[0.8888888888888888,\"#fdca26\"],[1.0,\"#f0f921\"]]}],\"mesh3d\":[{\"type\":\"mesh3d\",\"colorbar\":{\"outlinewidth\":0,\"ticks\":\"\"}}],\"scatter\":[{\"fillpattern\":{\"fillmode\":\"overlay\",\"size\":10,\"solidity\":0.2},\"type\":\"scatter\"}],\"parcoords\":[{\"type\":\"parcoords\",\"line\":{\"colorbar\":{\"outlinewidth\":0,\"ticks\":\"\"}}}],\"scatterpolargl\":[{\"type\":\"scatterpolargl\",\"marker\":{\"colorbar\":{\"outlinewidth\":0,\"ticks\":\"\"}}}],\"bar\":[{\"error_x\":{\"color\":\"#2a3f5f\"},\"error_y\":{\"color\":\"#2a3f5f\"},\"marker\":{\"line\":{\"color\":\"#E5ECF6\",\"width\":0.5},\"pattern\":{\"fillmode\":\"overlay\",\"size\":10,\"solidity\":0.2}},\"type\":\"bar\"}],\"scattergeo\":[{\"type\":\"scattergeo\",\"marker\":{\"colorbar\":{\"outlinewidth\":0,\"ticks\":\"\"}}}],\"scatterpolar\":[{\"type\":\"scatterpolar\",\"marker\":{\"colorbar\":{\"outlinewidth\":0,\"ticks\":\"\"}}}],\"histogram\":[{\"marker\":{\"pattern\":{\"fillmode\":\"overlay\",\"size\":10,\"solidity\":0.2}},\"type\":\"histogram\"}],\"scattergl\":[{\"type\":\"scattergl\",\"marker\":{\"colorbar\":{\"outlinewidth\":0,\"ticks\":\"\"}}}],\"scatter3d\":[{\"type\":\"scatter3d\",\"line\":{\"colorbar\":{\"outlinewidth\":0,\"ticks\":\"\"}},\"marker\":{\"colorbar\":{\"outlinewidth\":0,\"ticks\":\"\"}}}],\"scattermapbox\":[{\"type\":\"scattermapbox\",\"marker\":{\"colorbar\":{\"outlinewidth\":0,\"ticks\":\"\"}}}],\"scatterternary\":[{\"type\":\"scatterternary\",\"marker\":{\"colorbar\":{\"outlinewidth\":0,\"ticks\":\"\"}}}],\"scattercarpet\":[{\"type\":\"scattercarpet\",\"marker\":{\"colorbar\":{\"outlinewidth\":0,\"ticks\":\"\"}}}],\"carpet\":[{\"aaxis\":{\"endlinecolor\":\"#2a3f5f\",\"gridcolor\":\"white\",\"linecolor\":\"white\",\"minorgridcolor\":\"white\",\"startlinecolor\":\"#2a3f5f\"},\"baxis\":{\"endlinecolor\":\"#2a3f5f\",\"gridcolor\":\"white\",\"linecolor\":\"white\",\"minorgridcolor\":\"white\",\"startlinecolor\":\"#2a3f5f\"},\"type\":\"carpet\"}],\"table\":[{\"cells\":{\"fill\":{\"color\":\"#EBF0F8\"},\"line\":{\"color\":\"white\"}},\"header\":{\"fill\":{\"color\":\"#C8D4E3\"},\"line\":{\"color\":\"white\"}},\"type\":\"table\"}],\"barpolar\":[{\"marker\":{\"line\":{\"color\":\"#E5ECF6\",\"width\":0.5},\"pattern\":{\"fillmode\":\"overlay\",\"size\":10,\"solidity\":0.2}},\"type\":\"barpolar\"}],\"pie\":[{\"automargin\":true,\"type\":\"pie\"}]},\"layout\":{\"autotypenumbers\":\"strict\",\"colorway\":[\"#636efa\",\"#EF553B\",\"#00cc96\",\"#ab63fa\",\"#FFA15A\",\"#19d3f3\",\"#FF6692\",\"#B6E880\",\"#FF97FF\",\"#FECB52\"],\"font\":{\"color\":\"#2a3f5f\"},\"hovermode\":\"closest\",\"hoverlabel\":{\"align\":\"left\"},\"paper_bgcolor\":\"white\",\"plot_bgcolor\":\"#E5ECF6\",\"polar\":{\"bgcolor\":\"#E5ECF6\",\"angularaxis\":{\"gridcolor\":\"white\",\"linecolor\":\"white\",\"ticks\":\"\"},\"radialaxis\":{\"gridcolor\":\"white\",\"linecolor\":\"white\",\"ticks\":\"\"}},\"ternary\":{\"bgcolor\":\"#E5ECF6\",\"aaxis\":{\"gridcolor\":\"white\",\"linecolor\":\"white\",\"ticks\":\"\"},\"baxis\":{\"gridcolor\":\"white\",\"linecolor\":\"white\",\"ticks\":\"\"},\"caxis\":{\"gridcolor\":\"white\",\"linecolor\":\"white\",\"ticks\":\"\"}},\"coloraxis\":{\"colorbar\":{\"outlinewidth\":0,\"ticks\":\"\"}},\"colorscale\":{\"sequential\":[[0.0,\"#0d0887\"],[0.1111111111111111,\"#46039f\"],[0.2222222222222222,\"#7201a8\"],[0.3333333333333333,\"#9c179e\"],[0.4444444444444444,\"#bd3786\"],[0.5555555555555556,\"#d8576b\"],[0.6666666666666666,\"#ed7953\"],[0.7777777777777778,\"#fb9f3a\"],[0.8888888888888888,\"#fdca26\"],[1.0,\"#f0f921\"]],\"sequentialminus\":[[0.0,\"#0d0887\"],[0.1111111111111111,\"#46039f\"],[0.2222222222222222,\"#7201a8\"],[0.3333333333333333,\"#9c179e\"],[0.4444444444444444,\"#bd3786\"],[0.5555555555555556,\"#d8576b\"],[0.6666666666666666,\"#ed7953\"],[0.7777777777777778,\"#fb9f3a\"],[0.8888888888888888,\"#fdca26\"],[1.0,\"#f0f921\"]],\"diverging\":[[0,\"#8e0152\"],[0.1,\"#c51b7d\"],[0.2,\"#de77ae\"],[0.3,\"#f1b6da\"],[0.4,\"#fde0ef\"],[0.5,\"#f7f7f7\"],[0.6,\"#e6f5d0\"],[0.7,\"#b8e186\"],[0.8,\"#7fbc41\"],[0.9,\"#4d9221\"],[1,\"#276419\"]]},\"xaxis\":{\"gridcolor\":\"white\",\"linecolor\":\"white\",\"ticks\":\"\",\"title\":{\"standoff\":15},\"zerolinecolor\":\"white\",\"automargin\":true,\"zerolinewidth\":2},\"yaxis\":{\"gridcolor\":\"white\",\"linecolor\":\"white\",\"ticks\":\"\",\"title\":{\"standoff\":15},\"zerolinecolor\":\"white\",\"automargin\":true,\"zerolinewidth\":2},\"scene\":{\"xaxis\":{\"backgroundcolor\":\"#E5ECF6\",\"gridcolor\":\"white\",\"linecolor\":\"white\",\"showbackground\":true,\"ticks\":\"\",\"zerolinecolor\":\"white\",\"gridwidth\":2},\"yaxis\":{\"backgroundcolor\":\"#E5ECF6\",\"gridcolor\":\"white\",\"linecolor\":\"white\",\"showbackground\":true,\"ticks\":\"\",\"zerolinecolor\":\"white\",\"gridwidth\":2},\"zaxis\":{\"backgroundcolor\":\"#E5ECF6\",\"gridcolor\":\"white\",\"linecolor\":\"white\",\"showbackground\":true,\"ticks\":\"\",\"zerolinecolor\":\"white\",\"gridwidth\":2}},\"shapedefaults\":{\"line\":{\"color\":\"#2a3f5f\"}},\"annotationdefaults\":{\"arrowcolor\":\"#2a3f5f\",\"arrowhead\":0,\"arrowwidth\":1},\"geo\":{\"bgcolor\":\"white\",\"landcolor\":\"#E5ECF6\",\"subunitcolor\":\"white\",\"showland\":true,\"showlakes\":true,\"lakecolor\":\"white\"},\"title\":{\"x\":0.05},\"mapbox\":{\"style\":\"light\"}}},\"legend\":{\"tracegroupgap\":0},\"title\":{\"text\":\"most production countries\"}},                        {\"responsive\": true}                    ).then(function(){\n",
       "                            \n",
       "var gd = document.getElementById('72637128-dd60-4ff1-8cd5-1ed78a3a1b57');\n",
       "var x = new MutationObserver(function (mutations, observer) {{\n",
       "        var display = window.getComputedStyle(gd).display;\n",
       "        if (!display || display === 'none') {{\n",
       "            console.log([gd, 'removed!']);\n",
       "            Plotly.purge(gd);\n",
       "            observer.disconnect();\n",
       "        }}\n",
       "}});\n",
       "\n",
       "// Listen for the removal of the full notebook cells\n",
       "var notebookContainer = gd.closest('#notebook-container');\n",
       "if (notebookContainer) {{\n",
       "    x.observe(notebookContainer, {childList: true});\n",
       "}}\n",
       "\n",
       "// Listen for the clearing of the current output cell\n",
       "var outputEl = gd.closest('.output');\n",
       "if (outputEl) {{\n",
       "    x.observe(outputEl, {childList: true});\n",
       "}}\n",
       "\n",
       "                        })                };                });            </script>        </div>"
      ]
     },
     "metadata": {},
     "output_type": "display_data"
    }
   ],
   "source": [
    "fig = px.pie(df, values=values, names=labels, title='most production countries')\n",
    "fig.show()"
   ]
  },
  {
   "cell_type": "markdown",
   "id": "5e939f12",
   "metadata": {
    "papermill": {
     "duration": 0.014539,
     "end_time": "2022-07-19T14:01:07.317993",
     "exception": false,
     "start_time": "2022-07-19T14:01:07.303454",
     "status": "completed"
    },
    "tags": []
   },
   "source": [
    "**as we can see the most production countrie is us by 46.8%**"
   ]
  },
  {
   "cell_type": "markdown",
   "id": "d1aac96f",
   "metadata": {
    "papermill": {
     "duration": 0.014488,
     "end_time": "2022-07-19T14:01:07.347294",
     "exception": false,
     "start_time": "2022-07-19T14:01:07.332806",
     "status": "completed"
    },
    "tags": []
   },
   "source": [
    "**and now we want to see the release_year**"
   ]
  },
  {
   "cell_type": "code",
   "execution_count": 19,
   "id": "a36b0296",
   "metadata": {
    "execution": {
     "iopub.execute_input": "2022-07-19T14:01:07.379916Z",
     "iopub.status.busy": "2022-07-19T14:01:07.379006Z",
     "iopub.status.idle": "2022-07-19T14:01:07.391731Z",
     "shell.execute_reply": "2022-07-19T14:01:07.390904Z"
    },
    "papermill": {
     "duration": 0.03167,
     "end_time": "2022-07-19T14:01:07.393719",
     "exception": false,
     "start_time": "2022-07-19T14:01:07.362049",
     "status": "completed"
    },
    "tags": []
   },
   "outputs": [
    {
     "data": {
      "text/html": [
       "<div>\n",
       "<style scoped>\n",
       "    .dataframe tbody tr th:only-of-type {\n",
       "        vertical-align: middle;\n",
       "    }\n",
       "\n",
       "    .dataframe tbody tr th {\n",
       "        vertical-align: top;\n",
       "    }\n",
       "\n",
       "    .dataframe thead th {\n",
       "        text-align: right;\n",
       "    }\n",
       "</style>\n",
       "<table border=\"1\" class=\"dataframe\">\n",
       "  <thead>\n",
       "    <tr style=\"text-align: right;\">\n",
       "      <th></th>\n",
       "      <th>release_year</th>\n",
       "    </tr>\n",
       "  </thead>\n",
       "  <tbody>\n",
       "    <tr>\n",
       "      <th>2019</th>\n",
       "      <td>848</td>\n",
       "    </tr>\n",
       "    <tr>\n",
       "      <th>2020</th>\n",
       "      <td>805</td>\n",
       "    </tr>\n",
       "    <tr>\n",
       "      <th>2018</th>\n",
       "      <td>774</td>\n",
       "    </tr>\n",
       "    <tr>\n",
       "      <th>2021</th>\n",
       "      <td>758</td>\n",
       "    </tr>\n",
       "    <tr>\n",
       "      <th>2017</th>\n",
       "      <td>580</td>\n",
       "    </tr>\n",
       "    <tr>\n",
       "      <th>...</th>\n",
       "      <td>...</td>\n",
       "    </tr>\n",
       "    <tr>\n",
       "      <th>1974</th>\n",
       "      <td>1</td>\n",
       "    </tr>\n",
       "    <tr>\n",
       "      <th>1959</th>\n",
       "      <td>1</td>\n",
       "    </tr>\n",
       "    <tr>\n",
       "      <th>1962</th>\n",
       "      <td>1</td>\n",
       "    </tr>\n",
       "    <tr>\n",
       "      <th>1978</th>\n",
       "      <td>1</td>\n",
       "    </tr>\n",
       "    <tr>\n",
       "      <th>1945</th>\n",
       "      <td>1</td>\n",
       "    </tr>\n",
       "  </tbody>\n",
       "</table>\n",
       "<p>67 rows × 1 columns</p>\n",
       "</div>"
      ],
      "text/plain": [
       "      release_year\n",
       "2019           848\n",
       "2020           805\n",
       "2018           774\n",
       "2021           758\n",
       "2017           580\n",
       "...            ...\n",
       "1974             1\n",
       "1959             1\n",
       "1962             1\n",
       "1978             1\n",
       "1945             1\n",
       "\n",
       "[67 rows x 1 columns]"
      ]
     },
     "execution_count": 19,
     "metadata": {},
     "output_type": "execute_result"
    }
   ],
   "source": [
    "release_year_count= df.release_year.value_counts()\n",
    "\n",
    "release_year_count = pd.DataFrame(release_year_count)\n",
    "\n",
    "release_year_count\n"
   ]
  },
  {
   "cell_type": "code",
   "execution_count": 20,
   "id": "f6bcc8db",
   "metadata": {
    "execution": {
     "iopub.execute_input": "2022-07-19T14:01:07.425918Z",
     "iopub.status.busy": "2022-07-19T14:01:07.424934Z",
     "iopub.status.idle": "2022-07-19T14:01:07.697270Z",
     "shell.execute_reply": "2022-07-19T14:01:07.696038Z"
    },
    "papermill": {
     "duration": 0.291533,
     "end_time": "2022-07-19T14:01:07.700182",
     "exception": false,
     "start_time": "2022-07-19T14:01:07.408649",
     "status": "completed"
    },
    "tags": []
   },
   "outputs": [
    {
     "data": {
      "image/png": "[encoded data removed]",
      "text/plain": [
       "<Figure size 720x648 with 1 Axes>"
      ]
     },
     "metadata": {
      "needs_background": "light"
     },
     "output_type": "display_data"
    }
   ],
   "source": [
    "plt.figure(figsize=(10, 9))\n",
    "sns.lineplot(data= release_year_count)\n",
    "plt.title('Netflix´s shows release date (1940-2021)')\n",
    "plt.xlim(1940, 2021)\n",
    "plt.xlabel('Year released')\n",
    "plt.ylabel('Total Shows on Netflix')\n",
    "plt.show()\n"
   ]
  },
  {
   "cell_type": "markdown",
   "id": "ea8c34bd",
   "metadata": {
    "papermill": {
     "duration": 0.015415,
     "end_time": "2022-07-19T14:01:07.731713",
     "exception": false,
     "start_time": "2022-07-19T14:01:07.716298",
     "status": "completed"
    },
    "tags": []
   },
   "source": [
    "**as we can see the most released from 2010 to 2021**"
   ]
  },
  {
   "cell_type": "markdown",
   "id": "e4bcc02e",
   "metadata": {
    "papermill": {
     "duration": 0.015432,
     "end_time": "2022-07-19T14:01:07.762852",
     "exception": false,
     "start_time": "2022-07-19T14:01:07.747420",
     "status": "completed"
    },
    "tags": []
   },
   "source": [
    "# **deeper analysis**"
   ]
  },
  {
   "cell_type": "markdown",
   "id": "62bede43",
   "metadata": {
    "papermill": {
     "duration": 0.015141,
     "end_time": "2022-07-19T14:01:07.794647",
     "exception": false,
     "start_time": "2022-07-19T14:01:07.779506",
     "status": "completed"
    },
    "tags": []
   },
   "source": [
    "**i want to see the genres of content for each age_certification**"
   ]
  },
  {
   "cell_type": "code",
   "execution_count": 21,
   "id": "2aefe3a0",
   "metadata": {
    "execution": {
     "iopub.execute_input": "2022-07-19T14:01:07.827788Z",
     "iopub.status.busy": "2022-07-19T14:01:07.826949Z",
     "iopub.status.idle": "2022-07-19T14:01:08.919591Z",
     "shell.execute_reply": "2022-07-19T14:01:08.918697Z"
    },
    "papermill": {
     "duration": 1.11212,
     "end_time": "2022-07-19T14:01:08.922022",
     "exception": false,
     "start_time": "2022-07-19T14:01:07.809902",
     "status": "completed"
    },
    "tags": []
   },
   "outputs": [
    {
     "data": {
      "text/plain": [
       "<AxesSubplot:xlabel='age_certification', ylabel='count'>"
      ]
     },
     "execution_count": 21,
     "metadata": {},
     "output_type": "execute_result"
    },
    {
     "data": {
      "image/png": "[encoded data removed]",
      "text/plain": [
       "<Figure size 2400x1200 with 1 Axes>"
      ]
     },
     "metadata": {
      "needs_background": "light"
     },
     "output_type": "display_data"
    }
   ],
   "source": [
    "plt.figure(figsize=(24, 12), dpi=100)\n",
    "sns.countplot(data=df, x=\"age_certification\", hue=\"genres\",palette = 'magma')\n"
   ]
  },
  {
   "cell_type": "markdown",
   "id": "524ddade",
   "metadata": {
    "papermill": {
     "duration": 0.016975,
     "end_time": "2022-07-19T14:01:08.955379",
     "exception": false,
     "start_time": "2022-07-19T14:01:08.938404",
     "status": "completed"
    },
    "tags": []
   },
   "source": [
    "**Now let's see imdb_score and tmdb_score**"
   ]
  },
  {
   "cell_type": "code",
   "execution_count": 22,
   "id": "737bb85c",
   "metadata": {
    "execution": {
     "iopub.execute_input": "2022-07-19T14:01:08.991175Z",
     "iopub.status.busy": "2022-07-19T14:01:08.990386Z",
     "iopub.status.idle": "2022-07-19T14:01:09.011557Z",
     "shell.execute_reply": "2022-07-19T14:01:09.010696Z"
    },
    "papermill": {
     "duration": 0.041859,
     "end_time": "2022-07-19T14:01:09.013827",
     "exception": false,
     "start_time": "2022-07-19T14:01:08.971968",
     "status": "completed"
    },
    "tags": []
   },
   "outputs": [
    {
     "data": {
      "text/html": [
       "<div>\n",
       "<style scoped>\n",
       "    .dataframe tbody tr th:only-of-type {\n",
       "        vertical-align: middle;\n",
       "    }\n",
       "\n",
       "    .dataframe tbody tr th {\n",
       "        vertical-align: top;\n",
       "    }\n",
       "\n",
       "    .dataframe thead th {\n",
       "        text-align: right;\n",
       "    }\n",
       "</style>\n",
       "<table border=\"1\" class=\"dataframe\">\n",
       "  <thead>\n",
       "    <tr style=\"text-align: right;\">\n",
       "      <th></th>\n",
       "      <th>genres</th>\n",
       "      <th>imdb_score</th>\n",
       "    </tr>\n",
       "  </thead>\n",
       "  <tbody>\n",
       "    <tr>\n",
       "      <th>0</th>\n",
       "      <td>action</td>\n",
       "      <td>1770.7</td>\n",
       "    </tr>\n",
       "    <tr>\n",
       "      <th>1</th>\n",
       "      <td>animation</td>\n",
       "      <td>1267.9</td>\n",
       "    </tr>\n",
       "    <tr>\n",
       "      <th>2</th>\n",
       "      <td>comedy</td>\n",
       "      <td>6693.5</td>\n",
       "    </tr>\n",
       "    <tr>\n",
       "      <th>3</th>\n",
       "      <td>crime</td>\n",
       "      <td>1714.9</td>\n",
       "    </tr>\n",
       "    <tr>\n",
       "      <th>4</th>\n",
       "      <td>documentation</td>\n",
       "      <td>3387.2</td>\n",
       "    </tr>\n",
       "    <tr>\n",
       "      <th>5</th>\n",
       "      <td>drama</td>\n",
       "      <td>7653.1</td>\n",
       "    </tr>\n",
       "    <tr>\n",
       "      <th>6</th>\n",
       "      <td>european</td>\n",
       "      <td>904.1</td>\n",
       "    </tr>\n",
       "    <tr>\n",
       "      <th>7</th>\n",
       "      <td>family</td>\n",
       "      <td>1175.8</td>\n",
       "    </tr>\n",
       "    <tr>\n",
       "      <th>8</th>\n",
       "      <td>fantasy</td>\n",
       "      <td>989.2</td>\n",
       "    </tr>\n",
       "    <tr>\n",
       "      <th>9</th>\n",
       "      <td>history</td>\n",
       "      <td>632.0</td>\n",
       "    </tr>\n",
       "    <tr>\n",
       "      <th>10</th>\n",
       "      <td>horror</td>\n",
       "      <td>681.1</td>\n",
       "    </tr>\n",
       "    <tr>\n",
       "      <th>11</th>\n",
       "      <td>music</td>\n",
       "      <td>570.9</td>\n",
       "    </tr>\n",
       "    <tr>\n",
       "      <th>12</th>\n",
       "      <td>reality</td>\n",
       "      <td>970.5</td>\n",
       "    </tr>\n",
       "    <tr>\n",
       "      <th>13</th>\n",
       "      <td>romance</td>\n",
       "      <td>2087.4</td>\n",
       "    </tr>\n",
       "    <tr>\n",
       "      <th>14</th>\n",
       "      <td>scifi</td>\n",
       "      <td>964.6</td>\n",
       "    </tr>\n",
       "    <tr>\n",
       "      <th>15</th>\n",
       "      <td>sport</td>\n",
       "      <td>457.5</td>\n",
       "    </tr>\n",
       "    <tr>\n",
       "      <th>16</th>\n",
       "      <td>thriller</td>\n",
       "      <td>2166.0</td>\n",
       "    </tr>\n",
       "    <tr>\n",
       "      <th>17</th>\n",
       "      <td>war</td>\n",
       "      <td>310.8</td>\n",
       "    </tr>\n",
       "    <tr>\n",
       "      <th>18</th>\n",
       "      <td>western</td>\n",
       "      <td>68.4</td>\n",
       "    </tr>\n",
       "  </tbody>\n",
       "</table>\n",
       "</div>"
      ],
      "text/plain": [
       "           genres  imdb_score\n",
       "0          action      1770.7\n",
       "1       animation      1267.9\n",
       "2          comedy      6693.5\n",
       "3           crime      1714.9\n",
       "4   documentation      3387.2\n",
       "5           drama      7653.1\n",
       "6        european       904.1\n",
       "7          family      1175.8\n",
       "8         fantasy       989.2\n",
       "9         history       632.0\n",
       "10         horror       681.1\n",
       "11          music       570.9\n",
       "12        reality       970.5\n",
       "13        romance      2087.4\n",
       "14          scifi       964.6\n",
       "15          sport       457.5\n",
       "16       thriller      2166.0\n",
       "17            war       310.8\n",
       "18        western        68.4"
      ]
     },
     "execution_count": 22,
     "metadata": {},
     "output_type": "execute_result"
    }
   ],
   "source": [
    "b= df.groupby('genres')[['imdb_score']].sum().reset_index()\n",
    "b"
   ]
  },
  {
   "cell_type": "code",
   "execution_count": 23,
   "id": "3e5cbae1",
   "metadata": {
    "execution": {
     "iopub.execute_input": "2022-07-19T14:01:09.049644Z",
     "iopub.status.busy": "2022-07-19T14:01:09.048912Z",
     "iopub.status.idle": "2022-07-19T14:01:09.366327Z",
     "shell.execute_reply": "2022-07-19T14:01:09.364822Z"
    },
    "papermill": {
     "duration": 0.338552,
     "end_time": "2022-07-19T14:01:09.368996",
     "exception": false,
     "start_time": "2022-07-19T14:01:09.030444",
     "status": "completed"
    },
    "tags": []
   },
   "outputs": [
    {
     "data": {
      "text/plain": [
       "(array([ 0,  1,  2,  3,  4,  5,  6,  7,  8,  9, 10, 11, 12, 13, 14, 15, 16,\n",
       "        17, 18]),\n",
       " [Text(0, 0, 'action'),\n",
       "  Text(1, 0, 'animation'),\n",
       "  Text(2, 0, 'comedy'),\n",
       "  Text(3, 0, 'crime'),\n",
       "  Text(4, 0, 'documentation'),\n",
       "  Text(5, 0, 'drama'),\n",
       "  Text(6, 0, 'european'),\n",
       "  Text(7, 0, 'family'),\n",
       "  Text(8, 0, 'fantasy'),\n",
       "  Text(9, 0, 'history'),\n",
       "  Text(10, 0, 'horror'),\n",
       "  Text(11, 0, 'music'),\n",
       "  Text(12, 0, 'reality'),\n",
       "  Text(13, 0, 'romance'),\n",
       "  Text(14, 0, 'scifi'),\n",
       "  Text(15, 0, 'sport'),\n",
       "  Text(16, 0, 'thriller'),\n",
       "  Text(17, 0, 'war'),\n",
       "  Text(18, 0, 'western')])"
      ]
     },
     "execution_count": 23,
     "metadata": {},
     "output_type": "execute_result"
    },
    {
     "data": {
      "image/png": "[encoded data removed]",
      "text/plain": [
       "<Figure size 432x288 with 1 Axes>"
      ]
     },
     "metadata": {
      "needs_background": "light"
     },
     "output_type": "display_data"
    }
   ],
   "source": [
    "sns.barplot(x='genres',y='imdb_score',data=b,palette = 'magma')\n",
    "plt.xticks(rotation=90)\n"
   ]
  },
  {
   "cell_type": "markdown",
   "id": "ddcf3cd0",
   "metadata": {
    "papermill": {
     "duration": 0.018075,
     "end_time": "2022-07-19T14:01:09.404222",
     "exception": false,
     "start_time": "2022-07-19T14:01:09.386147",
     "status": "completed"
    },
    "tags": []
   },
   "source": [
    "**drama is the most imdb score**"
   ]
  },
  {
   "cell_type": "markdown",
   "id": "86543447",
   "metadata": {
    "papermill": {
     "duration": 0.01881,
     "end_time": "2022-07-19T14:01:09.441589",
     "exception": false,
     "start_time": "2022-07-19T14:01:09.422779",
     "status": "completed"
    },
    "tags": []
   },
   "source": [
    "**let's see tmdb_score**"
   ]
  },
  {
   "cell_type": "code",
   "execution_count": 24,
   "id": "1c0b684f",
   "metadata": {
    "execution": {
     "iopub.execute_input": "2022-07-19T14:01:09.478197Z",
     "iopub.status.busy": "2022-07-19T14:01:09.477072Z",
     "iopub.status.idle": "2022-07-19T14:01:09.497922Z",
     "shell.execute_reply": "2022-07-19T14:01:09.496344Z"
    },
    "papermill": {
     "duration": 0.041712,
     "end_time": "2022-07-19T14:01:09.500416",
     "exception": false,
     "start_time": "2022-07-19T14:01:09.458704",
     "status": "completed"
    },
    "tags": []
   },
   "outputs": [
    {
     "data": {
      "text/html": [
       "<div>\n",
       "<style scoped>\n",
       "    .dataframe tbody tr th:only-of-type {\n",
       "        vertical-align: middle;\n",
       "    }\n",
       "\n",
       "    .dataframe tbody tr th {\n",
       "        vertical-align: top;\n",
       "    }\n",
       "\n",
       "    .dataframe thead th {\n",
       "        text-align: right;\n",
       "    }\n",
       "</style>\n",
       "<table border=\"1\" class=\"dataframe\">\n",
       "  <thead>\n",
       "    <tr style=\"text-align: right;\">\n",
       "      <th></th>\n",
       "      <th>genres</th>\n",
       "      <th>tmdb_score</th>\n",
       "    </tr>\n",
       "  </thead>\n",
       "  <tbody>\n",
       "    <tr>\n",
       "      <th>0</th>\n",
       "      <td>action</td>\n",
       "      <td>1881.4</td>\n",
       "    </tr>\n",
       "    <tr>\n",
       "      <th>1</th>\n",
       "      <td>animation</td>\n",
       "      <td>1379.4</td>\n",
       "    </tr>\n",
       "    <tr>\n",
       "      <th>2</th>\n",
       "      <td>comedy</td>\n",
       "      <td>7251.3</td>\n",
       "    </tr>\n",
       "    <tr>\n",
       "      <th>3</th>\n",
       "      <td>crime</td>\n",
       "      <td>1781.0</td>\n",
       "    </tr>\n",
       "    <tr>\n",
       "      <th>4</th>\n",
       "      <td>documentation</td>\n",
       "      <td>3701.3</td>\n",
       "    </tr>\n",
       "    <tr>\n",
       "      <th>5</th>\n",
       "      <td>drama</td>\n",
       "      <td>8028.4</td>\n",
       "    </tr>\n",
       "    <tr>\n",
       "      <th>6</th>\n",
       "      <td>european</td>\n",
       "      <td>960.9</td>\n",
       "    </tr>\n",
       "    <tr>\n",
       "      <th>7</th>\n",
       "      <td>family</td>\n",
       "      <td>1365.1</td>\n",
       "    </tr>\n",
       "    <tr>\n",
       "      <th>8</th>\n",
       "      <td>fantasy</td>\n",
       "      <td>1119.4</td>\n",
       "    </tr>\n",
       "    <tr>\n",
       "      <th>9</th>\n",
       "      <td>history</td>\n",
       "      <td>637.3</td>\n",
       "    </tr>\n",
       "    <tr>\n",
       "      <th>10</th>\n",
       "      <td>horror</td>\n",
       "      <td>775.2</td>\n",
       "    </tr>\n",
       "    <tr>\n",
       "      <th>11</th>\n",
       "      <td>music</td>\n",
       "      <td>581.7</td>\n",
       "    </tr>\n",
       "    <tr>\n",
       "      <th>12</th>\n",
       "      <td>reality</td>\n",
       "      <td>1103.2</td>\n",
       "    </tr>\n",
       "    <tr>\n",
       "      <th>13</th>\n",
       "      <td>romance</td>\n",
       "      <td>2170.9</td>\n",
       "    </tr>\n",
       "    <tr>\n",
       "      <th>14</th>\n",
       "      <td>scifi</td>\n",
       "      <td>1150.5</td>\n",
       "    </tr>\n",
       "    <tr>\n",
       "      <th>15</th>\n",
       "      <td>sport</td>\n",
       "      <td>460.8</td>\n",
       "    </tr>\n",
       "    <tr>\n",
       "      <th>16</th>\n",
       "      <td>thriller</td>\n",
       "      <td>2348.2</td>\n",
       "    </tr>\n",
       "    <tr>\n",
       "      <th>17</th>\n",
       "      <td>war</td>\n",
       "      <td>339.3</td>\n",
       "    </tr>\n",
       "    <tr>\n",
       "      <th>18</th>\n",
       "      <td>western</td>\n",
       "      <td>70.3</td>\n",
       "    </tr>\n",
       "  </tbody>\n",
       "</table>\n",
       "</div>"
      ],
      "text/plain": [
       "           genres  tmdb_score\n",
       "0          action      1881.4\n",
       "1       animation      1379.4\n",
       "2          comedy      7251.3\n",
       "3           crime      1781.0\n",
       "4   documentation      3701.3\n",
       "5           drama      8028.4\n",
       "6        european       960.9\n",
       "7          family      1365.1\n",
       "8         fantasy      1119.4\n",
       "9         history       637.3\n",
       "10         horror       775.2\n",
       "11          music       581.7\n",
       "12        reality      1103.2\n",
       "13        romance      2170.9\n",
       "14          scifi      1150.5\n",
       "15          sport       460.8\n",
       "16       thriller      2348.2\n",
       "17            war       339.3\n",
       "18        western        70.3"
      ]
     },
     "execution_count": 24,
     "metadata": {},
     "output_type": "execute_result"
    }
   ],
   "source": [
    "b= df.groupby('genres')[['tmdb_score']].sum().reset_index()\n",
    "b"
   ]
  },
  {
   "cell_type": "code",
   "execution_count": 25,
   "id": "e23815f0",
   "metadata": {
    "execution": {
     "iopub.execute_input": "2022-07-19T14:01:09.538682Z",
     "iopub.status.busy": "2022-07-19T14:01:09.537964Z",
     "iopub.status.idle": "2022-07-19T14:01:09.843318Z",
     "shell.execute_reply": "2022-07-19T14:01:09.842431Z"
    },
    "papermill": {
     "duration": 0.327724,
     "end_time": "2022-07-19T14:01:09.845672",
     "exception": false,
     "start_time": "2022-07-19T14:01:09.517948",
     "status": "completed"
    },
    "tags": []
   },
   "outputs": [
    {
     "data": {
      "text/plain": [
       "(array([ 0,  1,  2,  3,  4,  5,  6,  7,  8,  9, 10, 11, 12, 13, 14, 15, 16,\n",
       "        17, 18]),\n",
       " [Text(0, 0, 'action'),\n",
       "  Text(1, 0, 'animation'),\n",
       "  Text(2, 0, 'comedy'),\n",
       "  Text(3, 0, 'crime'),\n",
       "  Text(4, 0, 'documentation'),\n",
       "  Text(5, 0, 'drama'),\n",
       "  Text(6, 0, 'european'),\n",
       "  Text(7, 0, 'family'),\n",
       "  Text(8, 0, 'fantasy'),\n",
       "  Text(9, 0, 'history'),\n",
       "  Text(10, 0, 'horror'),\n",
       "  Text(11, 0, 'music'),\n",
       "  Text(12, 0, 'reality'),\n",
       "  Text(13, 0, 'romance'),\n",
       "  Text(14, 0, 'scifi'),\n",
       "  Text(15, 0, 'sport'),\n",
       "  Text(16, 0, 'thriller'),\n",
       "  Text(17, 0, 'war'),\n",
       "  Text(18, 0, 'western')])"
      ]
     },
     "execution_count": 25,
     "metadata": {},
     "output_type": "execute_result"
    },
    {
     "data": {
      "image/png": "[encoded data removed]",
      "text/plain": [
       "<Figure size 432x288 with 1 Axes>"
      ]
     },
     "metadata": {
      "needs_background": "light"
     },
     "output_type": "display_data"
    }
   ],
   "source": [
    "sns.barplot(x='genres',y='tmdb_score',data=b,palette = 'magma')\n",
    "plt.xticks(rotation=90)"
   ]
  },
  {
   "cell_type": "markdown",
   "id": "00e84bbf",
   "metadata": {
    "papermill": {
     "duration": 0.017815,
     "end_time": "2022-07-19T14:01:09.882112",
     "exception": false,
     "start_time": "2022-07-19T14:01:09.864297",
     "status": "completed"
    },
    "tags": []
   },
   "source": [
    "**drama else is the most tmdb score**"
   ]
  },
  {
   "cell_type": "markdown",
   "id": "95d2319d",
   "metadata": {
    "papermill": {
     "duration": 0.01753,
     "end_time": "2022-07-19T14:01:09.917700",
     "exception": false,
     "start_time": "2022-07-19T14:01:09.900170",
     "status": "completed"
    },
    "tags": []
   },
   "source": [
    "# **some statistics**"
   ]
  },
  {
   "cell_type": "markdown",
   "id": "d4c82fa3",
   "metadata": {
    "papermill": {
     "duration": 0.018238,
     "end_time": "2022-07-19T14:01:09.954387",
     "exception": false,
     "start_time": "2022-07-19T14:01:09.936149",
     "status": "completed"
    },
    "tags": []
   },
   "source": [
    "**i will divide the numbers to could know the correlation between them**"
   ]
  },
  {
   "cell_type": "code",
   "execution_count": 26,
   "id": "4fa869f4",
   "metadata": {
    "execution": {
     "iopub.execute_input": "2022-07-19T14:01:09.994680Z",
     "iopub.status.busy": "2022-07-19T14:01:09.993167Z",
     "iopub.status.idle": "2022-07-19T14:01:10.000491Z",
     "shell.execute_reply": "2022-07-19T14:01:09.999614Z"
    },
    "papermill": {
     "duration": 0.029542,
     "end_time": "2022-07-19T14:01:10.002977",
     "exception": false,
     "start_time": "2022-07-19T14:01:09.973435",
     "status": "completed"
    },
    "tags": []
   },
   "outputs": [],
   "source": [
    "df_num = df[['release_year', 'runtime',   'seasons',  'imdb_score', 'imdb_votes', 'tmdb_popularity',  'tmdb_score']]\n"
   ]
  },
  {
   "cell_type": "code",
   "execution_count": 27,
   "id": "710737be",
   "metadata": {
    "execution": {
     "iopub.execute_input": "2022-07-19T14:01:10.041270Z",
     "iopub.status.busy": "2022-07-19T14:01:10.040475Z",
     "iopub.status.idle": "2022-07-19T14:01:10.350140Z",
     "shell.execute_reply": "2022-07-19T14:01:10.348992Z"
    },
    "papermill": {
     "duration": 0.331183,
     "end_time": "2022-07-19T14:01:10.352488",
     "exception": false,
     "start_time": "2022-07-19T14:01:10.021305",
     "status": "completed"
    },
    "tags": []
   },
   "outputs": [
    {
     "name": "stdout",
     "output_type": "stream",
     "text": [
      "                 release_year   runtime   seasons  imdb_score  imdb_votes  \\\n",
      "release_year         1.000000 -0.211076 -0.505831   -0.102849   -0.196988   \n",
      "runtime             -0.211076  1.000000 -0.132740   -0.159297    0.138610   \n",
      "seasons             -0.505831 -0.132740  1.000000    0.097727    0.212645   \n",
      "imdb_score          -0.102849 -0.159297  0.097727    1.000000    0.189954   \n",
      "imdb_votes          -0.196988  0.138610  0.212645    0.189954    1.000000   \n",
      "tmdb_popularity      0.025628 -0.027493  0.331362    0.023159    0.201813   \n",
      "tmdb_score           0.049107 -0.285232  0.026796    0.587675    0.109720   \n",
      "\n",
      "                 tmdb_popularity  tmdb_score  \n",
      "release_year            0.025628    0.049107  \n",
      "runtime                -0.027493   -0.285232  \n",
      "seasons                 0.331362    0.026796  \n",
      "imdb_score              0.023159    0.587675  \n",
      "imdb_votes              0.201813    0.109720  \n",
      "tmdb_popularity         1.000000    0.068405  \n",
      "tmdb_score              0.068405    1.000000  \n"
     ]
    },
    {
     "data": {
      "text/plain": [
       "<AxesSubplot:>"
      ]
     },
     "execution_count": 27,
     "metadata": {},
     "output_type": "execute_result"
    },
    {
     "data": {
      "image/png": "[encoded data removed]",
      "text/plain": [
       "<Figure size 432x288 with 2 Axes>"
      ]
     },
     "metadata": {
      "needs_background": "light"
     },
     "output_type": "display_data"
    }
   ],
   "source": [
    "print(df_num.corr())\n",
    "sns.heatmap(df_num.corr())"
   ]
  },
  {
   "cell_type": "markdown",
   "id": "18722ff1",
   "metadata": {
    "papermill": {
     "duration": 0.018606,
     "end_time": "2022-07-19T14:01:10.389317",
     "exception": false,
     "start_time": "2022-07-19T14:01:10.370711",
     "status": "completed"
    },
    "tags": []
   },
   "source": []
  }
 ],
 "metadata": {
  "kernelspec": {
   "display_name": "Python 3",
   "language": "python",
   "name": "python3"
  },
  "language_info": {
   "codemirror_mode": {
    "name": "ipython",
    "version": 3
   },
   "file_extension": ".py",
   "mimetype": "text/x-python",
   "name": "python",
   "nbconvert_exporter": "python",
   "pygments_lexer": "ipython3",
   "version": "3.7.12"
  },
  "papermill": {
   "default_parameters": {},
   "duration": 22.631145,
   "end_time": "2022-07-19T14:01:11.432983",
   "environment_variables": {},
   "exception": null,
   "input_path": "__notebook__.ipynb",
   "output_path": "__notebook__.ipynb",
   "parameters": {},
   "start_time": "2022-07-19T14:00:48.801838",
   "version": "2.3.4"
  }
 },
 "nbformat": 4,
 "nbformat_minor": 5
}
